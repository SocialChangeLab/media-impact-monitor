{
 "cells": [
  {
   "cell_type": "code",
   "execution_count": 16,
   "metadata": {},
   "outputs": [
    {
     "name": "stdout",
     "output_type": "stream",
     "text": [
      "The autoreload extension is already loaded. To reload it, use:\n",
      "  %reload_ext autoreload\n"
     ]
    }
   ],
   "source": [
    "%load_ext autoreload\n",
    "%autoreload 2"
   ]
  },
  {
   "cell_type": "code",
   "execution_count": 17,
   "metadata": {},
   "outputs": [],
   "source": [
    "from datetime import date\n",
    "import pandas as pd\n",
    "import plotly.express as px\n",
    "\n",
    "from media_impact_monitor.policy import get_policy\n",
    "from media_impact_monitor.types_ import PolicySearch"
   ]
  },
  {
   "cell_type": "code",
   "execution_count": 18,
   "metadata": {},
   "outputs": [],
   "source": [
    "start_date = date(2023, 1, 1)\n",
    "end_date = date(2023, 12, 31)\n",
    "policy_type = \"Gesetzgebung\"\n",
    "topic = \"climate_change\"\n",
    "\n",
    "df = get_policy(\n",
    "    PolicySearch(\n",
    "        start_date=start_date,\n",
    "        end_date=end_date,\n",
    "        policy_type=policy_type,\n",
    "        topic=topic,\n",
    "    )\n",
    ")"
   ]
  },
  {
   "cell_type": "code",
   "execution_count": 19,
   "metadata": {},
   "outputs": [
    {
     "data": {
      "text/html": [
       "<div>\n",
       "<style scoped>\n",
       "    .dataframe tbody tr th:only-of-type {\n",
       "        vertical-align: middle;\n",
       "    }\n",
       "\n",
       "    .dataframe tbody tr th {\n",
       "        vertical-align: top;\n",
       "    }\n",
       "\n",
       "    .dataframe thead th {\n",
       "        text-align: right;\n",
       "    }\n",
       "</style>\n",
       "<table border=\"1\" class=\"dataframe\">\n",
       "  <thead>\n",
       "    <tr style=\"text-align: right;\">\n",
       "      <th></th>\n",
       "      <th>id</th>\n",
       "      <th>datum</th>\n",
       "      <th>aktualisiert</th>\n",
       "      <th>vorgangstyp</th>\n",
       "      <th>titel</th>\n",
       "      <th>abstract</th>\n",
       "      <th>initiative</th>\n",
       "      <th>sachgebiet</th>\n",
       "      <th>beratungsstand</th>\n",
       "      <th>filtered_sachgebiete</th>\n",
       "    </tr>\n",
       "  </thead>\n",
       "  <tbody>\n",
       "    <tr>\n",
       "      <th>58</th>\n",
       "      <td>306375</td>\n",
       "      <td>2023-12-15</td>\n",
       "      <td>2024-01-23T15:23:53+01:00</td>\n",
       "      <td>Gesetzgebung</td>\n",
       "      <td>Gesetz zum Erhalt von Streuobstwiesen und Klei...</td>\n",
       "      <td>Anhebung der Jahresproduktionsgrenze steuerbeg...</td>\n",
       "      <td>[Fraktion der AfD]</td>\n",
       "      <td>[Landwirtschaft und Ernährung, Wirtschaft, Öff...</td>\n",
       "      <td>Beschlussempfehlung liegt vor</td>\n",
       "      <td>[Landwirtschaft und Ernährung]</td>\n",
       "    </tr>\n",
       "    <tr>\n",
       "      <th>71</th>\n",
       "      <td>302867</td>\n",
       "      <td>2023-12-15</td>\n",
       "      <td>2024-03-06T15:49:45+01:00</td>\n",
       "      <td>Gesetzgebung</td>\n",
       "      <td>Bundes-Klimaanpassungsgesetz (KAnG)</td>\n",
       "      <td>Schaffung eines verbindlichen und strategische...</td>\n",
       "      <td>[Bundesregierung]</td>\n",
       "      <td>[Staat und Verwaltung, Umwelt]</td>\n",
       "      <td>Verkündet</td>\n",
       "      <td>[Umwelt]</td>\n",
       "    </tr>\n",
       "    <tr>\n",
       "      <th>74</th>\n",
       "      <td>302822</td>\n",
       "      <td>2023-12-15</td>\n",
       "      <td>2024-03-13T15:42:03+01:00</td>\n",
       "      <td>Gesetzgebung</td>\n",
       "      <td>Drittes Gesetz zur Änderung des Mess- und Eich...</td>\n",
       "      <td>Entfristung der für Smart-Meter-Gateways gelte...</td>\n",
       "      <td>[Bundesregierung]</td>\n",
       "      <td>[Energie, Medien, Kommunikation und Informatio...</td>\n",
       "      <td>Verkündet</td>\n",
       "      <td>[Energie]</td>\n",
       "    </tr>\n",
       "    <tr>\n",
       "      <th>85</th>\n",
       "      <td>306948</td>\n",
       "      <td>2023-12-13</td>\n",
       "      <td>2024-01-02T11:08:26+01:00</td>\n",
       "      <td>Gesetzgebung</td>\n",
       "      <td>... Gesetz zur Änderung des Windenergieflächen...</td>\n",
       "      <td>Verpflichtung der Dienststellen der Bundeswehr...</td>\n",
       "      <td>[Bayern]</td>\n",
       "      <td>[Energie, Verteidigung]</td>\n",
       "      <td>Noch nicht beraten</td>\n",
       "      <td>[Energie]</td>\n",
       "    </tr>\n",
       "    <tr>\n",
       "      <th>88</th>\n",
       "      <td>303057</td>\n",
       "      <td>2023-12-06</td>\n",
       "      <td>2023-12-11T10:26:37+01:00</td>\n",
       "      <td>Gesetzgebung</td>\n",
       "      <td>... Gesetz zur Änderung des Bundeskleingarteng...</td>\n",
       "      <td>Zulassung von Photovoltaikanlagen bis zu einer...</td>\n",
       "      <td>[Bayern]</td>\n",
       "      <td>[Energie, Raumordnung, Bau- und Wohnungswesen]</td>\n",
       "      <td>Dem Bundestag zugeleitet - Noch nicht beraten</td>\n",
       "      <td>[Energie, Raumordnung, Bau- und Wohnungswesen]</td>\n",
       "    </tr>\n",
       "    <tr>\n",
       "      <th>...</th>\n",
       "      <td>...</td>\n",
       "      <td>...</td>\n",
       "      <td>...</td>\n",
       "      <td>...</td>\n",
       "      <td>...</td>\n",
       "      <td>...</td>\n",
       "      <td>...</td>\n",
       "      <td>...</td>\n",
       "      <td>...</td>\n",
       "      <td>...</td>\n",
       "    </tr>\n",
       "    <tr>\n",
       "      <th>236</th>\n",
       "      <td>291426</td>\n",
       "      <td>2023-01-31</td>\n",
       "      <td>2023-02-06T14:09:31+01:00</td>\n",
       "      <td>Gesetzgebung</td>\n",
       "      <td>Gesetz zur Änderung des Energiesicherungsgeset...</td>\n",
       "      <td>Reduzierung des Gasverbrauchs bei sichergestel...</td>\n",
       "      <td>[Fraktion BÜNDNIS 90/DIE GRÜNEN, Fraktion der ...</td>\n",
       "      <td>[Energie, Wirtschaft]</td>\n",
       "      <td>Verkündet</td>\n",
       "      <td>[Energie]</td>\n",
       "    </tr>\n",
       "    <tr>\n",
       "      <th>237</th>\n",
       "      <td>286387</td>\n",
       "      <td>2023-01-31</td>\n",
       "      <td>2024-02-19T15:09:57+01:00</td>\n",
       "      <td>Gesetzgebung</td>\n",
       "      <td>Gesetz zur Änderung des Energiewirtschaftsrech...</td>\n",
       "      <td>Weiterer Ausbau der Stromnetze und Beseitigung...</td>\n",
       "      <td>[Bundesregierung]</td>\n",
       "      <td>[Energie, Umwelt]</td>\n",
       "      <td>Verkündet</td>\n",
       "      <td>[Energie, Umwelt]</td>\n",
       "    </tr>\n",
       "    <tr>\n",
       "      <th>238</th>\n",
       "      <td>285557</td>\n",
       "      <td>2023-01-30</td>\n",
       "      <td>2023-09-18T13:35:59+02:00</td>\n",
       "      <td>Gesetzgebung</td>\n",
       "      <td>Gesetz zur Regelung eines Sofortzuschlages und...</td>\n",
       "      <td>Einführung eines Sofortzuschlags für von Armut...</td>\n",
       "      <td>[Bundesregierung]</td>\n",
       "      <td>[Gesellschaftspolitik, soziale Gruppen, Raumor...</td>\n",
       "      <td>Verkündet</td>\n",
       "      <td>[Raumordnung, Bau- und Wohnungswesen]</td>\n",
       "    </tr>\n",
       "    <tr>\n",
       "      <th>239</th>\n",
       "      <td>293428</td>\n",
       "      <td>2023-01-26</td>\n",
       "      <td>2023-04-18T11:04:37+02:00</td>\n",
       "      <td>Gesetzgebung</td>\n",
       "      <td>Gesetz zur Änderung des Strafgesetzbuches - En...</td>\n",
       "      <td>Ausschluss der Strafbarkeit wegen Diebstahls v...</td>\n",
       "      <td>[Fraktion DIE LINKE]</td>\n",
       "      <td>[Landwirtschaft und Ernährung, Recht]</td>\n",
       "      <td>Überwiesen</td>\n",
       "      <td>[Landwirtschaft und Ernährung]</td>\n",
       "    </tr>\n",
       "    <tr>\n",
       "      <th>240</th>\n",
       "      <td>288660</td>\n",
       "      <td>2023-01-26</td>\n",
       "      <td>2023-01-30T18:43:07+01:00</td>\n",
       "      <td>Gesetzgebung</td>\n",
       "      <td>Gesetz zur Änderung des Strafgesetzbuchs - Str...</td>\n",
       "      <td>Entkriminalisierung und Beendigung der Doppelb...</td>\n",
       "      <td>[Fraktion DIE LINKE]</td>\n",
       "      <td>[Recht, Verkehr]</td>\n",
       "      <td>Überwiesen</td>\n",
       "      <td>[Verkehr]</td>\n",
       "    </tr>\n",
       "  </tbody>\n",
       "</table>\n",
       "<p>65 rows × 10 columns</p>\n",
       "</div>"
      ],
      "text/plain": [
       "         id       datum               aktualisiert   vorgangstyp  \\\n",
       "58   306375  2023-12-15  2024-01-23T15:23:53+01:00  Gesetzgebung   \n",
       "71   302867  2023-12-15  2024-03-06T15:49:45+01:00  Gesetzgebung   \n",
       "74   302822  2023-12-15  2024-03-13T15:42:03+01:00  Gesetzgebung   \n",
       "85   306948  2023-12-13  2024-01-02T11:08:26+01:00  Gesetzgebung   \n",
       "88   303057  2023-12-06  2023-12-11T10:26:37+01:00  Gesetzgebung   \n",
       "..      ...         ...                        ...           ...   \n",
       "236  291426  2023-01-31  2023-02-06T14:09:31+01:00  Gesetzgebung   \n",
       "237  286387  2023-01-31  2024-02-19T15:09:57+01:00  Gesetzgebung   \n",
       "238  285557  2023-01-30  2023-09-18T13:35:59+02:00  Gesetzgebung   \n",
       "239  293428  2023-01-26  2023-04-18T11:04:37+02:00  Gesetzgebung   \n",
       "240  288660  2023-01-26  2023-01-30T18:43:07+01:00  Gesetzgebung   \n",
       "\n",
       "                                                 titel  \\\n",
       "58   Gesetz zum Erhalt von Streuobstwiesen und Klei...   \n",
       "71                 Bundes-Klimaanpassungsgesetz (KAnG)   \n",
       "74   Drittes Gesetz zur Änderung des Mess- und Eich...   \n",
       "85   ... Gesetz zur Änderung des Windenergieflächen...   \n",
       "88   ... Gesetz zur Änderung des Bundeskleingarteng...   \n",
       "..                                                 ...   \n",
       "236  Gesetz zur Änderung des Energiesicherungsgeset...   \n",
       "237  Gesetz zur Änderung des Energiewirtschaftsrech...   \n",
       "238  Gesetz zur Regelung eines Sofortzuschlages und...   \n",
       "239  Gesetz zur Änderung des Strafgesetzbuches - En...   \n",
       "240  Gesetz zur Änderung des Strafgesetzbuchs - Str...   \n",
       "\n",
       "                                              abstract  \\\n",
       "58   Anhebung der Jahresproduktionsgrenze steuerbeg...   \n",
       "71   Schaffung eines verbindlichen und strategische...   \n",
       "74   Entfristung der für Smart-Meter-Gateways gelte...   \n",
       "85   Verpflichtung der Dienststellen der Bundeswehr...   \n",
       "88   Zulassung von Photovoltaikanlagen bis zu einer...   \n",
       "..                                                 ...   \n",
       "236  Reduzierung des Gasverbrauchs bei sichergestel...   \n",
       "237  Weiterer Ausbau der Stromnetze und Beseitigung...   \n",
       "238  Einführung eines Sofortzuschlags für von Armut...   \n",
       "239  Ausschluss der Strafbarkeit wegen Diebstahls v...   \n",
       "240  Entkriminalisierung und Beendigung der Doppelb...   \n",
       "\n",
       "                                            initiative  \\\n",
       "58                                  [Fraktion der AfD]   \n",
       "71                                   [Bundesregierung]   \n",
       "74                                   [Bundesregierung]   \n",
       "85                                            [Bayern]   \n",
       "88                                            [Bayern]   \n",
       "..                                                 ...   \n",
       "236  [Fraktion BÜNDNIS 90/DIE GRÜNEN, Fraktion der ...   \n",
       "237                                  [Bundesregierung]   \n",
       "238                                  [Bundesregierung]   \n",
       "239                               [Fraktion DIE LINKE]   \n",
       "240                               [Fraktion DIE LINKE]   \n",
       "\n",
       "                                            sachgebiet  \\\n",
       "58   [Landwirtschaft und Ernährung, Wirtschaft, Öff...   \n",
       "71                      [Staat und Verwaltung, Umwelt]   \n",
       "74   [Energie, Medien, Kommunikation und Informatio...   \n",
       "85                             [Energie, Verteidigung]   \n",
       "88      [Energie, Raumordnung, Bau- und Wohnungswesen]   \n",
       "..                                                 ...   \n",
       "236                              [Energie, Wirtschaft]   \n",
       "237                                  [Energie, Umwelt]   \n",
       "238  [Gesellschaftspolitik, soziale Gruppen, Raumor...   \n",
       "239              [Landwirtschaft und Ernährung, Recht]   \n",
       "240                                   [Recht, Verkehr]   \n",
       "\n",
       "                                    beratungsstand  \\\n",
       "58                   Beschlussempfehlung liegt vor   \n",
       "71                                       Verkündet   \n",
       "74                                       Verkündet   \n",
       "85                              Noch nicht beraten   \n",
       "88   Dem Bundestag zugeleitet - Noch nicht beraten   \n",
       "..                                             ...   \n",
       "236                                      Verkündet   \n",
       "237                                      Verkündet   \n",
       "238                                      Verkündet   \n",
       "239                                     Überwiesen   \n",
       "240                                     Überwiesen   \n",
       "\n",
       "                               filtered_sachgebiete  \n",
       "58                   [Landwirtschaft und Ernährung]  \n",
       "71                                         [Umwelt]  \n",
       "74                                        [Energie]  \n",
       "85                                        [Energie]  \n",
       "88   [Energie, Raumordnung, Bau- und Wohnungswesen]  \n",
       "..                                              ...  \n",
       "236                                       [Energie]  \n",
       "237                               [Energie, Umwelt]  \n",
       "238           [Raumordnung, Bau- und Wohnungswesen]  \n",
       "239                  [Landwirtschaft und Ernährung]  \n",
       "240                                       [Verkehr]  \n",
       "\n",
       "[65 rows x 10 columns]"
      ]
     },
     "execution_count": 19,
     "metadata": {},
     "output_type": "execute_result"
    }
   ],
   "source": [
    "df"
   ]
  },
  {
   "cell_type": "code",
   "execution_count": 20,
   "metadata": {},
   "outputs": [
    {
     "name": "stdout",
     "output_type": "stream",
     "text": [
      "<class 'pandas.core.frame.DataFrame'>\n",
      "Index: 65 entries, 58 to 240\n",
      "Data columns (total 10 columns):\n",
      " #   Column                Non-Null Count  Dtype \n",
      "---  ------                --------------  ----- \n",
      " 0   id                    65 non-null     string\n",
      " 1   datum                 65 non-null     object\n",
      " 2   aktualisiert          65 non-null     string\n",
      " 3   vorgangstyp           65 non-null     string\n",
      " 4   titel                 65 non-null     string\n",
      " 5   abstract              65 non-null     string\n",
      " 6   initiative            65 non-null     object\n",
      " 7   sachgebiet            65 non-null     object\n",
      " 8   beratungsstand        65 non-null     string\n",
      " 9   filtered_sachgebiete  65 non-null     object\n",
      "dtypes: object(4), string(6)\n",
      "memory usage: 5.6+ KB\n"
     ]
    }
   ],
   "source": [
    "df.info()"
   ]
  },
  {
   "cell_type": "code",
   "execution_count": 21,
   "metadata": {},
   "outputs": [
    {
     "data": {
      "text/html": [
       "<div>\n",
       "<style scoped>\n",
       "    .dataframe tbody tr th:only-of-type {\n",
       "        vertical-align: middle;\n",
       "    }\n",
       "\n",
       "    .dataframe tbody tr th {\n",
       "        vertical-align: top;\n",
       "    }\n",
       "\n",
       "    .dataframe thead th {\n",
       "        text-align: right;\n",
       "    }\n",
       "</style>\n",
       "<table border=\"1\" class=\"dataframe\">\n",
       "  <thead>\n",
       "    <tr style=\"text-align: right;\">\n",
       "      <th></th>\n",
       "      <th>id</th>\n",
       "      <th>datum</th>\n",
       "      <th>aktualisiert</th>\n",
       "      <th>vorgangstyp</th>\n",
       "      <th>titel</th>\n",
       "      <th>abstract</th>\n",
       "      <th>initiative</th>\n",
       "      <th>sachgebiet</th>\n",
       "      <th>beratungsstand</th>\n",
       "      <th>filtered_sachgebiete</th>\n",
       "    </tr>\n",
       "  </thead>\n",
       "  <tbody>\n",
       "    <tr>\n",
       "      <th>58</th>\n",
       "      <td>306375</td>\n",
       "      <td>2023-12-15</td>\n",
       "      <td>2024-01-23T15:23:53+01:00</td>\n",
       "      <td>Gesetzgebung</td>\n",
       "      <td>Gesetz zum Erhalt von Streuobstwiesen und Klei...</td>\n",
       "      <td>Anhebung der Jahresproduktionsgrenze steuerbeg...</td>\n",
       "      <td>[Fraktion der AfD]</td>\n",
       "      <td>[Landwirtschaft und Ernährung, Wirtschaft, Öff...</td>\n",
       "      <td>Beschlussempfehlung liegt vor</td>\n",
       "      <td>[Landwirtschaft und Ernährung]</td>\n",
       "    </tr>\n",
       "    <tr>\n",
       "      <th>71</th>\n",
       "      <td>302867</td>\n",
       "      <td>2023-12-15</td>\n",
       "      <td>2024-03-06T15:49:45+01:00</td>\n",
       "      <td>Gesetzgebung</td>\n",
       "      <td>Bundes-Klimaanpassungsgesetz (KAnG)</td>\n",
       "      <td>Schaffung eines verbindlichen und strategische...</td>\n",
       "      <td>[Bundesregierung]</td>\n",
       "      <td>[Staat und Verwaltung, Umwelt]</td>\n",
       "      <td>Verkündet</td>\n",
       "      <td>[Umwelt]</td>\n",
       "    </tr>\n",
       "    <tr>\n",
       "      <th>74</th>\n",
       "      <td>302822</td>\n",
       "      <td>2023-12-15</td>\n",
       "      <td>2024-03-13T15:42:03+01:00</td>\n",
       "      <td>Gesetzgebung</td>\n",
       "      <td>Drittes Gesetz zur Änderung des Mess- und Eich...</td>\n",
       "      <td>Entfristung der für Smart-Meter-Gateways gelte...</td>\n",
       "      <td>[Bundesregierung]</td>\n",
       "      <td>[Energie, Medien, Kommunikation und Informatio...</td>\n",
       "      <td>Verkündet</td>\n",
       "      <td>[Energie]</td>\n",
       "    </tr>\n",
       "    <tr>\n",
       "      <th>85</th>\n",
       "      <td>306948</td>\n",
       "      <td>2023-12-13</td>\n",
       "      <td>2024-01-02T11:08:26+01:00</td>\n",
       "      <td>Gesetzgebung</td>\n",
       "      <td>... Gesetz zur Änderung des Windenergieflächen...</td>\n",
       "      <td>Verpflichtung der Dienststellen der Bundeswehr...</td>\n",
       "      <td>[Bayern]</td>\n",
       "      <td>[Energie, Verteidigung]</td>\n",
       "      <td>Noch nicht beraten</td>\n",
       "      <td>[Energie]</td>\n",
       "    </tr>\n",
       "    <tr>\n",
       "      <th>88</th>\n",
       "      <td>303057</td>\n",
       "      <td>2023-12-06</td>\n",
       "      <td>2023-12-11T10:26:37+01:00</td>\n",
       "      <td>Gesetzgebung</td>\n",
       "      <td>... Gesetz zur Änderung des Bundeskleingarteng...</td>\n",
       "      <td>Zulassung von Photovoltaikanlagen bis zu einer...</td>\n",
       "      <td>[Bayern]</td>\n",
       "      <td>[Energie, Raumordnung, Bau- und Wohnungswesen]</td>\n",
       "      <td>Dem Bundestag zugeleitet - Noch nicht beraten</td>\n",
       "      <td>[Energie, Raumordnung, Bau- und Wohnungswesen]</td>\n",
       "    </tr>\n",
       "  </tbody>\n",
       "</table>\n",
       "</div>"
      ],
      "text/plain": [
       "        id       datum               aktualisiert   vorgangstyp  \\\n",
       "58  306375  2023-12-15  2024-01-23T15:23:53+01:00  Gesetzgebung   \n",
       "71  302867  2023-12-15  2024-03-06T15:49:45+01:00  Gesetzgebung   \n",
       "74  302822  2023-12-15  2024-03-13T15:42:03+01:00  Gesetzgebung   \n",
       "85  306948  2023-12-13  2024-01-02T11:08:26+01:00  Gesetzgebung   \n",
       "88  303057  2023-12-06  2023-12-11T10:26:37+01:00  Gesetzgebung   \n",
       "\n",
       "                                                titel  \\\n",
       "58  Gesetz zum Erhalt von Streuobstwiesen und Klei...   \n",
       "71                Bundes-Klimaanpassungsgesetz (KAnG)   \n",
       "74  Drittes Gesetz zur Änderung des Mess- und Eich...   \n",
       "85  ... Gesetz zur Änderung des Windenergieflächen...   \n",
       "88  ... Gesetz zur Änderung des Bundeskleingarteng...   \n",
       "\n",
       "                                             abstract          initiative  \\\n",
       "58  Anhebung der Jahresproduktionsgrenze steuerbeg...  [Fraktion der AfD]   \n",
       "71  Schaffung eines verbindlichen und strategische...   [Bundesregierung]   \n",
       "74  Entfristung der für Smart-Meter-Gateways gelte...   [Bundesregierung]   \n",
       "85  Verpflichtung der Dienststellen der Bundeswehr...            [Bayern]   \n",
       "88  Zulassung von Photovoltaikanlagen bis zu einer...            [Bayern]   \n",
       "\n",
       "                                           sachgebiet  \\\n",
       "58  [Landwirtschaft und Ernährung, Wirtschaft, Öff...   \n",
       "71                     [Staat und Verwaltung, Umwelt]   \n",
       "74  [Energie, Medien, Kommunikation und Informatio...   \n",
       "85                            [Energie, Verteidigung]   \n",
       "88     [Energie, Raumordnung, Bau- und Wohnungswesen]   \n",
       "\n",
       "                                   beratungsstand  \\\n",
       "58                  Beschlussempfehlung liegt vor   \n",
       "71                                      Verkündet   \n",
       "74                                      Verkündet   \n",
       "85                             Noch nicht beraten   \n",
       "88  Dem Bundestag zugeleitet - Noch nicht beraten   \n",
       "\n",
       "                              filtered_sachgebiete  \n",
       "58                  [Landwirtschaft und Ernährung]  \n",
       "71                                        [Umwelt]  \n",
       "74                                       [Energie]  \n",
       "85                                       [Energie]  \n",
       "88  [Energie, Raumordnung, Bau- und Wohnungswesen]  "
      ]
     },
     "execution_count": 21,
     "metadata": {},
     "output_type": "execute_result"
    }
   ],
   "source": [
    "df.head()"
   ]
  },
  {
   "cell_type": "code",
   "execution_count": 22,
   "metadata": {},
   "outputs": [
    {
     "data": {
      "text/plain": [
       "datetime.date(2023, 1, 26)"
      ]
     },
     "execution_count": 22,
     "metadata": {},
     "output_type": "execute_result"
    }
   ],
   "source": [
    "# df.describe(include=\"all\")"
   ]
  },
  {
   "cell_type": "code",
   "execution_count": 23,
   "metadata": {},
   "outputs": [],
   "source": [
    "# FIXME\n",
    "# only a workaround for when there are multiple sachgebiete, just take the first\n",
    "df[\"first_filtered_sachgebiet\"] = df[\"filtered_sachgebiete\"].apply(lambda x: x[0])\n",
    "# df['first_filtered_sachgebiet']"
   ]
  },
  {
   "cell_type": "code",
   "execution_count": 24,
   "metadata": {},
   "outputs": [],
   "source": [
    "# text wrap\n",
    "df[\"titel_wrap\"] = df[\"titel\"].str.wrap(30).apply(lambda x: x.replace(\"\\n\", \"<br>\"))"
   ]
  },
  {
   "cell_type": "code",
   "execution_count": 33,
   "metadata": {},
   "outputs": [],
   "source": [
    "# df[\"initiative\"].value_counts()\n",
    "df[\"initiative_str\"] = df[\"initiative\"].apply(lambda x: \", \".join(x))"
   ]
  },
  {
   "cell_type": "code",
   "execution_count": 36,
   "metadata": {},
   "outputs": [
    {
     "data": {
      "application/vnd.plotly.v1+json": {
       "config": {
        "plotlyServerURL": "https://plot.ly"
       },
       "data": [
        {
         "alignmentgroup": "True",
         "boxpoints": "all",
         "customdata": [
          [
           "Gesetz zum Erhalt von<br>Streuobstwiesen und<br>Kleinbrennereien",
           "Landwirtschaft und Ernährung",
           "Beschlussempfehlung liegt vor",
           "Fraktion der AfD"
          ],
          [
           "Zweites Gesetz zur Änderung<br>des Düngegesetzes",
           "Landwirtschaft und Ernährung",
           "Überwiesen",
           "Bundesregierung"
          ],
          [
           "Elftes Gesetz zur Änderung des<br>Weingesetzes",
           "Landwirtschaft und Ernährung",
           "Verkündet",
           "Bundesregierung"
          ],
          [
           "Gesetz zur Kennzeichnung von<br>Lebensmitteln mit der<br>Haltungsform der Tiere, von<br>denen die Lebensmittel<br>gewonnen wurden (Tierhaltungsk<br>ennzeichnungsgesetz -<br>TierHaltKennzG)",
           "Landwirtschaft und Ernährung",
           "Verkündet",
           "Bundesregierung"
          ],
          [
           "Gesetz zur Änderung des<br>Agrarstatistikgesetzes und des<br>Lebensmittelspezialitätengeset<br>zes",
           "Landwirtschaft und Ernährung",
           "Verkündet",
           "Bundesregierung"
          ],
          [
           "Gesetz zur Erleichterung der<br>baulichen Anpassung von<br>Tierhaltungsanlagen an die<br>Anforderungen des Tierhaltungs<br>kennzeichnungsgesetzes",
           "Landwirtschaft und Ernährung",
           "Verkündet",
           "Fraktion BÜNDNIS 90/DIE GRÜNEN, Fraktion der FDP, Fraktion der SPD"
          ],
          [
           "Gesetz zur Änderung des Öko-<br>Landbaugesetzes, des Öko-<br>Kennzeichengesetzes und des<br>Gesetzes zur Änderung des<br>Tierschutzgesetzes - Verbot<br>des Kükentötens",
           "Landwirtschaft und Ernährung",
           "Verkündet",
           "Bundesregierung"
          ],
          [
           "Gesetz zur Regelung einzelner<br>dem Schutz der finanziellen<br>Interessen der Union dienender<br>Bestimmungen im Rahmen der<br>Gemeinsamen Agrarpolitik, zur<br>Änderung des<br>Betäubungsmittelgesetzes sowie<br>zur Aufhebung weiterer<br>Vorschriften",
           "Landwirtschaft und Ernährung",
           "Verkündet",
           "Bundesregierung"
          ],
          [
           "... Gesetz zur Änderung des<br>Marktorganisationsgesetzes",
           "Landwirtschaft und Ernährung",
           "Dem Bundestag zugeleitet - Noch nicht beraten",
           "Bayern"
          ],
          [
           "Gesetz zur Änderung des<br>Strafgesetzbuches -<br>Entkriminalisierung des<br>Containerns von Lebensmitteln",
           "Landwirtschaft und Ernährung",
           "Überwiesen",
           "Fraktion DIE LINKE"
          ]
         ],
         "fillcolor": "rgba(255,255,255,0)",
         "hoveron": "points",
         "hovertemplate": "Datum=%{x}<br>Titel=%{customdata[0]}<br>Beratungsstand=%{customdata[2]}<br>initiative_str=%{customdata[3]}<extra></extra>",
         "legendgroup": "Landwirtschaft und Ernährung",
         "line": {
          "color": "rgba(255,255,255,0)"
         },
         "marker": {
          "color": "#636efa",
          "size": 10
         },
         "name": "Landwirtschaft und Ernährung",
         "offsetgroup": "Landwirtschaft und Ernährung",
         "orientation": "h",
         "pointpos": 0,
         "showlegend": true,
         "type": "box",
         "x": [
          "2023-12-15",
          "2023-10-19",
          "2023-09-29",
          "2023-09-20",
          "2023-08-31",
          "2023-07-07",
          "2023-07-07",
          "2023-07-07",
          "2023-05-10",
          "2023-01-26"
         ],
         "x0": " ",
         "xaxis": "x",
         "y0": " ",
         "yaxis": "y"
        },
        {
         "alignmentgroup": "True",
         "boxpoints": "all",
         "customdata": [
          [
           "Bundes-Klimaanpassungsgesetz<br>(KAnG)",
           "Umwelt",
           "Verkündet",
           "Bundesregierung"
          ],
          [
           "Gesetz zur Stärkung des<br>Klimaschutzes durch eine<br>Beschleunigung des Ausbaus der<br>Schieneninfrastruktur - Klimas<br>chutzbeschleunigungsgesetz<br>Schiene",
           "Umwelt",
           "Dem Bundestag zugeleitet - Noch nicht beraten",
           "Brandenburg, Sachsen-Anhalt, Berlin, Sachsen"
          ],
          [
           "Drittes Gesetz zur Änderung<br>mautrechtlicher Vorschriften",
           "Umwelt",
           "Verkündet",
           "Bundesregierung"
          ],
          [
           "Viertes Gesetz zur Änderung<br>des Chemikaliengesetzes",
           "Umwelt",
           "Verkündet",
           "Bundesregierung"
          ],
          [
           "Gesetz zu der Entschließung<br>LP.3(4) vom 30. Oktober 2009<br>über die Änderung des Artikels<br>6 des Protokolls vom 7.<br>November 1996 zum<br>Übereinkommen über die<br>Verhütung der<br>Meeresverschmutzung durch das<br>Einbringen von Abfällen und<br>sonstigen Stoffen von 1972",
           "Umwelt",
           "Abgelehnt",
           "Fraktion der CDU/CSU"
          ],
          [
           "Gesetz zur Umsetzung von<br>Artikel 8 Absatz 1 bis 7 der<br>Richtlinie (EU) 2019/904 des<br>Europäischen Parlaments und<br>des Rates vom 5. Juni 2019<br>über die Verringerung der<br>Auswirkungen bestimmter<br>Kunststoffprodukte auf die<br>Umwelt",
           "Umwelt",
           "Verkündet",
           "Bundesregierung"
          ]
         ],
         "fillcolor": "rgba(255,255,255,0)",
         "hoveron": "points",
         "hovertemplate": "Datum=%{x}<br>Titel=%{customdata[0]}<br>Beratungsstand=%{customdata[2]}<br>initiative_str=%{customdata[3]}<extra></extra>",
         "legendgroup": "Umwelt",
         "line": {
          "color": "rgba(255,255,255,0)"
         },
         "marker": {
          "color": "#EF553B",
          "size": 10
         },
         "name": "Umwelt",
         "offsetgroup": "Umwelt",
         "orientation": "h",
         "pointpos": 0,
         "showlegend": true,
         "type": "box",
         "x": [
          "2023-12-15",
          "2023-11-15",
          "2023-10-20",
          "2023-10-20",
          "2023-10-12",
          "2023-03-31"
         ],
         "x0": " ",
         "xaxis": "x",
         "y0": " ",
         "yaxis": "y"
        },
        {
         "alignmentgroup": "True",
         "boxpoints": "all",
         "customdata": [
          [
           "Drittes Gesetz zur Änderung<br>des Mess- und Eichgesetzes",
           "Energie",
           "Verkündet",
           "Bundesregierung"
          ],
          [
           "... Gesetz zur Änderung des Wi<br>ndenergieflächenbedarfsgesetze<br>s",
           "Energie",
           "Noch nicht beraten",
           "Bayern"
          ],
          [
           "... Gesetz zur Änderung des<br>Bundeskleingartengesetzes",
           "Energie",
           "Dem Bundestag zugeleitet - Noch nicht beraten",
           "Bayern"
          ],
          [
           "Gesetz zur Anpassung des<br>Energiewirtschaftsrechts an<br>unionsrechtliche Vorgaben und<br>zur Änderung weiterer<br>energierechtlicher<br>Vorschriften",
           "Energie",
           "Verkündet",
           "Bundesregierung"
          ],
          [
           "... Gesetz zur Änderung des<br>Atomgesetzes",
           "Energie",
           "Abgelehnt",
           "Fraktion der AfD"
          ],
          [
           "Gesetz zur Änderung des<br>Erdgas-Wärme-<br>Preisbremsengesetzes, zur<br>Änderung des<br>Strompreisbremsegesetzes sowie<br>zur Änderung weiterer<br>energiewirtschaftlicher,<br>umweltrechtlicher und<br>sozialrechtlicher Gesetze",
           "Energie",
           "Verkündet",
           "Bundesregierung"
          ],
          [
           "Gesetz zur Steigerung der<br>Energieeffizienz und zur<br>Änderung des<br>Energiedienstleistungsgesetzes",
           "Energie",
           "Verkündet",
           "Bundesregierung"
          ],
          [
           "Gesetz zur Änderung des<br>Gebäudeenergiegesetzes, zur<br>Änderung des Bürgerlichen<br>Gesetzbuches, zur Änderung der<br>Verordnung über<br>Heizkostenabrechnung, zur<br>Änderung der<br>Betriebskostenverordnung und<br>zur Änderung der Kehr- und<br>Überprüfungsordnung<br>[Heizungsgesetz]",
           "Energie",
           "Verkündet",
           "Bundesregierung"
          ],
          [
           "Gesetz zur Vereinheitlichung<br>des Energieeinsparrechts für<br>Gebäude und zur Änderung<br>weiterer Gesetze",
           "Energie",
           "Verkündet",
           "Bundesregierung"
          ],
          [
           "Gesetz zur Änderung des LNG-<br>Beschleunigungsgesetzes und<br>zur Änderung des<br>Energiewirtschaftsgesetzes und<br>zur Änderung des<br>Baugesetzbuchs",
           "Energie",
           "Verkündet",
           "Bundesregierung"
          ],
          [
           "Gesetz zur Änderung des<br>Gesetzes gegen<br>Wettbewerbsbeschränkungen",
           "Energie",
           "Beschlussempfehlung liegt vor",
           "Fraktion der AfD"
          ],
          [
           "Gesetz zum beschleunigten<br>Ausbau von Balkonkraftwerken<br>(BalKraftBeschG)",
           "Energie",
           "Überwiesen",
           "Fraktion der CDU/CSU"
          ],
          [
           "Gesetz zur Änderung des<br>Energiesicherungsgesetzes und<br>des Gesetzes gegen<br>Wettbewerbsbeschränkungen",
           "Energie",
           "Verkündet",
           "Fraktion BÜNDNIS 90/DIE GRÜNEN, Fraktion der FDP, Fraktion der SPD"
          ],
          [
           "Gesetz zum Neustart der<br>Digitalisierung der<br>Energiewende",
           "Energie",
           "Verkündet",
           "Fraktion BÜNDNIS 90/DIE GRÜNEN, Fraktion der FDP, Fraktion der SPD"
          ],
          [
           "Zwanzigstes Gesetz zur<br>Änderung des Atomgesetzes",
           "Energie",
           "Abgelehnt",
           "Fraktion der AfD"
          ],
          [
           "Gesetz zum Neustart der<br>Digitalisierung der<br>Energiewende",
           "Energie",
           "Für erledigt erklärt",
           "Bundesregierung"
          ],
          [
           "Gesetz zur Zahlung einer<br>Energiepreispauschale an<br>Renten- und<br>Versorgungsbeziehende und zur<br>Erweiterung des<br>Übergangsbereichs",
           "Energie",
           "Verkündet",
           "Fraktion BÜNDNIS 90/DIE GRÜNEN, Fraktion der FDP, Fraktion der SPD"
          ],
          [
           "Gesetz zur Änderung des<br>Strompreisbremsegesetzes sowie<br>zur Änderung des Erdgas-Wärme-<br>Preisbremsengesetzes",
           "Energie",
           "Verkündet",
           "Fraktion BÜNDNIS 90/DIE GRÜNEN, Fraktion der FDP, Fraktion der SPD"
          ],
          [
           "... Gesetz zur Änderung des<br>Wasserhaushaltsgesetzes",
           "Energie",
           "Dem Bundestag zugeleitet - Noch nicht beraten",
           "Bayern"
          ],
          [
           "Gesetz zur Sicherung<br>bezahlbarer Stromversorgung (S<br>tromversorgungssicherungsgeset<br>z - SVSG)",
           "Energie",
           "Überwiesen",
           "Fraktion der CDU/CSU"
          ],
          [
           "Gesetz zur Beschleunigung von<br>verwaltungsgerichtlichen<br>Verfahren im<br>Infrastrukturbereich",
           "Energie",
           "Verkündet",
           "Bundesregierung"
          ],
          [
           "Gesetz zur Änderung des<br>Raumordnungsgesetzes und<br>anderer Vorschriften (ROGÄndG)",
           "Energie",
           "Verkündet",
           "Bundesregierung"
          ],
          [
           "Gesetz für mehr Transparenz<br>und Öffentlichkeitsbeteiligung<br>im Bergbau",
           "Energie",
           "Noch nicht beraten",
           "Rheinland-Pfalz"
          ],
          [
           "Gesetz zur Änderung des<br>Energiesicherungsgesetzes und<br>anderer<br>energiewirtschaftlicher<br>Vorschriften",
           "Energie",
           "Verkündet",
           "Fraktion BÜNDNIS 90/DIE GRÜNEN, Fraktion der FDP, Fraktion der SPD"
          ],
          [
           "Gesetz zur Änderung des<br>Energiewirtschaftsrechts im<br>Zusammenhang mit dem<br>Klimaschutz-Sofortprogramm und<br>zu Anpassungen im Recht der<br>Endkundenbelieferung",
           "Energie",
           "Verkündet",
           "Bundesregierung"
          ]
         ],
         "fillcolor": "rgba(255,255,255,0)",
         "hoveron": "points",
         "hovertemplate": "Datum=%{x}<br>Titel=%{customdata[0]}<br>Beratungsstand=%{customdata[2]}<br>initiative_str=%{customdata[3]}<extra></extra>",
         "legendgroup": "Energie",
         "line": {
          "color": "rgba(255,255,255,0)"
         },
         "marker": {
          "color": "#00cc96",
          "size": 10
         },
         "name": "Energie",
         "offsetgroup": "Energie",
         "orientation": "h",
         "pointpos": 0,
         "showlegend": true,
         "type": "box",
         "x": [
          "2023-12-15",
          "2023-12-13",
          "2023-12-06",
          "2023-11-24",
          "2023-11-10",
          "2023-11-10",
          "2023-10-20",
          "2023-09-29",
          "2023-09-07",
          "2023-07-07",
          "2023-07-06",
          "2023-05-25",
          "2023-05-12",
          "2023-05-12",
          "2023-04-28",
          "2023-04-21",
          "2023-04-03",
          "2023-03-31",
          "2023-03-29",
          "2023-03-16",
          "2023-03-03",
          "2023-03-03",
          "2023-02-10",
          "2023-01-31",
          "2023-01-31"
         ],
         "x0": " ",
         "xaxis": "x",
         "y0": " ",
         "yaxis": "y"
        },
        {
         "alignmentgroup": "True",
         "boxpoints": "all",
         "customdata": [
          [
           "Zehntes Gesetz zur Änderung<br>des Straßenverkehrsgesetzes",
           "Verkehr",
           "Bundesrat hat Zustimmung versagt",
           "Bundesregierung"
          ],
          [
           "Gesetz zur Beschleunigung von<br>Genehmigungsverfahren im<br>Verkehrsbereich und zur<br>Umsetzung der Richtlinie (EU)<br>2021/1187 über die Straffung<br>von Maßnahmen zur rascheren<br>Verwirklichung des<br>transeuropäischen<br>Verkehrsnetzes",
           "Verkehr",
           "Verkündet",
           "Bundesregierung"
          ],
          [
           "Siebtes Gesetz zur Änderung<br>des Regionalisierungsgesetzes",
           "Verkehr",
           "Verkündet",
           "Fraktion BÜNDNIS 90/DIE GRÜNEN, Fraktion der FDP, Fraktion der SPD"
          ],
          [
           "Gesetz zur Änderung des<br>Verkehrsstatistikgesetzes und<br>des Berufskraftfahrerqualifika<br>tionsgesetzes sowie des<br>Gesetzes zur Überarbeitung des<br>Sanktionenrechts -<br>Ersatzfreiheitsstrafe,<br>Strafzumessung, Auflagen und<br>Weisungen sowie Unterbringung<br>in einer Entziehungsanstalt",
           "Verkehr",
           "Verkündet",
           "Bundesregierung"
          ],
          [
           "Gesetz zur Regelung der<br>Entsendung von Kraftfahrern<br>und Kraftfahrerinnen im<br>Straßenverkehrssektor und zur<br>grenzüberschreitenden<br>Durchsetzung des<br>Entsenderechts",
           "Verkehr",
           "Verkündet",
           "Bundesregierung"
          ],
          [
           "Gesetz zu dem Abkommen vom 7.<br>Februar 2020 zwischen der<br>Bundesrepublik Deutschland und<br>der Republik Angola über den<br>Luftverkehr",
           "Verkehr",
           "Verkündet",
           "Bundesregierung"
          ],
          [
           "Gesetz zu dem Übereinkommen<br>vom 27. Januar 2021 über die<br>Internationale Organisation<br>für Navigationshilfen in der<br>Schifffahrt",
           "Verkehr",
           "Verkündet",
           "Bundesregierung"
          ],
          [
           "Gesetz zur Anpassung des<br>Allgemeinen Eisenbahngesetzes<br>an die Verordnung (EU)<br>2021/782 des Europäischen<br>Parlaments und des Rates vom<br>29. April 2021 über die Rechte<br>und Pflichten der Fahrgäste im<br>Eisenbahnverkehr sowie zur<br>Änderung des<br>Einführungsgesetzes zum<br>Bürgerlichen Gesetzbuche",
           "Verkehr",
           "Verkündet",
           "Bundesregierung"
          ],
          [
           "Gesetz zur weiteren<br>Beschleunigung von Planungs-<br>und Genehmigungsverfahren an<br>Brücken auf Bundesfernstraßen",
           "Verkehr",
           "Abgelehnt",
           "Fraktion der CDU/CSU"
          ],
          [
           "Gesetz zur Änderung des<br>Übereinkommens über die<br>Internationale<br>Seeschifffahrts-Organisation",
           "Verkehr",
           "Verkündet",
           "Bundesregierung"
          ],
          [
           "Neuntes Gesetz zur Änderung<br>des Regionalisierungsgesetzes",
           "Verkehr",
           "Verkündet",
           "Fraktion BÜNDNIS 90/DIE GRÜNEN, Fraktion der FDP, Fraktion der SPD"
          ],
          [
           "Neuntes Gesetz zur Änderung<br>des Regionalisierungsgesetzes",
           "Verkehr",
           "Für erledigt erklärt",
           "Bundesregierung"
          ],
          [
           "Zweites Gesetz zur Änderung<br>schifffahrtsrechtlicher<br>Vorschriften",
           "Verkehr",
           "Verkündet",
           "Bundesregierung"
          ],
          [
           "Gesetz zur Anpassung von<br>Gesetzen und Verordnungen an<br>die neue Behördenbezeichnung<br>des Bundesamtes für<br>Güterverkehr",
           "Verkehr",
           "Verkündet",
           "Bundesregierung"
          ],
          [
           "Gesetz zur Änderung des<br>Strafgesetzbuchs -<br>Straffreiheit für Fahren ohne<br>Fahrschein",
           "Verkehr",
           "Überwiesen",
           "Fraktion DIE LINKE"
          ]
         ],
         "fillcolor": "rgba(255,255,255,0)",
         "hoveron": "points",
         "hovertemplate": "Datum=%{x}<br>Titel=%{customdata[0]}<br>Beratungsstand=%{customdata[2]}<br>initiative_str=%{customdata[3]}<extra></extra>",
         "legendgroup": "Verkehr",
         "line": {
          "color": "rgba(255,255,255,0)"
         },
         "marker": {
          "color": "#ab63fa",
          "size": 10
         },
         "name": "Verkehr",
         "offsetgroup": "Verkehr",
         "orientation": "h",
         "pointpos": 0,
         "showlegend": true,
         "type": "box",
         "x": [
          "2023-11-27",
          "2023-11-24",
          "2023-07-26",
          "2023-07-07",
          "2023-06-16",
          "2023-06-16",
          "2023-06-16",
          "2023-06-16",
          "2023-05-26",
          "2023-05-12",
          "2023-03-31",
          "2023-03-17",
          "2023-03-03",
          "2023-02-10",
          "2023-01-26"
         ],
         "x0": " ",
         "xaxis": "x",
         "y0": " ",
         "yaxis": "y"
        },
        {
         "alignmentgroup": "True",
         "boxpoints": "all",
         "customdata": [
          [
           "Gesetz zur besseren Bekämpfung<br>überhöhter Mieten<br>(Mietwuchergesetz)",
           "Raumordnung, Bau- und Wohnungswesen",
           "Überwiesen",
           "Fraktion DIE LINKE"
          ],
          [
           "... Gesetz zur Änderung des<br>Raumordnungsgesetzes",
           "Raumordnung, Bau- und Wohnungswesen",
           "Einbringung abgelehnt",
           "Bayern"
          ],
          [
           "... Gesetz zur Änderung des<br>Baugesetzbuchs -<br>Bebauungspläne für den<br>Wohnungsbau an kleinen<br>Ortsrandflächen",
           "Raumordnung, Bau- und Wohnungswesen",
           "Noch nicht beraten",
           "Bayern"
          ],
          [
           "Gesetz zur Mobilisierung von<br>Bauland<br>(Baulandmobilisierungsgesetz)",
           "Raumordnung, Bau- und Wohnungswesen",
           "Verkündet",
           "Bundesregierung"
          ],
          [
           "Gesetz zur Gewährung eines<br>einmaligen<br>Heizkostenzuschusses aufgrund<br>stark gestiegener<br>Energiekosten<br>(Heizkostenzuschussgesetz -<br>HeizkZuschG)",
           "Raumordnung, Bau- und Wohnungswesen",
           "Verkündet",
           "Fraktion BÜNDNIS 90/DIE GRÜNEN, Fraktion der FDP, Fraktion der SPD"
          ],
          [
           "Gesetz zur Stärkung des<br>Mieterschutzes bei der<br>Vermietung von möbliertem<br>Wohnraum und bei der<br>Kurzzeitvermietung von<br>Wohnraum in Gebieten mit einem<br>angespannten Wohnungsmarkt",
           "Raumordnung, Bau- und Wohnungswesen",
           "Dem Bundestag zugeleitet - Noch nicht beraten",
           "Hamburg, Bremen"
          ],
          [
           "Gesetz zur Stärkung der<br>Digitalisierung im<br>Bauleitplanverfahren und zur<br>Änderung weiterer Vorschriften",
           "Raumordnung, Bau- und Wohnungswesen",
           "Verkündet",
           "Bundesregierung"
          ],
          [
           "... Gesetz zur Änderung des<br>Baugesetzbuches  - Festsetzung<br>gefördertes Wohnen",
           "Raumordnung, Bau- und Wohnungswesen",
           "Einbringung abgelehnt",
           "Hamburg"
          ],
          [
           "Gesetz zur Regelung eines<br>Sofortzuschlages und einer<br>Einmalzahlung in den sozialen<br>Mindestsicherungssystemen<br>sowie zur Änderung des<br>Finanzausgleichtsgesetzes und<br>weiterer Gesetze",
           "Raumordnung, Bau- und Wohnungswesen",
           "Verkündet",
           "Bundesregierung"
          ]
         ],
         "fillcolor": "rgba(255,255,255,0)",
         "hoveron": "points",
         "hovertemplate": "Datum=%{x}<br>Titel=%{customdata[0]}<br>Beratungsstand=%{customdata[2]}<br>initiative_str=%{customdata[3]}<extra></extra>",
         "legendgroup": "Raumordnung, Bau- und Wohnungswesen",
         "line": {
          "color": "rgba(255,255,255,0)"
         },
         "marker": {
          "color": "#FFA15A",
          "size": 10
         },
         "name": "Raumordnung, Bau- und Wohnungswesen",
         "offsetgroup": "Raumordnung, Bau- und Wohnungswesen",
         "orientation": "h",
         "pointpos": 0,
         "showlegend": true,
         "type": "box",
         "x": [
          "2023-11-16",
          "2023-10-20",
          "2023-09-21",
          "2023-09-01",
          "2023-08-14",
          "2023-07-26",
          "2023-06-16",
          "2023-02-10",
          "2023-01-30"
         ],
         "x0": " ",
         "xaxis": "x",
         "y0": " ",
         "yaxis": "y"
        }
       ],
       "layout": {
        "boxmode": "group",
        "legend": {
         "orientation": "h",
         "title": {},
         "tracegroupgap": 0,
         "x": 1,
         "xanchor": "right",
         "y": 1.02,
         "yanchor": "bottom"
        },
        "template": {
         "data": {
          "bar": [
           {
            "error_x": {
             "color": "#2a3f5f"
            },
            "error_y": {
             "color": "#2a3f5f"
            },
            "marker": {
             "line": {
              "color": "#E5ECF6",
              "width": 0.5
             },
             "pattern": {
              "fillmode": "overlay",
              "size": 10,
              "solidity": 0.2
             }
            },
            "type": "bar"
           }
          ],
          "barpolar": [
           {
            "marker": {
             "line": {
              "color": "#E5ECF6",
              "width": 0.5
             },
             "pattern": {
              "fillmode": "overlay",
              "size": 10,
              "solidity": 0.2
             }
            },
            "type": "barpolar"
           }
          ],
          "carpet": [
           {
            "aaxis": {
             "endlinecolor": "#2a3f5f",
             "gridcolor": "white",
             "linecolor": "white",
             "minorgridcolor": "white",
             "startlinecolor": "#2a3f5f"
            },
            "baxis": {
             "endlinecolor": "#2a3f5f",
             "gridcolor": "white",
             "linecolor": "white",
             "minorgridcolor": "white",
             "startlinecolor": "#2a3f5f"
            },
            "type": "carpet"
           }
          ],
          "choropleth": [
           {
            "colorbar": {
             "outlinewidth": 0,
             "ticks": ""
            },
            "type": "choropleth"
           }
          ],
          "contour": [
           {
            "colorbar": {
             "outlinewidth": 0,
             "ticks": ""
            },
            "colorscale": [
             [
              0,
              "#0d0887"
             ],
             [
              0.1111111111111111,
              "#46039f"
             ],
             [
              0.2222222222222222,
              "#7201a8"
             ],
             [
              0.3333333333333333,
              "#9c179e"
             ],
             [
              0.4444444444444444,
              "#bd3786"
             ],
             [
              0.5555555555555556,
              "#d8576b"
             ],
             [
              0.6666666666666666,
              "#ed7953"
             ],
             [
              0.7777777777777778,
              "#fb9f3a"
             ],
             [
              0.8888888888888888,
              "#fdca26"
             ],
             [
              1,
              "#f0f921"
             ]
            ],
            "type": "contour"
           }
          ],
          "contourcarpet": [
           {
            "colorbar": {
             "outlinewidth": 0,
             "ticks": ""
            },
            "type": "contourcarpet"
           }
          ],
          "heatmap": [
           {
            "colorbar": {
             "outlinewidth": 0,
             "ticks": ""
            },
            "colorscale": [
             [
              0,
              "#0d0887"
             ],
             [
              0.1111111111111111,
              "#46039f"
             ],
             [
              0.2222222222222222,
              "#7201a8"
             ],
             [
              0.3333333333333333,
              "#9c179e"
             ],
             [
              0.4444444444444444,
              "#bd3786"
             ],
             [
              0.5555555555555556,
              "#d8576b"
             ],
             [
              0.6666666666666666,
              "#ed7953"
             ],
             [
              0.7777777777777778,
              "#fb9f3a"
             ],
             [
              0.8888888888888888,
              "#fdca26"
             ],
             [
              1,
              "#f0f921"
             ]
            ],
            "type": "heatmap"
           }
          ],
          "heatmapgl": [
           {
            "colorbar": {
             "outlinewidth": 0,
             "ticks": ""
            },
            "colorscale": [
             [
              0,
              "#0d0887"
             ],
             [
              0.1111111111111111,
              "#46039f"
             ],
             [
              0.2222222222222222,
              "#7201a8"
             ],
             [
              0.3333333333333333,
              "#9c179e"
             ],
             [
              0.4444444444444444,
              "#bd3786"
             ],
             [
              0.5555555555555556,
              "#d8576b"
             ],
             [
              0.6666666666666666,
              "#ed7953"
             ],
             [
              0.7777777777777778,
              "#fb9f3a"
             ],
             [
              0.8888888888888888,
              "#fdca26"
             ],
             [
              1,
              "#f0f921"
             ]
            ],
            "type": "heatmapgl"
           }
          ],
          "histogram": [
           {
            "marker": {
             "pattern": {
              "fillmode": "overlay",
              "size": 10,
              "solidity": 0.2
             }
            },
            "type": "histogram"
           }
          ],
          "histogram2d": [
           {
            "colorbar": {
             "outlinewidth": 0,
             "ticks": ""
            },
            "colorscale": [
             [
              0,
              "#0d0887"
             ],
             [
              0.1111111111111111,
              "#46039f"
             ],
             [
              0.2222222222222222,
              "#7201a8"
             ],
             [
              0.3333333333333333,
              "#9c179e"
             ],
             [
              0.4444444444444444,
              "#bd3786"
             ],
             [
              0.5555555555555556,
              "#d8576b"
             ],
             [
              0.6666666666666666,
              "#ed7953"
             ],
             [
              0.7777777777777778,
              "#fb9f3a"
             ],
             [
              0.8888888888888888,
              "#fdca26"
             ],
             [
              1,
              "#f0f921"
             ]
            ],
            "type": "histogram2d"
           }
          ],
          "histogram2dcontour": [
           {
            "colorbar": {
             "outlinewidth": 0,
             "ticks": ""
            },
            "colorscale": [
             [
              0,
              "#0d0887"
             ],
             [
              0.1111111111111111,
              "#46039f"
             ],
             [
              0.2222222222222222,
              "#7201a8"
             ],
             [
              0.3333333333333333,
              "#9c179e"
             ],
             [
              0.4444444444444444,
              "#bd3786"
             ],
             [
              0.5555555555555556,
              "#d8576b"
             ],
             [
              0.6666666666666666,
              "#ed7953"
             ],
             [
              0.7777777777777778,
              "#fb9f3a"
             ],
             [
              0.8888888888888888,
              "#fdca26"
             ],
             [
              1,
              "#f0f921"
             ]
            ],
            "type": "histogram2dcontour"
           }
          ],
          "mesh3d": [
           {
            "colorbar": {
             "outlinewidth": 0,
             "ticks": ""
            },
            "type": "mesh3d"
           }
          ],
          "parcoords": [
           {
            "line": {
             "colorbar": {
              "outlinewidth": 0,
              "ticks": ""
             }
            },
            "type": "parcoords"
           }
          ],
          "pie": [
           {
            "automargin": true,
            "type": "pie"
           }
          ],
          "scatter": [
           {
            "fillpattern": {
             "fillmode": "overlay",
             "size": 10,
             "solidity": 0.2
            },
            "type": "scatter"
           }
          ],
          "scatter3d": [
           {
            "line": {
             "colorbar": {
              "outlinewidth": 0,
              "ticks": ""
             }
            },
            "marker": {
             "colorbar": {
              "outlinewidth": 0,
              "ticks": ""
             }
            },
            "type": "scatter3d"
           }
          ],
          "scattercarpet": [
           {
            "marker": {
             "colorbar": {
              "outlinewidth": 0,
              "ticks": ""
             }
            },
            "type": "scattercarpet"
           }
          ],
          "scattergeo": [
           {
            "marker": {
             "colorbar": {
              "outlinewidth": 0,
              "ticks": ""
             }
            },
            "type": "scattergeo"
           }
          ],
          "scattergl": [
           {
            "marker": {
             "colorbar": {
              "outlinewidth": 0,
              "ticks": ""
             }
            },
            "type": "scattergl"
           }
          ],
          "scattermapbox": [
           {
            "marker": {
             "colorbar": {
              "outlinewidth": 0,
              "ticks": ""
             }
            },
            "type": "scattermapbox"
           }
          ],
          "scatterpolar": [
           {
            "marker": {
             "colorbar": {
              "outlinewidth": 0,
              "ticks": ""
             }
            },
            "type": "scatterpolar"
           }
          ],
          "scatterpolargl": [
           {
            "marker": {
             "colorbar": {
              "outlinewidth": 0,
              "ticks": ""
             }
            },
            "type": "scatterpolargl"
           }
          ],
          "scatterternary": [
           {
            "marker": {
             "colorbar": {
              "outlinewidth": 0,
              "ticks": ""
             }
            },
            "type": "scatterternary"
           }
          ],
          "surface": [
           {
            "colorbar": {
             "outlinewidth": 0,
             "ticks": ""
            },
            "colorscale": [
             [
              0,
              "#0d0887"
             ],
             [
              0.1111111111111111,
              "#46039f"
             ],
             [
              0.2222222222222222,
              "#7201a8"
             ],
             [
              0.3333333333333333,
              "#9c179e"
             ],
             [
              0.4444444444444444,
              "#bd3786"
             ],
             [
              0.5555555555555556,
              "#d8576b"
             ],
             [
              0.6666666666666666,
              "#ed7953"
             ],
             [
              0.7777777777777778,
              "#fb9f3a"
             ],
             [
              0.8888888888888888,
              "#fdca26"
             ],
             [
              1,
              "#f0f921"
             ]
            ],
            "type": "surface"
           }
          ],
          "table": [
           {
            "cells": {
             "fill": {
              "color": "#EBF0F8"
             },
             "line": {
              "color": "white"
             }
            },
            "header": {
             "fill": {
              "color": "#C8D4E3"
             },
             "line": {
              "color": "white"
             }
            },
            "type": "table"
           }
          ]
         },
         "layout": {
          "annotationdefaults": {
           "arrowcolor": "#2a3f5f",
           "arrowhead": 0,
           "arrowwidth": 1
          },
          "autotypenumbers": "strict",
          "coloraxis": {
           "colorbar": {
            "outlinewidth": 0,
            "ticks": ""
           }
          },
          "colorscale": {
           "diverging": [
            [
             0,
             "#8e0152"
            ],
            [
             0.1,
             "#c51b7d"
            ],
            [
             0.2,
             "#de77ae"
            ],
            [
             0.3,
             "#f1b6da"
            ],
            [
             0.4,
             "#fde0ef"
            ],
            [
             0.5,
             "#f7f7f7"
            ],
            [
             0.6,
             "#e6f5d0"
            ],
            [
             0.7,
             "#b8e186"
            ],
            [
             0.8,
             "#7fbc41"
            ],
            [
             0.9,
             "#4d9221"
            ],
            [
             1,
             "#276419"
            ]
           ],
           "sequential": [
            [
             0,
             "#0d0887"
            ],
            [
             0.1111111111111111,
             "#46039f"
            ],
            [
             0.2222222222222222,
             "#7201a8"
            ],
            [
             0.3333333333333333,
             "#9c179e"
            ],
            [
             0.4444444444444444,
             "#bd3786"
            ],
            [
             0.5555555555555556,
             "#d8576b"
            ],
            [
             0.6666666666666666,
             "#ed7953"
            ],
            [
             0.7777777777777778,
             "#fb9f3a"
            ],
            [
             0.8888888888888888,
             "#fdca26"
            ],
            [
             1,
             "#f0f921"
            ]
           ],
           "sequentialminus": [
            [
             0,
             "#0d0887"
            ],
            [
             0.1111111111111111,
             "#46039f"
            ],
            [
             0.2222222222222222,
             "#7201a8"
            ],
            [
             0.3333333333333333,
             "#9c179e"
            ],
            [
             0.4444444444444444,
             "#bd3786"
            ],
            [
             0.5555555555555556,
             "#d8576b"
            ],
            [
             0.6666666666666666,
             "#ed7953"
            ],
            [
             0.7777777777777778,
             "#fb9f3a"
            ],
            [
             0.8888888888888888,
             "#fdca26"
            ],
            [
             1,
             "#f0f921"
            ]
           ]
          },
          "colorway": [
           "#636efa",
           "#EF553B",
           "#00cc96",
           "#ab63fa",
           "#FFA15A",
           "#19d3f3",
           "#FF6692",
           "#B6E880",
           "#FF97FF",
           "#FECB52"
          ],
          "font": {
           "color": "#2a3f5f"
          },
          "geo": {
           "bgcolor": "white",
           "lakecolor": "white",
           "landcolor": "#E5ECF6",
           "showlakes": true,
           "showland": true,
           "subunitcolor": "white"
          },
          "hoverlabel": {
           "align": "left"
          },
          "hovermode": "closest",
          "mapbox": {
           "style": "light"
          },
          "paper_bgcolor": "white",
          "plot_bgcolor": "#E5ECF6",
          "polar": {
           "angularaxis": {
            "gridcolor": "white",
            "linecolor": "white",
            "ticks": ""
           },
           "bgcolor": "#E5ECF6",
           "radialaxis": {
            "gridcolor": "white",
            "linecolor": "white",
            "ticks": ""
           }
          },
          "scene": {
           "xaxis": {
            "backgroundcolor": "#E5ECF6",
            "gridcolor": "white",
            "gridwidth": 2,
            "linecolor": "white",
            "showbackground": true,
            "ticks": "",
            "zerolinecolor": "white"
           },
           "yaxis": {
            "backgroundcolor": "#E5ECF6",
            "gridcolor": "white",
            "gridwidth": 2,
            "linecolor": "white",
            "showbackground": true,
            "ticks": "",
            "zerolinecolor": "white"
           },
           "zaxis": {
            "backgroundcolor": "#E5ECF6",
            "gridcolor": "white",
            "gridwidth": 2,
            "linecolor": "white",
            "showbackground": true,
            "ticks": "",
            "zerolinecolor": "white"
           }
          },
          "shapedefaults": {
           "line": {
            "color": "#2a3f5f"
           }
          },
          "ternary": {
           "aaxis": {
            "gridcolor": "white",
            "linecolor": "white",
            "ticks": ""
           },
           "baxis": {
            "gridcolor": "white",
            "linecolor": "white",
            "ticks": ""
           },
           "bgcolor": "#E5ECF6",
           "caxis": {
            "gridcolor": "white",
            "linecolor": "white",
            "ticks": ""
           }
          },
          "title": {
           "x": 0.05
          },
          "xaxis": {
           "automargin": true,
           "gridcolor": "white",
           "linecolor": "white",
           "ticks": "",
           "title": {
            "standoff": 15
           },
           "zerolinecolor": "white",
           "zerolinewidth": 2
          },
          "yaxis": {
           "automargin": true,
           "gridcolor": "white",
           "linecolor": "white",
           "ticks": "",
           "title": {
            "standoff": 15
           },
           "zerolinecolor": "white",
           "zerolinewidth": 2
          }
         }
        },
        "title": {
         "text": "Climate-relevant Legislation in Germany"
        },
        "xaxis": {
         "anchor": "y",
         "domain": [
          0,
          1
         ],
         "tickangle": -45,
         "title": {
          "text": "Datum"
         }
        },
        "yaxis": {
         "anchor": "x",
         "domain": [
          0,
          1
         ]
        }
       }
      },
      "text/html": [
       "<div>                            <div id=\"8c7726ed-ce70-4b24-8fe8-b54ae0c9fb07\" class=\"plotly-graph-div\" style=\"height:525px; width:100%;\"></div>            <script type=\"text/javascript\">                require([\"plotly\"], function(Plotly) {                    window.PLOTLYENV=window.PLOTLYENV || {};                                    if (document.getElementById(\"8c7726ed-ce70-4b24-8fe8-b54ae0c9fb07\")) {                    Plotly.newPlot(                        \"8c7726ed-ce70-4b24-8fe8-b54ae0c9fb07\",                        [{\"alignmentgroup\":\"True\",\"boxpoints\":\"all\",\"customdata\":[[\"Gesetz zum Erhalt von\\u003cbr\\u003eStreuobstwiesen und\\u003cbr\\u003eKleinbrennereien\",\"Landwirtschaft und Ern\\u00e4hrung\",\"Beschlussempfehlung liegt vor\",\"Fraktion der AfD\"],[\"Zweites Gesetz zur \\u00c4nderung\\u003cbr\\u003edes D\\u00fcngegesetzes\",\"Landwirtschaft und Ern\\u00e4hrung\",\"\\u00dcberwiesen\",\"Bundesregierung\"],[\"Elftes Gesetz zur \\u00c4nderung des\\u003cbr\\u003eWeingesetzes\",\"Landwirtschaft und Ern\\u00e4hrung\",\"Verk\\u00fcndet\",\"Bundesregierung\"],[\"Gesetz zur Kennzeichnung von\\u003cbr\\u003eLebensmitteln mit der\\u003cbr\\u003eHaltungsform der Tiere, von\\u003cbr\\u003edenen die Lebensmittel\\u003cbr\\u003egewonnen wurden (Tierhaltungsk\\u003cbr\\u003eennzeichnungsgesetz -\\u003cbr\\u003eTierHaltKennzG)\",\"Landwirtschaft und Ern\\u00e4hrung\",\"Verk\\u00fcndet\",\"Bundesregierung\"],[\"Gesetz zur \\u00c4nderung des\\u003cbr\\u003eAgrarstatistikgesetzes und des\\u003cbr\\u003eLebensmittelspezialit\\u00e4tengeset\\u003cbr\\u003ezes\",\"Landwirtschaft und Ern\\u00e4hrung\",\"Verk\\u00fcndet\",\"Bundesregierung\"],[\"Gesetz zur Erleichterung der\\u003cbr\\u003ebaulichen Anpassung von\\u003cbr\\u003eTierhaltungsanlagen an die\\u003cbr\\u003eAnforderungen des Tierhaltungs\\u003cbr\\u003ekennzeichnungsgesetzes\",\"Landwirtschaft und Ern\\u00e4hrung\",\"Verk\\u00fcndet\",\"Fraktion B\\u00dcNDNIS 90\\u002fDIE GR\\u00dcNEN, Fraktion der FDP, Fraktion der SPD\"],[\"Gesetz zur \\u00c4nderung des \\u00d6ko-\\u003cbr\\u003eLandbaugesetzes, des \\u00d6ko-\\u003cbr\\u003eKennzeichengesetzes und des\\u003cbr\\u003eGesetzes zur \\u00c4nderung des\\u003cbr\\u003eTierschutzgesetzes - Verbot\\u003cbr\\u003edes K\\u00fckent\\u00f6tens\",\"Landwirtschaft und Ern\\u00e4hrung\",\"Verk\\u00fcndet\",\"Bundesregierung\"],[\"Gesetz zur Regelung einzelner\\u003cbr\\u003edem Schutz der finanziellen\\u003cbr\\u003eInteressen der Union dienender\\u003cbr\\u003eBestimmungen im Rahmen der\\u003cbr\\u003eGemeinsamen Agrarpolitik, zur\\u003cbr\\u003e\\u00c4nderung des\\u003cbr\\u003eBet\\u00e4ubungsmittelgesetzes sowie\\u003cbr\\u003ezur Aufhebung weiterer\\u003cbr\\u003eVorschriften\",\"Landwirtschaft und Ern\\u00e4hrung\",\"Verk\\u00fcndet\",\"Bundesregierung\"],[\"... Gesetz zur \\u00c4nderung des\\u003cbr\\u003eMarktorganisationsgesetzes\",\"Landwirtschaft und Ern\\u00e4hrung\",\"Dem Bundestag zugeleitet - Noch nicht beraten\",\"Bayern\"],[\"Gesetz zur \\u00c4nderung des\\u003cbr\\u003eStrafgesetzbuches -\\u003cbr\\u003eEntkriminalisierung des\\u003cbr\\u003eContainerns von Lebensmitteln\",\"Landwirtschaft und Ern\\u00e4hrung\",\"\\u00dcberwiesen\",\"Fraktion DIE LINKE\"]],\"fillcolor\":\"rgba(255,255,255,0)\",\"hoveron\":\"points\",\"hovertemplate\":\"Datum=%{x}\\u003cbr\\u003eTitel=%{customdata[0]}\\u003cbr\\u003eBeratungsstand=%{customdata[2]}\\u003cbr\\u003einitiative_str=%{customdata[3]}\\u003cextra\\u003e\\u003c\\u002fextra\\u003e\",\"legendgroup\":\"Landwirtschaft und Ern\\u00e4hrung\",\"line\":{\"color\":\"rgba(255,255,255,0)\"},\"marker\":{\"color\":\"#636efa\",\"size\":10},\"name\":\"Landwirtschaft und Ern\\u00e4hrung\",\"offsetgroup\":\"Landwirtschaft und Ern\\u00e4hrung\",\"orientation\":\"h\",\"pointpos\":0,\"showlegend\":true,\"x\":[\"2023-12-15\",\"2023-10-19\",\"2023-09-29\",\"2023-09-20\",\"2023-08-31\",\"2023-07-07\",\"2023-07-07\",\"2023-07-07\",\"2023-05-10\",\"2023-01-26\"],\"x0\":\" \",\"xaxis\":\"x\",\"y0\":\" \",\"yaxis\":\"y\",\"type\":\"box\"},{\"alignmentgroup\":\"True\",\"boxpoints\":\"all\",\"customdata\":[[\"Bundes-Klimaanpassungsgesetz\\u003cbr\\u003e(KAnG)\",\"Umwelt\",\"Verk\\u00fcndet\",\"Bundesregierung\"],[\"Gesetz zur St\\u00e4rkung des\\u003cbr\\u003eKlimaschutzes durch eine\\u003cbr\\u003eBeschleunigung des Ausbaus der\\u003cbr\\u003eSchieneninfrastruktur - Klimas\\u003cbr\\u003echutzbeschleunigungsgesetz\\u003cbr\\u003eSchiene\",\"Umwelt\",\"Dem Bundestag zugeleitet - Noch nicht beraten\",\"Brandenburg, Sachsen-Anhalt, Berlin, Sachsen\"],[\"Drittes Gesetz zur \\u00c4nderung\\u003cbr\\u003emautrechtlicher Vorschriften\",\"Umwelt\",\"Verk\\u00fcndet\",\"Bundesregierung\"],[\"Viertes Gesetz zur \\u00c4nderung\\u003cbr\\u003edes Chemikaliengesetzes\",\"Umwelt\",\"Verk\\u00fcndet\",\"Bundesregierung\"],[\"Gesetz zu der Entschlie\\u00dfung\\u003cbr\\u003eLP.3(4) vom 30. Oktober 2009\\u003cbr\\u003e\\u00fcber die \\u00c4nderung des Artikels\\u003cbr\\u003e6 des Protokolls vom 7.\\u003cbr\\u003eNovember 1996 zum\\u003cbr\\u003e\\u00dcbereinkommen \\u00fcber die\\u003cbr\\u003eVerh\\u00fctung der\\u003cbr\\u003eMeeresverschmutzung durch das\\u003cbr\\u003eEinbringen von Abf\\u00e4llen und\\u003cbr\\u003esonstigen Stoffen von 1972\",\"Umwelt\",\"Abgelehnt\",\"Fraktion der CDU\\u002fCSU\"],[\"Gesetz zur Umsetzung von\\u003cbr\\u003eArtikel 8 Absatz 1 bis 7 der\\u003cbr\\u003eRichtlinie (EU) 2019\\u002f904 des\\u003cbr\\u003eEurop\\u00e4ischen Parlaments und\\u003cbr\\u003edes Rates vom 5. Juni 2019\\u003cbr\\u003e\\u00fcber die Verringerung der\\u003cbr\\u003eAuswirkungen bestimmter\\u003cbr\\u003eKunststoffprodukte auf die\\u003cbr\\u003eUmwelt\",\"Umwelt\",\"Verk\\u00fcndet\",\"Bundesregierung\"]],\"fillcolor\":\"rgba(255,255,255,0)\",\"hoveron\":\"points\",\"hovertemplate\":\"Datum=%{x}\\u003cbr\\u003eTitel=%{customdata[0]}\\u003cbr\\u003eBeratungsstand=%{customdata[2]}\\u003cbr\\u003einitiative_str=%{customdata[3]}\\u003cextra\\u003e\\u003c\\u002fextra\\u003e\",\"legendgroup\":\"Umwelt\",\"line\":{\"color\":\"rgba(255,255,255,0)\"},\"marker\":{\"color\":\"#EF553B\",\"size\":10},\"name\":\"Umwelt\",\"offsetgroup\":\"Umwelt\",\"orientation\":\"h\",\"pointpos\":0,\"showlegend\":true,\"x\":[\"2023-12-15\",\"2023-11-15\",\"2023-10-20\",\"2023-10-20\",\"2023-10-12\",\"2023-03-31\"],\"x0\":\" \",\"xaxis\":\"x\",\"y0\":\" \",\"yaxis\":\"y\",\"type\":\"box\"},{\"alignmentgroup\":\"True\",\"boxpoints\":\"all\",\"customdata\":[[\"Drittes Gesetz zur \\u00c4nderung\\u003cbr\\u003edes Mess- und Eichgesetzes\",\"Energie\",\"Verk\\u00fcndet\",\"Bundesregierung\"],[\"... Gesetz zur \\u00c4nderung des Wi\\u003cbr\\u003endenergiefl\\u00e4chenbedarfsgesetze\\u003cbr\\u003es\",\"Energie\",\"Noch nicht beraten\",\"Bayern\"],[\"... Gesetz zur \\u00c4nderung des\\u003cbr\\u003eBundeskleingartengesetzes\",\"Energie\",\"Dem Bundestag zugeleitet - Noch nicht beraten\",\"Bayern\"],[\"Gesetz zur Anpassung des\\u003cbr\\u003eEnergiewirtschaftsrechts an\\u003cbr\\u003eunionsrechtliche Vorgaben und\\u003cbr\\u003ezur \\u00c4nderung weiterer\\u003cbr\\u003eenergierechtlicher\\u003cbr\\u003eVorschriften\",\"Energie\",\"Verk\\u00fcndet\",\"Bundesregierung\"],[\"... Gesetz zur \\u00c4nderung des\\u003cbr\\u003eAtomgesetzes\",\"Energie\",\"Abgelehnt\",\"Fraktion der AfD\"],[\"Gesetz zur \\u00c4nderung des\\u003cbr\\u003eErdgas-W\\u00e4rme-\\u003cbr\\u003ePreisbremsengesetzes, zur\\u003cbr\\u003e\\u00c4nderung des\\u003cbr\\u003eStrompreisbremsegesetzes sowie\\u003cbr\\u003ezur \\u00c4nderung weiterer\\u003cbr\\u003eenergiewirtschaftlicher,\\u003cbr\\u003eumweltrechtlicher und\\u003cbr\\u003esozialrechtlicher Gesetze\",\"Energie\",\"Verk\\u00fcndet\",\"Bundesregierung\"],[\"Gesetz zur Steigerung der\\u003cbr\\u003eEnergieeffizienz und zur\\u003cbr\\u003e\\u00c4nderung des\\u003cbr\\u003eEnergiedienstleistungsgesetzes\",\"Energie\",\"Verk\\u00fcndet\",\"Bundesregierung\"],[\"Gesetz zur \\u00c4nderung des\\u003cbr\\u003eGeb\\u00e4udeenergiegesetzes, zur\\u003cbr\\u003e\\u00c4nderung des B\\u00fcrgerlichen\\u003cbr\\u003eGesetzbuches, zur \\u00c4nderung der\\u003cbr\\u003eVerordnung \\u00fcber\\u003cbr\\u003eHeizkostenabrechnung, zur\\u003cbr\\u003e\\u00c4nderung der\\u003cbr\\u003eBetriebskostenverordnung und\\u003cbr\\u003ezur \\u00c4nderung der Kehr- und\\u003cbr\\u003e\\u00dcberpr\\u00fcfungsordnung\\u003cbr\\u003e[Heizungsgesetz]\",\"Energie\",\"Verk\\u00fcndet\",\"Bundesregierung\"],[\"Gesetz zur Vereinheitlichung\\u003cbr\\u003edes Energieeinsparrechts f\\u00fcr\\u003cbr\\u003eGeb\\u00e4ude und zur \\u00c4nderung\\u003cbr\\u003eweiterer Gesetze\",\"Energie\",\"Verk\\u00fcndet\",\"Bundesregierung\"],[\"Gesetz zur \\u00c4nderung des LNG-\\u003cbr\\u003eBeschleunigungsgesetzes und\\u003cbr\\u003ezur \\u00c4nderung des\\u003cbr\\u003eEnergiewirtschaftsgesetzes und\\u003cbr\\u003ezur \\u00c4nderung des\\u003cbr\\u003eBaugesetzbuchs\",\"Energie\",\"Verk\\u00fcndet\",\"Bundesregierung\"],[\"Gesetz zur \\u00c4nderung des\\u003cbr\\u003eGesetzes gegen\\u003cbr\\u003eWettbewerbsbeschr\\u00e4nkungen\",\"Energie\",\"Beschlussempfehlung liegt vor\",\"Fraktion der AfD\"],[\"Gesetz zum beschleunigten\\u003cbr\\u003eAusbau von Balkonkraftwerken\\u003cbr\\u003e(BalKraftBeschG)\",\"Energie\",\"\\u00dcberwiesen\",\"Fraktion der CDU\\u002fCSU\"],[\"Gesetz zur \\u00c4nderung des\\u003cbr\\u003eEnergiesicherungsgesetzes und\\u003cbr\\u003edes Gesetzes gegen\\u003cbr\\u003eWettbewerbsbeschr\\u00e4nkungen\",\"Energie\",\"Verk\\u00fcndet\",\"Fraktion B\\u00dcNDNIS 90\\u002fDIE GR\\u00dcNEN, Fraktion der FDP, Fraktion der SPD\"],[\"Gesetz zum Neustart der\\u003cbr\\u003eDigitalisierung der\\u003cbr\\u003eEnergiewende\",\"Energie\",\"Verk\\u00fcndet\",\"Fraktion B\\u00dcNDNIS 90\\u002fDIE GR\\u00dcNEN, Fraktion der FDP, Fraktion der SPD\"],[\"Zwanzigstes Gesetz zur\\u003cbr\\u003e\\u00c4nderung des Atomgesetzes\",\"Energie\",\"Abgelehnt\",\"Fraktion der AfD\"],[\"Gesetz zum Neustart der\\u003cbr\\u003eDigitalisierung der\\u003cbr\\u003eEnergiewende\",\"Energie\",\"F\\u00fcr erledigt erkl\\u00e4rt\",\"Bundesregierung\"],[\"Gesetz zur Zahlung einer\\u003cbr\\u003eEnergiepreispauschale an\\u003cbr\\u003eRenten- und\\u003cbr\\u003eVersorgungsbeziehende und zur\\u003cbr\\u003eErweiterung des\\u003cbr\\u003e\\u00dcbergangsbereichs\",\"Energie\",\"Verk\\u00fcndet\",\"Fraktion B\\u00dcNDNIS 90\\u002fDIE GR\\u00dcNEN, Fraktion der FDP, Fraktion der SPD\"],[\"Gesetz zur \\u00c4nderung des\\u003cbr\\u003eStrompreisbremsegesetzes sowie\\u003cbr\\u003ezur \\u00c4nderung des Erdgas-W\\u00e4rme-\\u003cbr\\u003ePreisbremsengesetzes\",\"Energie\",\"Verk\\u00fcndet\",\"Fraktion B\\u00dcNDNIS 90\\u002fDIE GR\\u00dcNEN, Fraktion der FDP, Fraktion der SPD\"],[\"... Gesetz zur \\u00c4nderung des\\u003cbr\\u003eWasserhaushaltsgesetzes\",\"Energie\",\"Dem Bundestag zugeleitet - Noch nicht beraten\",\"Bayern\"],[\"Gesetz zur Sicherung\\u003cbr\\u003ebezahlbarer Stromversorgung (S\\u003cbr\\u003etromversorgungssicherungsgeset\\u003cbr\\u003ez - SVSG)\",\"Energie\",\"\\u00dcberwiesen\",\"Fraktion der CDU\\u002fCSU\"],[\"Gesetz zur Beschleunigung von\\u003cbr\\u003everwaltungsgerichtlichen\\u003cbr\\u003eVerfahren im\\u003cbr\\u003eInfrastrukturbereich\",\"Energie\",\"Verk\\u00fcndet\",\"Bundesregierung\"],[\"Gesetz zur \\u00c4nderung des\\u003cbr\\u003eRaumordnungsgesetzes und\\u003cbr\\u003eanderer Vorschriften (ROG\\u00c4ndG)\",\"Energie\",\"Verk\\u00fcndet\",\"Bundesregierung\"],[\"Gesetz f\\u00fcr mehr Transparenz\\u003cbr\\u003eund \\u00d6ffentlichkeitsbeteiligung\\u003cbr\\u003eim Bergbau\",\"Energie\",\"Noch nicht beraten\",\"Rheinland-Pfalz\"],[\"Gesetz zur \\u00c4nderung des\\u003cbr\\u003eEnergiesicherungsgesetzes und\\u003cbr\\u003eanderer\\u003cbr\\u003eenergiewirtschaftlicher\\u003cbr\\u003eVorschriften\",\"Energie\",\"Verk\\u00fcndet\",\"Fraktion B\\u00dcNDNIS 90\\u002fDIE GR\\u00dcNEN, Fraktion der FDP, Fraktion der SPD\"],[\"Gesetz zur \\u00c4nderung des\\u003cbr\\u003eEnergiewirtschaftsrechts im\\u003cbr\\u003eZusammenhang mit dem\\u003cbr\\u003eKlimaschutz-Sofortprogramm und\\u003cbr\\u003ezu Anpassungen im Recht der\\u003cbr\\u003eEndkundenbelieferung\",\"Energie\",\"Verk\\u00fcndet\",\"Bundesregierung\"]],\"fillcolor\":\"rgba(255,255,255,0)\",\"hoveron\":\"points\",\"hovertemplate\":\"Datum=%{x}\\u003cbr\\u003eTitel=%{customdata[0]}\\u003cbr\\u003eBeratungsstand=%{customdata[2]}\\u003cbr\\u003einitiative_str=%{customdata[3]}\\u003cextra\\u003e\\u003c\\u002fextra\\u003e\",\"legendgroup\":\"Energie\",\"line\":{\"color\":\"rgba(255,255,255,0)\"},\"marker\":{\"color\":\"#00cc96\",\"size\":10},\"name\":\"Energie\",\"offsetgroup\":\"Energie\",\"orientation\":\"h\",\"pointpos\":0,\"showlegend\":true,\"x\":[\"2023-12-15\",\"2023-12-13\",\"2023-12-06\",\"2023-11-24\",\"2023-11-10\",\"2023-11-10\",\"2023-10-20\",\"2023-09-29\",\"2023-09-07\",\"2023-07-07\",\"2023-07-06\",\"2023-05-25\",\"2023-05-12\",\"2023-05-12\",\"2023-04-28\",\"2023-04-21\",\"2023-04-03\",\"2023-03-31\",\"2023-03-29\",\"2023-03-16\",\"2023-03-03\",\"2023-03-03\",\"2023-02-10\",\"2023-01-31\",\"2023-01-31\"],\"x0\":\" \",\"xaxis\":\"x\",\"y0\":\" \",\"yaxis\":\"y\",\"type\":\"box\"},{\"alignmentgroup\":\"True\",\"boxpoints\":\"all\",\"customdata\":[[\"Zehntes Gesetz zur \\u00c4nderung\\u003cbr\\u003edes Stra\\u00dfenverkehrsgesetzes\",\"Verkehr\",\"Bundesrat hat Zustimmung versagt\",\"Bundesregierung\"],[\"Gesetz zur Beschleunigung von\\u003cbr\\u003eGenehmigungsverfahren im\\u003cbr\\u003eVerkehrsbereich und zur\\u003cbr\\u003eUmsetzung der Richtlinie (EU)\\u003cbr\\u003e2021\\u002f1187 \\u00fcber die Straffung\\u003cbr\\u003evon Ma\\u00dfnahmen zur rascheren\\u003cbr\\u003eVerwirklichung des\\u003cbr\\u003etranseurop\\u00e4ischen\\u003cbr\\u003eVerkehrsnetzes\",\"Verkehr\",\"Verk\\u00fcndet\",\"Bundesregierung\"],[\"Siebtes Gesetz zur \\u00c4nderung\\u003cbr\\u003edes Regionalisierungsgesetzes\",\"Verkehr\",\"Verk\\u00fcndet\",\"Fraktion B\\u00dcNDNIS 90\\u002fDIE GR\\u00dcNEN, Fraktion der FDP, Fraktion der SPD\"],[\"Gesetz zur \\u00c4nderung des\\u003cbr\\u003eVerkehrsstatistikgesetzes und\\u003cbr\\u003edes Berufskraftfahrerqualifika\\u003cbr\\u003etionsgesetzes sowie des\\u003cbr\\u003eGesetzes zur \\u00dcberarbeitung des\\u003cbr\\u003eSanktionenrechts -\\u003cbr\\u003eErsatzfreiheitsstrafe,\\u003cbr\\u003eStrafzumessung, Auflagen und\\u003cbr\\u003eWeisungen sowie Unterbringung\\u003cbr\\u003ein einer Entziehungsanstalt\",\"Verkehr\",\"Verk\\u00fcndet\",\"Bundesregierung\"],[\"Gesetz zur Regelung der\\u003cbr\\u003eEntsendung von Kraftfahrern\\u003cbr\\u003eund Kraftfahrerinnen im\\u003cbr\\u003eStra\\u00dfenverkehrssektor und zur\\u003cbr\\u003egrenz\\u00fcberschreitenden\\u003cbr\\u003eDurchsetzung des\\u003cbr\\u003eEntsenderechts\",\"Verkehr\",\"Verk\\u00fcndet\",\"Bundesregierung\"],[\"Gesetz zu dem Abkommen vom 7.\\u003cbr\\u003eFebruar 2020 zwischen der\\u003cbr\\u003eBundesrepublik Deutschland und\\u003cbr\\u003eder Republik Angola \\u00fcber den\\u003cbr\\u003eLuftverkehr\",\"Verkehr\",\"Verk\\u00fcndet\",\"Bundesregierung\"],[\"Gesetz zu dem \\u00dcbereinkommen\\u003cbr\\u003evom 27. Januar 2021 \\u00fcber die\\u003cbr\\u003eInternationale Organisation\\u003cbr\\u003ef\\u00fcr Navigationshilfen in der\\u003cbr\\u003eSchifffahrt\",\"Verkehr\",\"Verk\\u00fcndet\",\"Bundesregierung\"],[\"Gesetz zur Anpassung des\\u003cbr\\u003eAllgemeinen Eisenbahngesetzes\\u003cbr\\u003ean die Verordnung (EU)\\u003cbr\\u003e2021\\u002f782 des Europ\\u00e4ischen\\u003cbr\\u003eParlaments und des Rates vom\\u003cbr\\u003e29. April 2021 \\u00fcber die Rechte\\u003cbr\\u003eund Pflichten der Fahrg\\u00e4ste im\\u003cbr\\u003eEisenbahnverkehr sowie zur\\u003cbr\\u003e\\u00c4nderung des\\u003cbr\\u003eEinf\\u00fchrungsgesetzes zum\\u003cbr\\u003eB\\u00fcrgerlichen Gesetzbuche\",\"Verkehr\",\"Verk\\u00fcndet\",\"Bundesregierung\"],[\"Gesetz zur weiteren\\u003cbr\\u003eBeschleunigung von Planungs-\\u003cbr\\u003eund Genehmigungsverfahren an\\u003cbr\\u003eBr\\u00fccken auf Bundesfernstra\\u00dfen\",\"Verkehr\",\"Abgelehnt\",\"Fraktion der CDU\\u002fCSU\"],[\"Gesetz zur \\u00c4nderung des\\u003cbr\\u003e\\u00dcbereinkommens \\u00fcber die\\u003cbr\\u003eInternationale\\u003cbr\\u003eSeeschifffahrts-Organisation\",\"Verkehr\",\"Verk\\u00fcndet\",\"Bundesregierung\"],[\"Neuntes Gesetz zur \\u00c4nderung\\u003cbr\\u003edes Regionalisierungsgesetzes\",\"Verkehr\",\"Verk\\u00fcndet\",\"Fraktion B\\u00dcNDNIS 90\\u002fDIE GR\\u00dcNEN, Fraktion der FDP, Fraktion der SPD\"],[\"Neuntes Gesetz zur \\u00c4nderung\\u003cbr\\u003edes Regionalisierungsgesetzes\",\"Verkehr\",\"F\\u00fcr erledigt erkl\\u00e4rt\",\"Bundesregierung\"],[\"Zweites Gesetz zur \\u00c4nderung\\u003cbr\\u003eschifffahrtsrechtlicher\\u003cbr\\u003eVorschriften\",\"Verkehr\",\"Verk\\u00fcndet\",\"Bundesregierung\"],[\"Gesetz zur Anpassung von\\u003cbr\\u003eGesetzen und Verordnungen an\\u003cbr\\u003edie neue Beh\\u00f6rdenbezeichnung\\u003cbr\\u003edes Bundesamtes f\\u00fcr\\u003cbr\\u003eG\\u00fcterverkehr\",\"Verkehr\",\"Verk\\u00fcndet\",\"Bundesregierung\"],[\"Gesetz zur \\u00c4nderung des\\u003cbr\\u003eStrafgesetzbuchs -\\u003cbr\\u003eStraffreiheit f\\u00fcr Fahren ohne\\u003cbr\\u003eFahrschein\",\"Verkehr\",\"\\u00dcberwiesen\",\"Fraktion DIE LINKE\"]],\"fillcolor\":\"rgba(255,255,255,0)\",\"hoveron\":\"points\",\"hovertemplate\":\"Datum=%{x}\\u003cbr\\u003eTitel=%{customdata[0]}\\u003cbr\\u003eBeratungsstand=%{customdata[2]}\\u003cbr\\u003einitiative_str=%{customdata[3]}\\u003cextra\\u003e\\u003c\\u002fextra\\u003e\",\"legendgroup\":\"Verkehr\",\"line\":{\"color\":\"rgba(255,255,255,0)\"},\"marker\":{\"color\":\"#ab63fa\",\"size\":10},\"name\":\"Verkehr\",\"offsetgroup\":\"Verkehr\",\"orientation\":\"h\",\"pointpos\":0,\"showlegend\":true,\"x\":[\"2023-11-27\",\"2023-11-24\",\"2023-07-26\",\"2023-07-07\",\"2023-06-16\",\"2023-06-16\",\"2023-06-16\",\"2023-06-16\",\"2023-05-26\",\"2023-05-12\",\"2023-03-31\",\"2023-03-17\",\"2023-03-03\",\"2023-02-10\",\"2023-01-26\"],\"x0\":\" \",\"xaxis\":\"x\",\"y0\":\" \",\"yaxis\":\"y\",\"type\":\"box\"},{\"alignmentgroup\":\"True\",\"boxpoints\":\"all\",\"customdata\":[[\"Gesetz zur besseren Bek\\u00e4mpfung\\u003cbr\\u003e\\u00fcberh\\u00f6hter Mieten\\u003cbr\\u003e(Mietwuchergesetz)\",\"Raumordnung, Bau- und Wohnungswesen\",\"\\u00dcberwiesen\",\"Fraktion DIE LINKE\"],[\"... Gesetz zur \\u00c4nderung des\\u003cbr\\u003eRaumordnungsgesetzes\",\"Raumordnung, Bau- und Wohnungswesen\",\"Einbringung abgelehnt\",\"Bayern\"],[\"... Gesetz zur \\u00c4nderung des\\u003cbr\\u003eBaugesetzbuchs -\\u003cbr\\u003eBebauungspl\\u00e4ne f\\u00fcr den\\u003cbr\\u003eWohnungsbau an kleinen\\u003cbr\\u003eOrtsrandfl\\u00e4chen\",\"Raumordnung, Bau- und Wohnungswesen\",\"Noch nicht beraten\",\"Bayern\"],[\"Gesetz zur Mobilisierung von\\u003cbr\\u003eBauland\\u003cbr\\u003e(Baulandmobilisierungsgesetz)\",\"Raumordnung, Bau- und Wohnungswesen\",\"Verk\\u00fcndet\",\"Bundesregierung\"],[\"Gesetz zur Gew\\u00e4hrung eines\\u003cbr\\u003eeinmaligen\\u003cbr\\u003eHeizkostenzuschusses aufgrund\\u003cbr\\u003estark gestiegener\\u003cbr\\u003eEnergiekosten\\u003cbr\\u003e(Heizkostenzuschussgesetz -\\u003cbr\\u003eHeizkZuschG)\",\"Raumordnung, Bau- und Wohnungswesen\",\"Verk\\u00fcndet\",\"Fraktion B\\u00dcNDNIS 90\\u002fDIE GR\\u00dcNEN, Fraktion der FDP, Fraktion der SPD\"],[\"Gesetz zur St\\u00e4rkung des\\u003cbr\\u003eMieterschutzes bei der\\u003cbr\\u003eVermietung von m\\u00f6bliertem\\u003cbr\\u003eWohnraum und bei der\\u003cbr\\u003eKurzzeitvermietung von\\u003cbr\\u003eWohnraum in Gebieten mit einem\\u003cbr\\u003eangespannten Wohnungsmarkt\",\"Raumordnung, Bau- und Wohnungswesen\",\"Dem Bundestag zugeleitet - Noch nicht beraten\",\"Hamburg, Bremen\"],[\"Gesetz zur St\\u00e4rkung der\\u003cbr\\u003eDigitalisierung im\\u003cbr\\u003eBauleitplanverfahren und zur\\u003cbr\\u003e\\u00c4nderung weiterer Vorschriften\",\"Raumordnung, Bau- und Wohnungswesen\",\"Verk\\u00fcndet\",\"Bundesregierung\"],[\"... Gesetz zur \\u00c4nderung des\\u003cbr\\u003eBaugesetzbuches  - Festsetzung\\u003cbr\\u003egef\\u00f6rdertes Wohnen\",\"Raumordnung, Bau- und Wohnungswesen\",\"Einbringung abgelehnt\",\"Hamburg\"],[\"Gesetz zur Regelung eines\\u003cbr\\u003eSofortzuschlages und einer\\u003cbr\\u003eEinmalzahlung in den sozialen\\u003cbr\\u003eMindestsicherungssystemen\\u003cbr\\u003esowie zur \\u00c4nderung des\\u003cbr\\u003eFinanzausgleichtsgesetzes und\\u003cbr\\u003eweiterer Gesetze\",\"Raumordnung, Bau- und Wohnungswesen\",\"Verk\\u00fcndet\",\"Bundesregierung\"]],\"fillcolor\":\"rgba(255,255,255,0)\",\"hoveron\":\"points\",\"hovertemplate\":\"Datum=%{x}\\u003cbr\\u003eTitel=%{customdata[0]}\\u003cbr\\u003eBeratungsstand=%{customdata[2]}\\u003cbr\\u003einitiative_str=%{customdata[3]}\\u003cextra\\u003e\\u003c\\u002fextra\\u003e\",\"legendgroup\":\"Raumordnung, Bau- und Wohnungswesen\",\"line\":{\"color\":\"rgba(255,255,255,0)\"},\"marker\":{\"color\":\"#FFA15A\",\"size\":10},\"name\":\"Raumordnung, Bau- und Wohnungswesen\",\"offsetgroup\":\"Raumordnung, Bau- und Wohnungswesen\",\"orientation\":\"h\",\"pointpos\":0,\"showlegend\":true,\"x\":[\"2023-11-16\",\"2023-10-20\",\"2023-09-21\",\"2023-09-01\",\"2023-08-14\",\"2023-07-26\",\"2023-06-16\",\"2023-02-10\",\"2023-01-30\"],\"x0\":\" \",\"xaxis\":\"x\",\"y0\":\" \",\"yaxis\":\"y\",\"type\":\"box\"}],                        {\"template\":{\"data\":{\"histogram2dcontour\":[{\"type\":\"histogram2dcontour\",\"colorbar\":{\"outlinewidth\":0,\"ticks\":\"\"},\"colorscale\":[[0.0,\"#0d0887\"],[0.1111111111111111,\"#46039f\"],[0.2222222222222222,\"#7201a8\"],[0.3333333333333333,\"#9c179e\"],[0.4444444444444444,\"#bd3786\"],[0.5555555555555556,\"#d8576b\"],[0.6666666666666666,\"#ed7953\"],[0.7777777777777778,\"#fb9f3a\"],[0.8888888888888888,\"#fdca26\"],[1.0,\"#f0f921\"]]}],\"choropleth\":[{\"type\":\"choropleth\",\"colorbar\":{\"outlinewidth\":0,\"ticks\":\"\"}}],\"histogram2d\":[{\"type\":\"histogram2d\",\"colorbar\":{\"outlinewidth\":0,\"ticks\":\"\"},\"colorscale\":[[0.0,\"#0d0887\"],[0.1111111111111111,\"#46039f\"],[0.2222222222222222,\"#7201a8\"],[0.3333333333333333,\"#9c179e\"],[0.4444444444444444,\"#bd3786\"],[0.5555555555555556,\"#d8576b\"],[0.6666666666666666,\"#ed7953\"],[0.7777777777777778,\"#fb9f3a\"],[0.8888888888888888,\"#fdca26\"],[1.0,\"#f0f921\"]]}],\"heatmap\":[{\"type\":\"heatmap\",\"colorbar\":{\"outlinewidth\":0,\"ticks\":\"\"},\"colorscale\":[[0.0,\"#0d0887\"],[0.1111111111111111,\"#46039f\"],[0.2222222222222222,\"#7201a8\"],[0.3333333333333333,\"#9c179e\"],[0.4444444444444444,\"#bd3786\"],[0.5555555555555556,\"#d8576b\"],[0.6666666666666666,\"#ed7953\"],[0.7777777777777778,\"#fb9f3a\"],[0.8888888888888888,\"#fdca26\"],[1.0,\"#f0f921\"]]}],\"heatmapgl\":[{\"type\":\"heatmapgl\",\"colorbar\":{\"outlinewidth\":0,\"ticks\":\"\"},\"colorscale\":[[0.0,\"#0d0887\"],[0.1111111111111111,\"#46039f\"],[0.2222222222222222,\"#7201a8\"],[0.3333333333333333,\"#9c179e\"],[0.4444444444444444,\"#bd3786\"],[0.5555555555555556,\"#d8576b\"],[0.6666666666666666,\"#ed7953\"],[0.7777777777777778,\"#fb9f3a\"],[0.8888888888888888,\"#fdca26\"],[1.0,\"#f0f921\"]]}],\"contourcarpet\":[{\"type\":\"contourcarpet\",\"colorbar\":{\"outlinewidth\":0,\"ticks\":\"\"}}],\"contour\":[{\"type\":\"contour\",\"colorbar\":{\"outlinewidth\":0,\"ticks\":\"\"},\"colorscale\":[[0.0,\"#0d0887\"],[0.1111111111111111,\"#46039f\"],[0.2222222222222222,\"#7201a8\"],[0.3333333333333333,\"#9c179e\"],[0.4444444444444444,\"#bd3786\"],[0.5555555555555556,\"#d8576b\"],[0.6666666666666666,\"#ed7953\"],[0.7777777777777778,\"#fb9f3a\"],[0.8888888888888888,\"#fdca26\"],[1.0,\"#f0f921\"]]}],\"surface\":[{\"type\":\"surface\",\"colorbar\":{\"outlinewidth\":0,\"ticks\":\"\"},\"colorscale\":[[0.0,\"#0d0887\"],[0.1111111111111111,\"#46039f\"],[0.2222222222222222,\"#7201a8\"],[0.3333333333333333,\"#9c179e\"],[0.4444444444444444,\"#bd3786\"],[0.5555555555555556,\"#d8576b\"],[0.6666666666666666,\"#ed7953\"],[0.7777777777777778,\"#fb9f3a\"],[0.8888888888888888,\"#fdca26\"],[1.0,\"#f0f921\"]]}],\"mesh3d\":[{\"type\":\"mesh3d\",\"colorbar\":{\"outlinewidth\":0,\"ticks\":\"\"}}],\"scatter\":[{\"fillpattern\":{\"fillmode\":\"overlay\",\"size\":10,\"solidity\":0.2},\"type\":\"scatter\"}],\"parcoords\":[{\"type\":\"parcoords\",\"line\":{\"colorbar\":{\"outlinewidth\":0,\"ticks\":\"\"}}}],\"scatterpolargl\":[{\"type\":\"scatterpolargl\",\"marker\":{\"colorbar\":{\"outlinewidth\":0,\"ticks\":\"\"}}}],\"bar\":[{\"error_x\":{\"color\":\"#2a3f5f\"},\"error_y\":{\"color\":\"#2a3f5f\"},\"marker\":{\"line\":{\"color\":\"#E5ECF6\",\"width\":0.5},\"pattern\":{\"fillmode\":\"overlay\",\"size\":10,\"solidity\":0.2}},\"type\":\"bar\"}],\"scattergeo\":[{\"type\":\"scattergeo\",\"marker\":{\"colorbar\":{\"outlinewidth\":0,\"ticks\":\"\"}}}],\"scatterpolar\":[{\"type\":\"scatterpolar\",\"marker\":{\"colorbar\":{\"outlinewidth\":0,\"ticks\":\"\"}}}],\"histogram\":[{\"marker\":{\"pattern\":{\"fillmode\":\"overlay\",\"size\":10,\"solidity\":0.2}},\"type\":\"histogram\"}],\"scattergl\":[{\"type\":\"scattergl\",\"marker\":{\"colorbar\":{\"outlinewidth\":0,\"ticks\":\"\"}}}],\"scatter3d\":[{\"type\":\"scatter3d\",\"line\":{\"colorbar\":{\"outlinewidth\":0,\"ticks\":\"\"}},\"marker\":{\"colorbar\":{\"outlinewidth\":0,\"ticks\":\"\"}}}],\"scattermapbox\":[{\"type\":\"scattermapbox\",\"marker\":{\"colorbar\":{\"outlinewidth\":0,\"ticks\":\"\"}}}],\"scatterternary\":[{\"type\":\"scatterternary\",\"marker\":{\"colorbar\":{\"outlinewidth\":0,\"ticks\":\"\"}}}],\"scattercarpet\":[{\"type\":\"scattercarpet\",\"marker\":{\"colorbar\":{\"outlinewidth\":0,\"ticks\":\"\"}}}],\"carpet\":[{\"aaxis\":{\"endlinecolor\":\"#2a3f5f\",\"gridcolor\":\"white\",\"linecolor\":\"white\",\"minorgridcolor\":\"white\",\"startlinecolor\":\"#2a3f5f\"},\"baxis\":{\"endlinecolor\":\"#2a3f5f\",\"gridcolor\":\"white\",\"linecolor\":\"white\",\"minorgridcolor\":\"white\",\"startlinecolor\":\"#2a3f5f\"},\"type\":\"carpet\"}],\"table\":[{\"cells\":{\"fill\":{\"color\":\"#EBF0F8\"},\"line\":{\"color\":\"white\"}},\"header\":{\"fill\":{\"color\":\"#C8D4E3\"},\"line\":{\"color\":\"white\"}},\"type\":\"table\"}],\"barpolar\":[{\"marker\":{\"line\":{\"color\":\"#E5ECF6\",\"width\":0.5},\"pattern\":{\"fillmode\":\"overlay\",\"size\":10,\"solidity\":0.2}},\"type\":\"barpolar\"}],\"pie\":[{\"automargin\":true,\"type\":\"pie\"}]},\"layout\":{\"autotypenumbers\":\"strict\",\"colorway\":[\"#636efa\",\"#EF553B\",\"#00cc96\",\"#ab63fa\",\"#FFA15A\",\"#19d3f3\",\"#FF6692\",\"#B6E880\",\"#FF97FF\",\"#FECB52\"],\"font\":{\"color\":\"#2a3f5f\"},\"hovermode\":\"closest\",\"hoverlabel\":{\"align\":\"left\"},\"paper_bgcolor\":\"white\",\"plot_bgcolor\":\"#E5ECF6\",\"polar\":{\"bgcolor\":\"#E5ECF6\",\"angularaxis\":{\"gridcolor\":\"white\",\"linecolor\":\"white\",\"ticks\":\"\"},\"radialaxis\":{\"gridcolor\":\"white\",\"linecolor\":\"white\",\"ticks\":\"\"}},\"ternary\":{\"bgcolor\":\"#E5ECF6\",\"aaxis\":{\"gridcolor\":\"white\",\"linecolor\":\"white\",\"ticks\":\"\"},\"baxis\":{\"gridcolor\":\"white\",\"linecolor\":\"white\",\"ticks\":\"\"},\"caxis\":{\"gridcolor\":\"white\",\"linecolor\":\"white\",\"ticks\":\"\"}},\"coloraxis\":{\"colorbar\":{\"outlinewidth\":0,\"ticks\":\"\"}},\"colorscale\":{\"sequential\":[[0.0,\"#0d0887\"],[0.1111111111111111,\"#46039f\"],[0.2222222222222222,\"#7201a8\"],[0.3333333333333333,\"#9c179e\"],[0.4444444444444444,\"#bd3786\"],[0.5555555555555556,\"#d8576b\"],[0.6666666666666666,\"#ed7953\"],[0.7777777777777778,\"#fb9f3a\"],[0.8888888888888888,\"#fdca26\"],[1.0,\"#f0f921\"]],\"sequentialminus\":[[0.0,\"#0d0887\"],[0.1111111111111111,\"#46039f\"],[0.2222222222222222,\"#7201a8\"],[0.3333333333333333,\"#9c179e\"],[0.4444444444444444,\"#bd3786\"],[0.5555555555555556,\"#d8576b\"],[0.6666666666666666,\"#ed7953\"],[0.7777777777777778,\"#fb9f3a\"],[0.8888888888888888,\"#fdca26\"],[1.0,\"#f0f921\"]],\"diverging\":[[0,\"#8e0152\"],[0.1,\"#c51b7d\"],[0.2,\"#de77ae\"],[0.3,\"#f1b6da\"],[0.4,\"#fde0ef\"],[0.5,\"#f7f7f7\"],[0.6,\"#e6f5d0\"],[0.7,\"#b8e186\"],[0.8,\"#7fbc41\"],[0.9,\"#4d9221\"],[1,\"#276419\"]]},\"xaxis\":{\"gridcolor\":\"white\",\"linecolor\":\"white\",\"ticks\":\"\",\"title\":{\"standoff\":15},\"zerolinecolor\":\"white\",\"automargin\":true,\"zerolinewidth\":2},\"yaxis\":{\"gridcolor\":\"white\",\"linecolor\":\"white\",\"ticks\":\"\",\"title\":{\"standoff\":15},\"zerolinecolor\":\"white\",\"automargin\":true,\"zerolinewidth\":2},\"scene\":{\"xaxis\":{\"backgroundcolor\":\"#E5ECF6\",\"gridcolor\":\"white\",\"linecolor\":\"white\",\"showbackground\":true,\"ticks\":\"\",\"zerolinecolor\":\"white\",\"gridwidth\":2},\"yaxis\":{\"backgroundcolor\":\"#E5ECF6\",\"gridcolor\":\"white\",\"linecolor\":\"white\",\"showbackground\":true,\"ticks\":\"\",\"zerolinecolor\":\"white\",\"gridwidth\":2},\"zaxis\":{\"backgroundcolor\":\"#E5ECF6\",\"gridcolor\":\"white\",\"linecolor\":\"white\",\"showbackground\":true,\"ticks\":\"\",\"zerolinecolor\":\"white\",\"gridwidth\":2}},\"shapedefaults\":{\"line\":{\"color\":\"#2a3f5f\"}},\"annotationdefaults\":{\"arrowcolor\":\"#2a3f5f\",\"arrowhead\":0,\"arrowwidth\":1},\"geo\":{\"bgcolor\":\"white\",\"landcolor\":\"#E5ECF6\",\"subunitcolor\":\"white\",\"showland\":true,\"showlakes\":true,\"lakecolor\":\"white\"},\"title\":{\"x\":0.05},\"mapbox\":{\"style\":\"light\"}}},\"xaxis\":{\"anchor\":\"y\",\"domain\":[0.0,1.0],\"title\":{\"text\":\"Datum\"},\"tickangle\":-45},\"yaxis\":{\"anchor\":\"x\",\"domain\":[0.0,1.0]},\"legend\":{\"title\":{},\"tracegroupgap\":0,\"orientation\":\"h\",\"yanchor\":\"bottom\",\"y\":1.02,\"xanchor\":\"right\",\"x\":1},\"title\":{\"text\":\"Climate-relevant Legislation in Germany\"},\"boxmode\":\"group\"},                        {\"responsive\": true}                    ).then(function(){\n",
       "                            \n",
       "var gd = document.getElementById('8c7726ed-ce70-4b24-8fe8-b54ae0c9fb07');\n",
       "var x = new MutationObserver(function (mutations, observer) {{\n",
       "        var display = window.getComputedStyle(gd).display;\n",
       "        if (!display || display === 'none') {{\n",
       "            console.log([gd, 'removed!']);\n",
       "            Plotly.purge(gd);\n",
       "            observer.disconnect();\n",
       "        }}\n",
       "}});\n",
       "\n",
       "// Listen for the removal of the full notebook cells\n",
       "var notebookContainer = gd.closest('#notebook-container');\n",
       "if (notebookContainer) {{\n",
       "    x.observe(notebookContainer, {childList: true});\n",
       "}}\n",
       "\n",
       "// Listen for the clearing of the current output cell\n",
       "var outputEl = gd.closest('.output');\n",
       "if (outputEl) {{\n",
       "    x.observe(outputEl, {childList: true});\n",
       "}}\n",
       "\n",
       "                        })                };                });            </script>        </div>"
      ]
     },
     "metadata": {},
     "output_type": "display_data"
    }
   ],
   "source": [
    "fig = px.strip(\n",
    "    df,\n",
    "    x=\"datum\",\n",
    "    color=\"first_filtered_sachgebiet\",\n",
    "    title=\"Climate-relevant Legislation in Germany\",\n",
    "    hover_data={\n",
    "        \"titel_wrap\": True,\n",
    "        \"datum\": True,\n",
    "        \"first_filtered_sachgebiet\": False,\n",
    "        \"beratungsstand\": True,\n",
    "        \"initiative_str\": True\n",
    "    },\n",
    "    labels={\n",
    "        \"titel_wrap\": \"Titel\",\n",
    "        \"datum\": \"Datum\",\n",
    "        \"beratungsstand\": \"Beratungsstand\",\n",
    "    },\n",
    ")\n",
    "fig.update_layout(xaxis_tickangle=-45)\n",
    "fig.update_layout(\n",
    "    legend=dict(\n",
    "        title=None, orientation=\"h\", yanchor=\"bottom\", y=1.02, xanchor=\"right\", x=1\n",
    "    )\n",
    ")\n",
    "fig.update_traces(marker_size=10)\n",
    "fig.show()"
   ]
  },
  {
   "cell_type": "code",
   "execution_count": null,
   "metadata": {},
   "outputs": [],
   "source": []
  }
 ],
 "metadata": {
  "kernelspec": {
   "display_name": ".venv",
   "language": "python",
   "name": "python3"
  },
  "language_info": {
   "codemirror_mode": {
    "name": "ipython",
    "version": 3
   },
   "file_extension": ".py",
   "mimetype": "text/x-python",
   "name": "python",
   "nbconvert_exporter": "python",
   "pygments_lexer": "ipython3",
   "version": "3.10.14"
  }
 },
 "nbformat": 4,
 "nbformat_minor": 2
}
