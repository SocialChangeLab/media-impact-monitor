{
    "cells": [
        {
            "cell_type": "code",
            "execution_count": 1,
            "metadata": {},
            "outputs": [
                {
                    "name": "stdout",
                    "output_type": "stream",
                    "text": [
                        "Found 901 unique organizations\n"
                    ]
                },
                {
                    "data": {
                        "text/plain": [
                            "{'slug': 'climate-caucus',\n",
                            " 'name': 'Climate Caucus',\n",
                            " 'legalName': None,\n",
                            " 'description': 'Connect elected Canadian representatives to drive climate action',\n",
                            " 'longDescription': None,\n",
                            " 'tags': ['community'],\n",
                            " 'location': None,\n",
                            " 'stats': {'totalAmountReceived': {'value': 0,\n",
                            "   'currency': 'USD',\n",
                            "   'valueInCents': 0},\n",
                            "  'totalAmountReceivedTimeSeries': {'dateFrom': None,\n",
                            "   'dateTo': None,\n",
                            "   'timeUnit': 'YEAR',\n",
                            "   'nodes': []}}}"
                        ]
                    },
                    "execution_count": 1,
                    "metadata": {},
                    "output_type": "execute_result"
                }
            ],
            "source": [
                "from media_impact_monitor.data_loaders.donations.opencollective import (\n",
                "    fetch_climate_orgs,\n",
                "    fetch_transactions,\n",
                "    get_transactions_df,\n",
                "    get_monthly_dfs,\n",
                "    group_by_wealth,\n",
                "    generalize_group_name\n",
                ")\n",
                "\n",
                "orgs = fetch_climate_orgs()\n",
                "orgs[0]\n"
            ]
        },
        {
            "cell_type": "code",
            "execution_count": 2,
            "metadata": {},
            "outputs": [
                {
                    "data": {
                        "text/plain": [
                            "[{'id': 'b04b2277-1fb2-4a91-a682-26296a21cf9d',\n",
                            "  'createdAt': '2024-07-19T11:43:33.884Z',\n",
                            "  'type': 'DEBIT',\n",
                            "  'amount': {'value': -28.78, 'currency': 'GBP'}},\n",
                            " {'id': '463bbc47-e299-418f-b021-7d9a8cd99717',\n",
                            "  'createdAt': '2023-12-15T08:21:06.535Z',\n",
                            "  'type': 'DEBIT',\n",
                            "  'amount': {'value': -26.38, 'currency': 'GBP'}},\n",
                            " {'id': 'c1f4c332-d51a-49af-8cdf-e2e7ca9902e7',\n",
                            "  'createdAt': '2023-03-29T12:03:06.051Z',\n",
                            "  'type': 'DEBIT',\n",
                            "  'amount': {'value': -42, 'currency': 'GBP'}},\n",
                            " {'id': '0c936cd0-05fb-49a4-9692-8dec4cdaa501',\n",
                            "  'createdAt': '2023-03-29T12:03:04.254Z',\n",
                            "  'type': 'DEBIT',\n",
                            "  'amount': {'value': -22, 'currency': 'GBP'}}]"
                        ]
                    },
                    "execution_count": 2,
                    "metadata": {},
                    "output_type": "execute_result"
                }
            ],
            "source": [
                "transactions = fetch_transactions(orgs[1][\"slug\"])\n",
                "transactions[:4]"
            ]
        },
        {
            "cell_type": "code",
            "execution_count": 3,
            "metadata": {},
            "outputs": [
                {
                    "data": {
                        "application/vnd.jupyter.widget-view+json": {
                            "model_id": "36de5496dea24b03af1fabace1c03306",
                            "version_major": 2,
                            "version_minor": 0
                        },
                        "text/plain": [
                            "  0%|          | 0/10 [00:00<?, ?it/s]"
                        ]
                    },
                    "metadata": {},
                    "output_type": "display_data"
                },
                {
                    "data": {
                        "text/html": [
                            "<div>\n",
                            "<style scoped>\n",
                            "    .dataframe tbody tr th:only-of-type {\n",
                            "        vertical-align: middle;\n",
                            "    }\n",
                            "\n",
                            "    .dataframe tbody tr th {\n",
                            "        vertical-align: top;\n",
                            "    }\n",
                            "\n",
                            "    .dataframe thead th {\n",
                            "        text-align: right;\n",
                            "    }\n",
                            "</style>\n",
                            "<table border=\"1\" class=\"dataframe\">\n",
                            "  <thead>\n",
                            "    <tr style=\"text-align: right;\">\n",
                            "      <th></th>\n",
                            "      <th>date</th>\n",
                            "      <th>amount</th>\n",
                            "      <th>organization</th>\n",
                            "    </tr>\n",
                            "  </thead>\n",
                            "  <tbody>\n",
                            "    <tr>\n",
                            "      <th>0</th>\n",
                            "      <td>2024-07-19 00:00:00+00:00</td>\n",
                            "      <td>-28.78</td>\n",
                            "      <td>Climate Hub Wandsworth</td>\n",
                            "    </tr>\n",
                            "    <tr>\n",
                            "      <th>1</th>\n",
                            "      <td>2023-12-15 00:00:00+00:00</td>\n",
                            "      <td>-26.38</td>\n",
                            "      <td>Climate Hub Wandsworth</td>\n",
                            "    </tr>\n",
                            "    <tr>\n",
                            "      <th>2</th>\n",
                            "      <td>2023-03-29 00:00:00+00:00</td>\n",
                            "      <td>-42.00</td>\n",
                            "      <td>Climate Hub Wandsworth</td>\n",
                            "    </tr>\n",
                            "    <tr>\n",
                            "      <th>3</th>\n",
                            "      <td>2023-03-29 00:00:00+00:00</td>\n",
                            "      <td>-22.00</td>\n",
                            "      <td>Climate Hub Wandsworth</td>\n",
                            "    </tr>\n",
                            "    <tr>\n",
                            "      <th>4</th>\n",
                            "      <td>2022-09-21 00:00:00+00:00</td>\n",
                            "      <td>-0.90</td>\n",
                            "      <td>Climate Hub Wandsworth</td>\n",
                            "    </tr>\n",
                            "    <tr>\n",
                            "      <th>...</th>\n",
                            "      <td>...</td>\n",
                            "      <td>...</td>\n",
                            "      <td>...</td>\n",
                            "    </tr>\n",
                            "    <tr>\n",
                            "      <th>30</th>\n",
                            "      <td>2024-02-12 00:00:00+00:00</td>\n",
                            "      <td>5.00</td>\n",
                            "      <td>Climate Collective Oxford</td>\n",
                            "    </tr>\n",
                            "    <tr>\n",
                            "      <th>31</th>\n",
                            "      <td>2024-01-19 00:00:00+00:00</td>\n",
                            "      <td>-42.00</td>\n",
                            "      <td>Climate Collective Oxford</td>\n",
                            "    </tr>\n",
                            "    <tr>\n",
                            "      <th>32</th>\n",
                            "      <td>2024-01-18 00:00:00+00:00</td>\n",
                            "      <td>-2.50</td>\n",
                            "      <td>Climate Collective Oxford</td>\n",
                            "    </tr>\n",
                            "    <tr>\n",
                            "      <th>33</th>\n",
                            "      <td>2024-01-18 00:00:00+00:00</td>\n",
                            "      <td>-1.03</td>\n",
                            "      <td>Climate Collective Oxford</td>\n",
                            "    </tr>\n",
                            "    <tr>\n",
                            "      <th>34</th>\n",
                            "      <td>2024-01-18 00:00:00+00:00</td>\n",
                            "      <td>50.00</td>\n",
                            "      <td>Climate Collective Oxford</td>\n",
                            "    </tr>\n",
                            "  </tbody>\n",
                            "</table>\n",
                            "<p>343 rows × 3 columns</p>\n",
                            "</div>"
                        ],
                        "text/plain": [
                            "                        date  amount               organization\n",
                            "0  2024-07-19 00:00:00+00:00  -28.78     Climate Hub Wandsworth\n",
                            "1  2023-12-15 00:00:00+00:00  -26.38     Climate Hub Wandsworth\n",
                            "2  2023-03-29 00:00:00+00:00  -42.00     Climate Hub Wandsworth\n",
                            "3  2023-03-29 00:00:00+00:00  -22.00     Climate Hub Wandsworth\n",
                            "4  2022-09-21 00:00:00+00:00   -0.90     Climate Hub Wandsworth\n",
                            "..                       ...     ...                        ...\n",
                            "30 2024-02-12 00:00:00+00:00    5.00  Climate Collective Oxford\n",
                            "31 2024-01-19 00:00:00+00:00  -42.00  Climate Collective Oxford\n",
                            "32 2024-01-18 00:00:00+00:00   -2.50  Climate Collective Oxford\n",
                            "33 2024-01-18 00:00:00+00:00   -1.03  Climate Collective Oxford\n",
                            "34 2024-01-18 00:00:00+00:00   50.00  Climate Collective Oxford\n",
                            "\n",
                            "[343 rows x 3 columns]"
                        ]
                    },
                    "execution_count": 3,
                    "metadata": {},
                    "output_type": "execute_result"
                }
            ],
            "source": [
                "df = get_transactions_df(orgs[:10])\n",
                "df"
            ]
        },
        {
            "cell_type": "code",
            "execution_count": 4,
            "metadata": {},
            "outputs": [
                {
                    "data": {
                        "application/vnd.jupyter.widget-view+json": {
                            "model_id": "217446ed4f4641ada94e077293a05bb7",
                            "version_major": 2,
                            "version_minor": 0
                        },
                        "text/plain": [
                            "  0%|          | 0/150 [00:00<?, ?it/s]"
                        ]
                    },
                    "metadata": {},
                    "output_type": "display_data"
                }
            ],
            "source": [
                "df = get_transactions_df(orgs[:150])\n",
                "df[\"organization\"] = df[\"organization\"].apply(generalize_group_name)\n",
                "df = group_by_wealth(df, top_n=8)\n",
                "positive, negative = get_monthly_dfs(df)"
            ]
        },
        {
            "cell_type": "code",
            "execution_count": 5,
            "metadata": {},
            "outputs": [
                {
                    "data": {
                        "text/html": [
                            "<div>\n",
                            "<style scoped>\n",
                            "    .dataframe tbody tr th:only-of-type {\n",
                            "        vertical-align: middle;\n",
                            "    }\n",
                            "\n",
                            "    .dataframe tbody tr th {\n",
                            "        vertical-align: top;\n",
                            "    }\n",
                            "\n",
                            "    .dataframe thead th {\n",
                            "        text-align: right;\n",
                            "    }\n",
                            "</style>\n",
                            "<table border=\"1\" class=\"dataframe\">\n",
                            "  <thead>\n",
                            "    <tr style=\"text-align: right;\">\n",
                            "      <th></th>\n",
                            "      <th>organization</th>\n",
                            "      <th>date</th>\n",
                            "      <th>amount</th>\n",
                            "    </tr>\n",
                            "  </thead>\n",
                            "  <tbody>\n",
                            "    <tr>\n",
                            "      <th>0</th>\n",
                            "      <td>Climate Crisis Collective</td>\n",
                            "      <td>2019-08-25 00:00:00+00:00</td>\n",
                            "      <td>25000.00</td>\n",
                            "    </tr>\n",
                            "    <tr>\n",
                            "      <th>2</th>\n",
                            "      <td>Climate Crisis Collective</td>\n",
                            "      <td>2019-09-15 00:00:00+00:00</td>\n",
                            "      <td>200.00</td>\n",
                            "    </tr>\n",
                            "    <tr>\n",
                            "      <th>5</th>\n",
                            "      <td>Climate Crisis Collective</td>\n",
                            "      <td>2019-10-06 00:00:00+00:00</td>\n",
                            "      <td>25000.00</td>\n",
                            "    </tr>\n",
                            "    <tr>\n",
                            "      <th>8</th>\n",
                            "      <td>Climate Crisis Collective</td>\n",
                            "      <td>2019-12-01 00:00:00+00:00</td>\n",
                            "      <td>13500.00</td>\n",
                            "    </tr>\n",
                            "    <tr>\n",
                            "      <th>10</th>\n",
                            "      <td>Climate Crisis Collective</td>\n",
                            "      <td>2019-12-22 00:00:00+00:00</td>\n",
                            "      <td>466.00</td>\n",
                            "    </tr>\n",
                            "    <tr>\n",
                            "      <th>...</th>\n",
                            "      <td>...</td>\n",
                            "      <td>...</td>\n",
                            "      <td>...</td>\n",
                            "    </tr>\n",
                            "    <tr>\n",
                            "      <th>1017</th>\n",
                            "      <td>The Xylom</td>\n",
                            "      <td>2024-09-15 00:00:00+00:00</td>\n",
                            "      <td>17696.96</td>\n",
                            "    </tr>\n",
                            "    <tr>\n",
                            "      <th>1020</th>\n",
                            "      <td>The Xylom</td>\n",
                            "      <td>2024-10-13 00:00:00+00:00</td>\n",
                            "      <td>13.26</td>\n",
                            "    </tr>\n",
                            "    <tr>\n",
                            "      <th>1022</th>\n",
                            "      <td>The Xylom</td>\n",
                            "      <td>2024-10-27 00:00:00+00:00</td>\n",
                            "      <td>6.67</td>\n",
                            "    </tr>\n",
                            "    <tr>\n",
                            "      <th>1026</th>\n",
                            "      <td>The Xylom</td>\n",
                            "      <td>2024-12-01 00:00:00+00:00</td>\n",
                            "      <td>19.95</td>\n",
                            "    </tr>\n",
                            "    <tr>\n",
                            "      <th>1027</th>\n",
                            "      <td>The Xylom</td>\n",
                            "      <td>2024-12-08 00:00:00+00:00</td>\n",
                            "      <td>419.17</td>\n",
                            "    </tr>\n",
                            "  </tbody>\n",
                            "</table>\n",
                            "<p>489 rows × 3 columns</p>\n",
                            "</div>"
                        ],
                        "text/plain": [
                            "                   organization                      date    amount\n",
                            "0     Climate Crisis Collective 2019-08-25 00:00:00+00:00  25000.00\n",
                            "2     Climate Crisis Collective 2019-09-15 00:00:00+00:00    200.00\n",
                            "5     Climate Crisis Collective 2019-10-06 00:00:00+00:00  25000.00\n",
                            "8     Climate Crisis Collective 2019-12-01 00:00:00+00:00  13500.00\n",
                            "10    Climate Crisis Collective 2019-12-22 00:00:00+00:00    466.00\n",
                            "...                         ...                       ...       ...\n",
                            "1017                  The Xylom 2024-09-15 00:00:00+00:00  17696.96\n",
                            "1020                  The Xylom 2024-10-13 00:00:00+00:00     13.26\n",
                            "1022                  The Xylom 2024-10-27 00:00:00+00:00      6.67\n",
                            "1026                  The Xylom 2024-12-01 00:00:00+00:00     19.95\n",
                            "1027                  The Xylom 2024-12-08 00:00:00+00:00    419.17\n",
                            "\n",
                            "[489 rows x 3 columns]"
                        ]
                    },
                    "execution_count": 5,
                    "metadata": {},
                    "output_type": "execute_result"
                }
            ],
            "source": [
                "positive"
            ]
        },
        {
            "cell_type": "code",
            "execution_count": 15,
            "metadata": {},
            "outputs": [
                {
                    "data": {
                        "text/html": [
                            "\n",
                            "<style>\n",
                            "  #altair-viz-ac2d4094474d4f91967321e9d5cd55c5.vega-embed {\n",
                            "    width: 100%;\n",
                            "    display: flex;\n",
                            "  }\n",
                            "\n",
                            "  #altair-viz-ac2d4094474d4f91967321e9d5cd55c5.vega-embed details,\n",
                            "  #altair-viz-ac2d4094474d4f91967321e9d5cd55c5.vega-embed details summary {\n",
                            "    position: relative;\n",
                            "  }\n",
                            "</style>\n",
                            "<div id=\"altair-viz-ac2d4094474d4f91967321e9d5cd55c5\"></div>\n",
                            "<script type=\"text/javascript\">\n",
                            "  var VEGA_DEBUG = (typeof VEGA_DEBUG == \"undefined\") ? {} : VEGA_DEBUG;\n",
                            "  (function(spec, embedOpt){\n",
                            "    let outputDiv = document.currentScript.previousElementSibling;\n",
                            "    if (outputDiv.id !== \"altair-viz-ac2d4094474d4f91967321e9d5cd55c5\") {\n",
                            "      outputDiv = document.getElementById(\"altair-viz-ac2d4094474d4f91967321e9d5cd55c5\");\n",
                            "    }\n",
                            "    const paths = {\n",
                            "      \"vega\": \"https://cdn.jsdelivr.net/npm/vega@5?noext\",\n",
                            "      \"vega-lib\": \"https://cdn.jsdelivr.net/npm/vega-lib?noext\",\n",
                            "      \"vega-lite\": \"https://cdn.jsdelivr.net/npm/vega-lite@5.20.1?noext\",\n",
                            "      \"vega-embed\": \"https://cdn.jsdelivr.net/npm/vega-embed@6?noext\",\n",
                            "    };\n",
                            "\n",
                            "    function maybeLoadScript(lib, version) {\n",
                            "      var key = `${lib.replace(\"-\", \"\")}_version`;\n",
                            "      return (VEGA_DEBUG[key] == version) ?\n",
                            "        Promise.resolve(paths[lib]) :\n",
                            "        new Promise(function(resolve, reject) {\n",
                            "          var s = document.createElement('script');\n",
                            "          document.getElementsByTagName(\"head\")[0].appendChild(s);\n",
                            "          s.async = true;\n",
                            "          s.onload = () => {\n",
                            "            VEGA_DEBUG[key] = version;\n",
                            "            return resolve(paths[lib]);\n",
                            "          };\n",
                            "          s.onerror = () => reject(`Error loading script: ${paths[lib]}`);\n",
                            "          s.src = paths[lib];\n",
                            "        });\n",
                            "    }\n",
                            "\n",
                            "    function showError(err) {\n",
                            "      outputDiv.innerHTML = `<div class=\"error\" style=\"color:red;\">${err}</div>`;\n",
                            "      throw err;\n",
                            "    }\n",
                            "\n",
                            "    function displayChart(vegaEmbed) {\n",
                            "      vegaEmbed(outputDiv, spec, embedOpt)\n",
                            "        .catch(err => showError(`Javascript Error: ${err.message}<br>This usually means there's a typo in your chart specification. See the javascript console for the full traceback.`));\n",
                            "    }\n",
                            "\n",
                            "    if(typeof define === \"function\" && define.amd) {\n",
                            "      requirejs.config({paths});\n",
                            "      require([\"vega-embed\"], displayChart, err => showError(`Error loading script: ${err.message}`));\n",
                            "    } else {\n",
                            "      maybeLoadScript(\"vega\", \"5\")\n",
                            "        .then(() => maybeLoadScript(\"vega-lite\", \"5.20.1\"))\n",
                            "        .then(() => maybeLoadScript(\"vega-embed\", \"6\"))\n",
                            "        .catch(showError)\n",
                            "        .then(() => displayChart(vegaEmbed));\n",
                            "    }\n",
                            "  })({\"config\": {\"view\": {\"continuousWidth\": 300, \"continuousHeight\": 300}}, \"data\": {\"name\": \"data-f56c53aa7eb49ea20195455722581238\"}, \"facet\": {\"row\": {\"field\": \"organization\", \"type\": \"nominal\"}}, \"spec\": {\"mark\": {\"type\": \"area\"}, \"encoding\": {\"color\": {\"field\": \"organization\", \"type\": \"nominal\"}, \"tooltip\": [{\"field\": \"date\", \"type\": \"temporal\"}, {\"field\": \"amount\", \"type\": \"quantitative\"}], \"x\": {\"field\": \"date\", \"type\": \"temporal\"}, \"y\": {\"field\": \"amount\", \"type\": \"quantitative\"}}, \"height\": 100, \"width\": 600}, \"$schema\": \"https://vega.github.io/schema/vega-lite/v5.20.1.json\", \"datasets\": {\"data-f56c53aa7eb49ea20195455722581238\": [{\"organization\": \"Climate Crisis Collective\", \"date\": \"2019-08-25T00:00:00+00:00\", \"amount\": 25000.0}, {\"organization\": \"Climate Crisis Collective\", \"date\": \"2019-09-15T00:00:00+00:00\", \"amount\": 200.0}, {\"organization\": \"Climate Crisis Collective\", \"date\": \"2019-10-06T00:00:00+00:00\", \"amount\": 25000.0}, {\"organization\": \"Climate Crisis Collective\", \"date\": \"2019-12-01T00:00:00+00:00\", \"amount\": 13500.0}, {\"organization\": \"Climate Crisis Collective\", \"date\": \"2019-12-22T00:00:00+00:00\", \"amount\": 466.0}, {\"organization\": \"Climate Crisis Collective\", \"date\": \"2020-01-26T00:00:00+00:00\", \"amount\": 1500.0}, {\"organization\": \"Climate Crisis Collective\", \"date\": \"2020-02-02T00:00:00+00:00\", \"amount\": 20.0}, {\"organization\": \"Climate Crisis Collective\", \"date\": \"2020-02-16T00:00:00+00:00\", \"amount\": 3685.0}, {\"organization\": \"Climate Crisis Collective\", \"date\": \"2020-02-23T00:00:00+00:00\", \"amount\": 8400.0}, {\"organization\": \"Climate Crisis Collective\", \"date\": \"2020-03-01T00:00:00+00:00\", \"amount\": 2520.0}, {\"organization\": \"Climate Crisis Collective\", \"date\": \"2020-03-15T00:00:00+00:00\", \"amount\": 1000.0}, {\"organization\": \"Climate Crisis Collective\", \"date\": \"2020-04-05T00:00:00+00:00\", \"amount\": 10230.0}, {\"organization\": \"Climate Crisis Collective\", \"date\": \"2020-04-19T00:00:00+00:00\", \"amount\": 25000.0}, {\"organization\": \"Climate Crisis Collective\", \"date\": \"2020-05-10T00:00:00+00:00\", \"amount\": 25000.0}, {\"organization\": \"Climate Crisis Collective\", \"date\": \"2020-06-07T00:00:00+00:00\", \"amount\": 30.0}, {\"organization\": \"Climate Crisis Collective\", \"date\": \"2020-06-14T00:00:00+00:00\", \"amount\": 50.0}, {\"organization\": \"Climate Crisis Collective\", \"date\": \"2020-06-21T00:00:00+00:00\", \"amount\": 3.0}, {\"organization\": \"Climate Crisis Collective\", \"date\": \"2020-07-05T00:00:00+00:00\", \"amount\": 30.0}, {\"organization\": \"Climate Crisis Collective\", \"date\": \"2020-08-02T00:00:00+00:00\", \"amount\": 30.0}, {\"organization\": \"Climate Crisis Collective\", \"date\": \"2020-08-16T00:00:00+00:00\", \"amount\": 3.0}, {\"organization\": \"Climate Crisis Collective\", \"date\": \"2020-09-06T00:00:00+00:00\", \"amount\": 30.0}, {\"organization\": \"Climate Crisis Collective\", \"date\": \"2020-10-04T00:00:00+00:00\", \"amount\": 30.0}, {\"organization\": \"Climate Crisis Collective\", \"date\": \"2020-10-11T00:00:00+00:00\", \"amount\": 4.0}, {\"organization\": \"Climate Crisis Collective\", \"date\": \"2020-11-01T00:00:00+00:00\", \"amount\": 34.0}, {\"organization\": \"Climate Crisis Collective\", \"date\": \"2020-12-06T00:00:00+00:00\", \"amount\": 34.0}, {\"organization\": \"Climate Crisis Collective\", \"date\": \"2021-01-10T00:00:00+00:00\", \"amount\": 34.0}, {\"organization\": \"Climate Crisis Collective\", \"date\": \"2021-02-07T00:00:00+00:00\", \"amount\": 34.0}, {\"organization\": \"Climate Crisis Collective\", \"date\": \"2021-03-07T00:00:00+00:00\", \"amount\": 34.0}, {\"organization\": \"Climate Crisis Collective\", \"date\": \"2021-04-04T00:00:00+00:00\", \"amount\": 34.0}, {\"organization\": \"Climate Crisis Collective\", \"date\": \"2021-05-02T00:00:00+00:00\", \"amount\": 34.0}, {\"organization\": \"Climate Crisis Collective\", \"date\": \"2021-06-06T00:00:00+00:00\", \"amount\": 32.3}, {\"organization\": \"Climate Crisis Collective\", \"date\": \"2021-07-04T00:00:00+00:00\", \"amount\": 22.8}, {\"organization\": \"Climate Crisis Collective\", \"date\": \"2021-08-01T00:00:00+00:00\", \"amount\": 22.8}, {\"organization\": \"Climate Crisis Collective\", \"date\": \"2021-09-05T00:00:00+00:00\", \"amount\": 22.8}, {\"organization\": \"Climate Crisis Collective\", \"date\": \"2021-10-03T00:00:00+00:00\", \"amount\": 22.8}, {\"organization\": \"Climate Crisis Collective\", \"date\": \"2021-11-07T00:00:00+00:00\", \"amount\": 22.8}, {\"organization\": \"Climate Crisis Collective\", \"date\": \"2021-12-05T00:00:00+00:00\", \"amount\": 22.8}, {\"organization\": \"Climate Crisis Collective\", \"date\": \"2022-01-09T00:00:00+00:00\", \"amount\": 22.8}, {\"organization\": \"Climate Crisis Collective\", \"date\": \"2022-02-06T00:00:00+00:00\", \"amount\": 22.8}, {\"organization\": \"Climate Crisis Collective\", \"date\": \"2022-03-06T00:00:00+00:00\", \"amount\": 22.8}, {\"organization\": \"Climate Crisis Collective\", \"date\": \"2022-04-03T00:00:00+00:00\", \"amount\": 22.8}, {\"organization\": \"Climate Crisis Collective\", \"date\": \"2022-05-01T00:00:00+00:00\", \"amount\": 22.8}, {\"organization\": \"Climate Crisis Collective\", \"date\": \"2022-05-08T00:00:00+00:00\", \"amount\": 9.5}, {\"organization\": \"Climate Crisis Collective\", \"date\": \"2022-06-05T00:00:00+00:00\", \"amount\": 22.8}, {\"organization\": \"Climate Crisis Collective\", \"date\": \"2022-07-03T00:00:00+00:00\", \"amount\": 22.8}, {\"organization\": \"Climate Crisis Collective\", \"date\": \"2022-08-07T00:00:00+00:00\", \"amount\": 22.8}, {\"organization\": \"Climate Crisis Collective\", \"date\": \"2022-09-04T00:00:00+00:00\", \"amount\": 22.8}, {\"organization\": \"Climate Crisis Collective\", \"date\": \"2022-10-02T00:00:00+00:00\", \"amount\": 22.8}, {\"organization\": \"Climate Crisis Collective\", \"date\": \"2022-11-06T00:00:00+00:00\", \"amount\": 19.0}, {\"organization\": \"Climate Crisis Collective\", \"date\": \"2022-12-04T00:00:00+00:00\", \"amount\": 19.0}, {\"organization\": \"Climate Crisis Collective\", \"date\": \"2023-01-01T00:00:00+00:00\", \"amount\": 19.0}, {\"organization\": \"Climate Crisis Collective\", \"date\": \"2023-02-05T00:00:00+00:00\", \"amount\": 19.0}, {\"organization\": \"Climate Crisis Collective\", \"date\": \"2023-03-05T00:00:00+00:00\", \"amount\": 19.0}, {\"organization\": \"Climate Crisis Collective\", \"date\": \"2023-04-02T00:00:00+00:00\", \"amount\": 19.0}, {\"organization\": \"Climate Crisis Collective\", \"date\": \"2023-05-07T00:00:00+00:00\", \"amount\": 19.0}, {\"organization\": \"Climate Justice Toronto\", \"date\": \"2022-02-13T00:00:00+00:00\", \"amount\": 11982.58}, {\"organization\": \"Climate Justice Toronto\", \"date\": \"2022-06-12T00:00:00+00:00\", \"amount\": 5251.009999999999}, {\"organization\": \"Climate Justice Toronto\", \"date\": \"2022-10-09T00:00:00+00:00\", \"amount\": 93.25}, {\"organization\": \"Climate Justice Toronto\", \"date\": \"2022-12-25T00:00:00+00:00\", \"amount\": 100.0}, {\"organization\": \"Climate Justice Toronto\", \"date\": \"2023-01-29T00:00:00+00:00\", \"amount\": 20.0}, {\"organization\": \"Climate Justice Toronto\", \"date\": \"2023-03-05T00:00:00+00:00\", \"amount\": 20.0}, {\"organization\": \"Climate Justice Toronto\", \"date\": \"2023-05-07T00:00:00+00:00\", \"amount\": 130.0}, {\"organization\": \"Climate Justice Toronto\", \"date\": \"2023-05-14T00:00:00+00:00\", \"amount\": 50.0}, {\"organization\": \"Climate Justice Toronto\", \"date\": \"2023-06-11T00:00:00+00:00\", \"amount\": 55.0}, {\"organization\": \"Climate Justice Toronto\", \"date\": \"2023-07-02T00:00:00+00:00\", \"amount\": 35.0}, {\"organization\": \"Climate Justice Toronto\", \"date\": \"2023-07-16T00:00:00+00:00\", \"amount\": 25.0}, {\"organization\": \"Climate Justice Toronto\", \"date\": \"2023-08-06T00:00:00+00:00\", \"amount\": 35.0}, {\"organization\": \"Climate Justice Toronto\", \"date\": \"2023-08-20T00:00:00+00:00\", \"amount\": 95.0}, {\"organization\": \"Climate Justice Toronto\", \"date\": \"2023-10-08T00:00:00+00:00\", \"amount\": 35.0}, {\"organization\": \"Climate Justice Toronto\", \"date\": \"2023-10-22T00:00:00+00:00\", \"amount\": 50.0}, {\"organization\": \"Climate Justice Toronto\", \"date\": \"2023-11-05T00:00:00+00:00\", \"amount\": 25.0}, {\"organization\": \"Climate Justice Toronto\", \"date\": \"2023-11-12T00:00:00+00:00\", \"amount\": 250.0}, {\"organization\": \"Climate Justice Toronto\", \"date\": \"2023-12-03T00:00:00+00:00\", \"amount\": 75.0}, {\"organization\": \"Climate Justice Toronto\", \"date\": \"2023-12-10T00:00:00+00:00\", \"amount\": 50.0}, {\"organization\": \"Climate Justice Toronto\", \"date\": \"2023-12-31T00:00:00+00:00\", \"amount\": 100.0}, {\"organization\": \"Climate Justice Toronto\", \"date\": \"2024-01-07T00:00:00+00:00\", \"amount\": 71.76}, {\"organization\": \"Climate Justice Toronto\", \"date\": \"2024-02-04T00:00:00+00:00\", \"amount\": 71.76}, {\"organization\": \"Climate Justice Toronto\", \"date\": \"2024-03-03T00:00:00+00:00\", \"amount\": 71.76}, {\"organization\": \"Climate Justice Toronto\", \"date\": \"2024-04-07T00:00:00+00:00\", \"amount\": 71.76}, {\"organization\": \"Climate Justice Toronto\", \"date\": \"2024-05-05T00:00:00+00:00\", \"amount\": 71.76}, {\"organization\": \"Climate Justice Toronto\", \"date\": \"2024-06-02T00:00:00+00:00\", \"amount\": 71.76}, {\"organization\": \"Climate Justice Toronto\", \"date\": \"2024-07-07T00:00:00+00:00\", \"amount\": 51.760000000000005}, {\"organization\": \"Climate Justice Toronto\", \"date\": \"2024-07-14T00:00:00+00:00\", \"amount\": 3707.7}, {\"organization\": \"Climate Justice Toronto\", \"date\": \"2024-08-04T00:00:00+00:00\", \"amount\": 52.64}, {\"organization\": \"Climate Justice Toronto\", \"date\": \"2024-09-01T00:00:00+00:00\", \"amount\": 4.54}, {\"organization\": \"Climate Justice Toronto\", \"date\": \"2024-11-03T00:00:00+00:00\", \"amount\": 4.54}, {\"organization\": \"Climate Justice Toronto\", \"date\": \"2024-11-10T00:00:00+00:00\", \"amount\": 9709.12}, {\"organization\": \"Climate Justice Toronto\", \"date\": \"2024-12-01T00:00:00+00:00\", \"amount\": 4.54}, {\"organization\": \"Collective Abundance\", \"date\": \"2024-04-28T00:00:00+00:00\", \"amount\": 18734.159999999996}, {\"organization\": \"Collective Abundance\", \"date\": \"2024-05-05T00:00:00+00:00\", \"amount\": 20230.0}, {\"organization\": \"Collective Abundance\", \"date\": \"2024-06-30T00:00:00+00:00\", \"amount\": 50000.0}, {\"organization\": \"Collective Abundance\", \"date\": \"2024-07-28T00:00:00+00:00\", \"amount\": 291.0}, {\"organization\": \"Extinction Rebellion\", \"date\": \"2019-06-23T00:00:00+00:00\", \"amount\": 20.0}, {\"organization\": \"Extinction Rebellion\", \"date\": \"2019-06-30T00:00:00+00:00\", \"amount\": 30.0}, {\"organization\": \"Extinction Rebellion\", \"date\": \"2019-07-07T00:00:00+00:00\", \"amount\": 50.0}, {\"organization\": \"Extinction Rebellion\", \"date\": \"2019-07-14T00:00:00+00:00\", \"amount\": 110.0}, {\"organization\": \"Extinction Rebellion\", \"date\": \"2019-07-21T00:00:00+00:00\", \"amount\": 20.0}, {\"organization\": \"Extinction Rebellion\", \"date\": \"2019-08-04T00:00:00+00:00\", \"amount\": 90.0}, {\"organization\": \"Extinction Rebellion\", \"date\": \"2019-08-18T00:00:00+00:00\", \"amount\": 10.0}, {\"organization\": \"Extinction Rebellion\", \"date\": \"2019-09-01T00:00:00+00:00\", \"amount\": 110.0}, {\"organization\": \"Extinction Rebellion\", \"date\": \"2019-09-15T00:00:00+00:00\", \"amount\": 8714.55}, {\"organization\": \"Extinction Rebellion\", \"date\": \"2019-09-22T00:00:00+00:00\", \"amount\": 4793.0}, {\"organization\": \"Extinction Rebellion\", \"date\": \"2019-09-29T00:00:00+00:00\", \"amount\": 540.0}, {\"organization\": \"Extinction Rebellion\", \"date\": \"2019-10-06T00:00:00+00:00\", \"amount\": 116.34}, {\"organization\": \"Extinction Rebellion\", \"date\": \"2019-10-13T00:00:00+00:00\", \"amount\": 100.0}, {\"organization\": \"Extinction Rebellion\", \"date\": \"2019-10-20T00:00:00+00:00\", \"amount\": 26.0}, {\"organization\": \"Extinction Rebellion\", \"date\": \"2019-10-27T00:00:00+00:00\", \"amount\": 4755.0}, {\"organization\": \"Extinction Rebellion\", \"date\": \"2019-11-03T00:00:00+00:00\", \"amount\": 120.0}, {\"organization\": \"Extinction Rebellion\", \"date\": \"2019-11-10T00:00:00+00:00\", \"amount\": 5010.0}, {\"organization\": \"Extinction Rebellion\", \"date\": \"2019-11-17T00:00:00+00:00\", \"amount\": 125.0}, {\"organization\": \"Extinction Rebellion\", \"date\": \"2019-11-24T00:00:00+00:00\", \"amount\": 50.0}, {\"organization\": \"Extinction Rebellion\", \"date\": \"2019-12-01T00:00:00+00:00\", \"amount\": 1939.95}, {\"organization\": \"Extinction Rebellion\", \"date\": \"2019-12-15T00:00:00+00:00\", \"amount\": 4955.0}, {\"organization\": \"Extinction Rebellion\", \"date\": \"2020-01-12T00:00:00+00:00\", \"amount\": 5085.0}, {\"organization\": \"Extinction Rebellion\", \"date\": \"2020-01-26T00:00:00+00:00\", \"amount\": 1550.5}, {\"organization\": \"Extinction Rebellion\", \"date\": \"2020-02-23T00:00:00+00:00\", \"amount\": 30.0}, {\"organization\": \"Extinction Rebellion\", \"date\": \"2020-03-15T00:00:00+00:00\", \"amount\": 3050.51}, {\"organization\": \"Extinction Rebellion\", \"date\": \"2020-03-29T00:00:00+00:00\", \"amount\": 400.0}, {\"organization\": \"Extinction Rebellion\", \"date\": \"2020-04-05T00:00:00+00:00\", \"amount\": 170.0}, {\"organization\": \"Extinction Rebellion\", \"date\": \"2020-04-12T00:00:00+00:00\", \"amount\": 50.0}, {\"organization\": \"Extinction Rebellion\", \"date\": \"2020-04-26T00:00:00+00:00\", \"amount\": 500.0}, {\"organization\": \"Extinction Rebellion\", \"date\": \"2020-05-03T00:00:00+00:00\", \"amount\": 151.15}, {\"organization\": \"Extinction Rebellion\", \"date\": \"2020-05-10T00:00:00+00:00\", \"amount\": 275.0}, {\"organization\": \"Extinction Rebellion\", \"date\": \"2020-05-17T00:00:00+00:00\", \"amount\": 2156.51}, {\"organization\": \"Extinction Rebellion\", \"date\": \"2020-06-07T00:00:00+00:00\", \"amount\": 255.0}, {\"organization\": \"Extinction Rebellion\", \"date\": \"2020-06-14T00:00:00+00:00\", \"amount\": 249.0}, {\"organization\": \"Extinction Rebellion\", \"date\": \"2020-06-28T00:00:00+00:00\", \"amount\": 80.0}, {\"organization\": \"Extinction Rebellion\", \"date\": \"2020-07-05T00:00:00+00:00\", \"amount\": 163.0}, {\"organization\": \"Extinction Rebellion\", \"date\": \"2020-07-12T00:00:00+00:00\", \"amount\": 507.94}, {\"organization\": \"Extinction Rebellion\", \"date\": \"2020-07-19T00:00:00+00:00\", \"amount\": 155.61}, {\"organization\": \"Extinction Rebellion\", \"date\": \"2020-07-26T00:00:00+00:00\", \"amount\": 110.0}, {\"organization\": \"Extinction Rebellion\", \"date\": \"2020-08-02T00:00:00+00:00\", \"amount\": 415.0}, {\"organization\": \"Extinction Rebellion\", \"date\": \"2020-08-09T00:00:00+00:00\", \"amount\": 183.0}, {\"organization\": \"Extinction Rebellion\", \"date\": \"2020-08-23T00:00:00+00:00\", \"amount\": 38.61}, {\"organization\": \"Extinction Rebellion\", \"date\": \"2020-08-30T00:00:00+00:00\", \"amount\": 574.25}, {\"organization\": \"Extinction Rebellion\", \"date\": \"2020-09-06T00:00:00+00:00\", \"amount\": 3918.74}, {\"organization\": \"Extinction Rebellion\", \"date\": \"2020-10-04T00:00:00+00:00\", \"amount\": 200.0}, {\"organization\": \"Extinction Rebellion\", \"date\": \"2020-10-11T00:00:00+00:00\", \"amount\": 5782.76}, {\"organization\": \"Extinction Rebellion\", \"date\": \"2020-10-18T00:00:00+00:00\", \"amount\": 756.46}, {\"organization\": \"Extinction Rebellion\", \"date\": \"2020-11-01T00:00:00+00:00\", \"amount\": 5189.43}, {\"organization\": \"Extinction Rebellion\", \"date\": \"2020-11-08T00:00:00+00:00\", \"amount\": 5835.0}, {\"organization\": \"Extinction Rebellion\", \"date\": \"2020-11-22T00:00:00+00:00\", \"amount\": 111.27000000000001}, {\"organization\": \"Extinction Rebellion\", \"date\": \"2020-11-29T00:00:00+00:00\", \"amount\": 5.0}, {\"organization\": \"Extinction Rebellion\", \"date\": \"2020-12-06T00:00:00+00:00\", \"amount\": 3315.76}, {\"organization\": \"Extinction Rebellion\", \"date\": \"2021-01-17T00:00:00+00:00\", \"amount\": 4965.81}, {\"organization\": \"Extinction Rebellion\", \"date\": \"2021-01-24T00:00:00+00:00\", \"amount\": 2197.0}, {\"organization\": \"Extinction Rebellion\", \"date\": \"2021-01-31T00:00:00+00:00\", \"amount\": 1323.38}, {\"organization\": \"Extinction Rebellion\", \"date\": \"2021-02-21T00:00:00+00:00\", \"amount\": 9346.23}, {\"organization\": \"Extinction Rebellion\", \"date\": \"2021-04-04T00:00:00+00:00\", \"amount\": 5639.1}, {\"organization\": \"Extinction Rebellion\", \"date\": \"2021-04-11T00:00:00+00:00\", \"amount\": 55.0}, {\"organization\": \"Extinction Rebellion\", \"date\": \"2021-04-25T00:00:00+00:00\", \"amount\": 2403.57}, {\"organization\": \"Extinction Rebellion\", \"date\": \"2021-05-09T00:00:00+00:00\", \"amount\": 301.44000000000005}, {\"organization\": \"Extinction Rebellion\", \"date\": \"2021-05-23T00:00:00+00:00\", \"amount\": 135.61}, {\"organization\": \"Extinction Rebellion\", \"date\": \"2021-06-27T00:00:00+00:00\", \"amount\": 38380.87}, {\"organization\": \"Extinction Rebellion\", \"date\": \"2021-07-18T00:00:00+00:00\", \"amount\": 2768.68}, {\"organization\": \"Extinction Rebellion\", \"date\": \"2021-08-15T00:00:00+00:00\", \"amount\": 396.35}, {\"organization\": \"Extinction Rebellion\", \"date\": \"2021-10-24T00:00:00+00:00\", \"amount\": 3813.36}, {\"organization\": \"Extinction Rebellion\", \"date\": \"2021-11-07T00:00:00+00:00\", \"amount\": 430.2}, {\"organization\": \"Extinction Rebellion\", \"date\": \"2021-11-14T00:00:00+00:00\", \"amount\": 19.4}, {\"organization\": \"Extinction Rebellion\", \"date\": \"2021-12-05T00:00:00+00:00\", \"amount\": 141.95999999999998}, {\"organization\": \"Extinction Rebellion\", \"date\": \"2021-12-12T00:00:00+00:00\", \"amount\": 48.5}, {\"organization\": \"Extinction Rebellion\", \"date\": \"2021-12-19T00:00:00+00:00\", \"amount\": 53.35}, {\"organization\": \"Extinction Rebellion\", \"date\": \"2022-01-02T00:00:00+00:00\", \"amount\": 101.82}, {\"organization\": \"Extinction Rebellion\", \"date\": \"2022-01-16T00:00:00+00:00\", \"amount\": 9.7}, {\"organization\": \"Extinction Rebellion\", \"date\": \"2022-01-23T00:00:00+00:00\", \"amount\": 48.5}, {\"organization\": \"Extinction Rebellion\", \"date\": \"2022-02-13T00:00:00+00:00\", \"amount\": 9.7}, {\"organization\": \"Extinction Rebellion\", \"date\": \"2022-03-06T00:00:00+00:00\", \"amount\": 370.75}, {\"organization\": \"Extinction Rebellion\", \"date\": \"2022-03-13T00:00:00+00:00\", \"amount\": 84.2}, {\"organization\": \"Extinction Rebellion\", \"date\": \"2022-03-20T00:00:00+00:00\", \"amount\": 4.85}, {\"organization\": \"Extinction Rebellion\", \"date\": \"2022-04-03T00:00:00+00:00\", \"amount\": 471.57}, {\"organization\": \"Extinction Rebellion\", \"date\": \"2022-04-10T00:00:00+00:00\", \"amount\": 28.700000000000003}, {\"organization\": \"Extinction Rebellion\", \"date\": \"2022-04-17T00:00:00+00:00\", \"amount\": 1065.5900000000001}, {\"organization\": \"Extinction Rebellion\", \"date\": \"2022-04-24T00:00:00+00:00\", \"amount\": 194.73}, {\"organization\": \"Extinction Rebellion\", \"date\": \"2022-05-01T00:00:00+00:00\", \"amount\": 277.86}, {\"organization\": \"Extinction Rebellion\", \"date\": \"2022-05-08T00:00:00+00:00\", \"amount\": 81.15}, {\"organization\": \"Extinction Rebellion\", \"date\": \"2022-05-15T00:00:00+00:00\", \"amount\": 4.85}, {\"organization\": \"Extinction Rebellion\", \"date\": \"2022-06-05T00:00:00+00:00\", \"amount\": 188.93}, {\"organization\": \"Extinction Rebellion\", \"date\": \"2022-06-12T00:00:00+00:00\", \"amount\": 14.35}, {\"organization\": \"Extinction Rebellion\", \"date\": \"2022-06-19T00:00:00+00:00\", \"amount\": 5766.4}, {\"organization\": \"Extinction Rebellion\", \"date\": \"2022-07-03T00:00:00+00:00\", \"amount\": 9180.81}, {\"organization\": \"Extinction Rebellion\", \"date\": \"2022-07-10T00:00:00+00:00\", \"amount\": 19281.77}, {\"organization\": \"Extinction Rebellion\", \"date\": \"2022-07-17T00:00:00+00:00\", \"amount\": 8119.39}, {\"organization\": \"Extinction Rebellion\", \"date\": \"2022-07-31T00:00:00+00:00\", \"amount\": 18086.75}, {\"organization\": \"Extinction Rebellion\", \"date\": \"2022-09-11T00:00:00+00:00\", \"amount\": 532.27}, {\"organization\": \"Extinction Rebellion\", \"date\": \"2022-10-02T00:00:00+00:00\", \"amount\": 97197.31}, {\"organization\": \"Extinction Rebellion\", \"date\": \"2022-10-16T00:00:00+00:00\", \"amount\": 90962.41}, {\"organization\": \"Extinction Rebellion\", \"date\": \"2023-01-01T00:00:00+00:00\", \"amount\": 517.35}, {\"organization\": \"Extinction Rebellion\", \"date\": \"2023-01-08T00:00:00+00:00\", \"amount\": 1368.55}, {\"organization\": \"Extinction Rebellion\", \"date\": \"2023-01-22T00:00:00+00:00\", \"amount\": 34037.62}, {\"organization\": \"Extinction Rebellion\", \"date\": \"2023-03-19T00:00:00+00:00\", \"amount\": 2971.279999999999}, {\"organization\": \"Extinction Rebellion\", \"date\": \"2023-03-26T00:00:00+00:00\", \"amount\": 206.84}, {\"organization\": \"Extinction Rebellion\", \"date\": \"2023-04-23T00:00:00+00:00\", \"amount\": 182.01999999999998}, {\"organization\": \"Extinction Rebellion\", \"date\": \"2023-04-30T00:00:00+00:00\", \"amount\": 133854.46}, {\"organization\": \"Extinction Rebellion\", \"date\": \"2023-10-29T00:00:00+00:00\", \"amount\": 9047.67}, {\"organization\": \"Extinction Rebellion\", \"date\": \"2023-11-05T00:00:00+00:00\", \"amount\": 3742.29}, {\"organization\": \"Extinction Rebellion\", \"date\": \"2023-11-26T00:00:00+00:00\", \"amount\": 4371.120000000001}, {\"organization\": \"Extinction Rebellion\", \"date\": \"2023-12-24T00:00:00+00:00\", \"amount\": 81090.22}, {\"organization\": \"Extinction Rebellion\", \"date\": \"2023-12-31T00:00:00+00:00\", \"amount\": 370.53999999999996}, {\"organization\": \"Extinction Rebellion\", \"date\": \"2024-02-11T00:00:00+00:00\", \"amount\": 602.86}, {\"organization\": \"Extinction Rebellion\", \"date\": \"2024-02-25T00:00:00+00:00\", \"amount\": 1361.31}, {\"organization\": \"Extinction Rebellion\", \"date\": \"2024-03-24T00:00:00+00:00\", \"amount\": 8.589999999999918}, {\"organization\": \"Extinction Rebellion\", \"date\": \"2024-05-19T00:00:00+00:00\", \"amount\": 257.9600000000001}, {\"organization\": \"Extinction Rebellion\", \"date\": \"2024-06-02T00:00:00+00:00\", \"amount\": 1019.83}, {\"organization\": \"Extinction Rebellion\", \"date\": \"2024-06-09T00:00:00+00:00\", \"amount\": 716.24}, {\"organization\": \"Extinction Rebellion\", \"date\": \"2024-06-23T00:00:00+00:00\", \"amount\": 282.47}, {\"organization\": \"Extinction Rebellion\", \"date\": \"2024-07-07T00:00:00+00:00\", \"amount\": 1008.39}, {\"organization\": \"Extinction Rebellion\", \"date\": \"2024-07-28T00:00:00+00:00\", \"amount\": 67836.62}, {\"organization\": \"Extinction Rebellion\", \"date\": \"2024-09-29T00:00:00+00:00\", \"amount\": 2541.24}, {\"organization\": \"Extinction Rebellion\", \"date\": \"2024-11-03T00:00:00+00:00\", \"amount\": 757.9300000000001}, {\"organization\": \"Extinction Rebellion\", \"date\": \"2024-11-17T00:00:00+00:00\", \"amount\": 315.13999999999993}, {\"organization\": \"Extinction Rebellion\", \"date\": \"2024-11-24T00:00:00+00:00\", \"amount\": 1422.9}, {\"organization\": \"Extinction Rebellion\", \"date\": \"2024-12-01T00:00:00+00:00\", \"amount\": 949.5400000000001}, {\"organization\": \"Extinction Rebellion\", \"date\": \"2024-12-08T00:00:00+00:00\", \"amount\": 904.51}, {\"organization\": \"Fridays For Future\", \"date\": \"2019-12-01T00:00:00+00:00\", \"amount\": 1000.0}, {\"organization\": \"Fridays For Future\", \"date\": \"2020-02-02T00:00:00+00:00\", \"amount\": 5.0}, {\"organization\": \"Fridays For Future\", \"date\": \"2020-02-16T00:00:00+00:00\", \"amount\": 189.0}, {\"organization\": \"Fridays For Future\", \"date\": \"2020-03-01T00:00:00+00:00\", \"amount\": 5.0}, {\"organization\": \"Fridays For Future\", \"date\": \"2020-04-05T00:00:00+00:00\", \"amount\": 5.0}, {\"organization\": \"Fridays For Future\", \"date\": \"2020-05-03T00:00:00+00:00\", \"amount\": 5.0}, {\"organization\": \"Fridays For Future\", \"date\": \"2020-05-31T00:00:00+00:00\", \"amount\": 13184.69}, {\"organization\": \"Fridays For Future\", \"date\": \"2020-06-07T00:00:00+00:00\", \"amount\": 5.0}, {\"organization\": \"Fridays For Future\", \"date\": \"2020-06-21T00:00:00+00:00\", \"amount\": 3.0}, {\"organization\": \"Fridays For Future\", \"date\": \"2020-07-05T00:00:00+00:00\", \"amount\": 3.0}, {\"organization\": \"Fridays For Future\", \"date\": \"2020-08-09T00:00:00+00:00\", \"amount\": 9.0}, {\"organization\": \"Fridays For Future\", \"date\": \"2020-09-06T00:00:00+00:00\", \"amount\": 9.0}, {\"organization\": \"Fridays For Future\", \"date\": \"2020-09-27T00:00:00+00:00\", \"amount\": 210.0}, {\"organization\": \"Fridays For Future\", \"date\": \"2020-10-11T00:00:00+00:00\", \"amount\": 217.39}, {\"organization\": \"Fridays For Future\", \"date\": \"2020-10-18T00:00:00+00:00\", \"amount\": 110.0}, {\"organization\": \"Fridays For Future\", \"date\": \"2020-11-01T00:00:00+00:00\", \"amount\": 24.0}, {\"organization\": \"Fridays For Future\", \"date\": \"2020-11-29T00:00:00+00:00\", \"amount\": 50.0}, {\"organization\": \"Fridays For Future\", \"date\": \"2021-01-10T00:00:00+00:00\", \"amount\": 26.0}, {\"organization\": \"Fridays For Future\", \"date\": \"2021-01-31T00:00:00+00:00\", \"amount\": 20.0}, {\"organization\": \"Fridays For Future\", \"date\": \"2021-02-07T00:00:00+00:00\", \"amount\": 21.0}, {\"organization\": \"Fridays For Future\", \"date\": \"2021-03-07T00:00:00+00:00\", \"amount\": 4.809999999999999}, {\"organization\": \"Fridays For Future\", \"date\": \"2021-03-28T00:00:00+00:00\", \"amount\": 6878.0}, {\"organization\": \"Fridays For Future\", \"date\": \"2021-04-04T00:00:00+00:00\", \"amount\": 6.8100000000000005}, {\"organization\": \"Fridays For Future\", \"date\": \"2021-04-11T00:00:00+00:00\", \"amount\": 10.0}, {\"organization\": \"Fridays For Future\", \"date\": \"2021-04-18T00:00:00+00:00\", \"amount\": 20.0}, {\"organization\": \"Fridays For Future\", \"date\": \"2021-06-06T00:00:00+00:00\", \"amount\": 20.17}, {\"organization\": \"Fridays For Future\", \"date\": \"2021-06-27T00:00:00+00:00\", \"amount\": 4.1}, {\"organization\": \"Fridays For Future\", \"date\": \"2021-07-18T00:00:00+00:00\", \"amount\": 0.48}, {\"organization\": \"Fridays For Future\", \"date\": \"2021-08-01T00:00:00+00:00\", \"amount\": 20.17}, {\"organization\": \"Fridays For Future\", \"date\": \"2021-08-29T00:00:00+00:00\", \"amount\": 7268.4}, {\"organization\": \"Fridays For Future\", \"date\": \"2021-09-05T00:00:00+00:00\", \"amount\": 20.17}, {\"organization\": \"Fridays For Future\", \"date\": \"2021-10-03T00:00:00+00:00\", \"amount\": 20.17}, {\"organization\": \"Fridays For Future\", \"date\": \"2021-10-31T00:00:00+00:00\", \"amount\": 25485.1}, {\"organization\": \"Fridays For Future\", \"date\": \"2021-11-14T00:00:00+00:00\", \"amount\": 9634.150000000001}, {\"organization\": \"Fridays For Future\", \"date\": \"2021-12-05T00:00:00+00:00\", \"amount\": 5889.57}, {\"organization\": \"Fridays For Future\", \"date\": \"2022-02-06T00:00:00+00:00\", \"amount\": 17.259999999999998}, {\"organization\": \"Fridays For Future\", \"date\": \"2022-02-13T00:00:00+00:00\", \"amount\": 19.4}, {\"organization\": \"Fridays For Future\", \"date\": \"2022-02-27T00:00:00+00:00\", \"amount\": 918.0}, {\"organization\": \"Fridays For Future\", \"date\": \"2022-03-06T00:00:00+00:00\", \"amount\": 17.259999999999998}, {\"organization\": \"Fridays For Future\", \"date\": \"2022-03-13T00:00:00+00:00\", \"amount\": 73776.5}, {\"organization\": \"Fridays For Future\", \"date\": \"2022-03-27T00:00:00+00:00\", \"amount\": 224.64999999999998}, {\"organization\": \"Fridays For Future\", \"date\": \"2022-04-03T00:00:00+00:00\", \"amount\": 17.259999999999998}, {\"organization\": \"Fridays For Future\", \"date\": \"2022-04-10T00:00:00+00:00\", \"amount\": 950.0}, {\"organization\": \"Fridays For Future\", \"date\": \"2022-04-17T00:00:00+00:00\", \"amount\": 50.0}, {\"organization\": \"Fridays For Future\", \"date\": \"2022-05-08T00:00:00+00:00\", \"amount\": 83377.46}, {\"organization\": \"Fridays For Future\", \"date\": \"2022-05-22T00:00:00+00:00\", \"amount\": 64.1}, {\"organization\": \"Fridays For Future\", \"date\": \"2022-06-05T00:00:00+00:00\", \"amount\": 107.76}, {\"organization\": \"Fridays For Future\", \"date\": \"2022-06-26T00:00:00+00:00\", \"amount\": 10.0}, {\"organization\": \"Fridays For Future\", \"date\": \"2022-07-03T00:00:00+00:00\", \"amount\": 234.03}, {\"organization\": \"Fridays For Future\", \"date\": \"2022-07-10T00:00:00+00:00\", \"amount\": 55.00999999999999}, {\"organization\": \"Fridays For Future\", \"date\": \"2022-07-17T00:00:00+00:00\", \"amount\": 1205.74}, {\"organization\": \"Fridays For Future\", \"date\": \"2022-08-21T00:00:00+00:00\", \"amount\": 609.55}, {\"organization\": \"Fridays For Future\", \"date\": \"2022-10-02T00:00:00+00:00\", \"amount\": 29.1}, {\"organization\": \"Fridays For Future\", \"date\": \"2022-12-25T00:00:00+00:00\", \"amount\": 378.0}, {\"organization\": \"Fridays For Future\", \"date\": \"2023-01-01T00:00:00+00:00\", \"amount\": 4.85}, {\"organization\": \"Fridays For Future\", \"date\": \"2023-02-05T00:00:00+00:00\", \"amount\": 504.85}, {\"organization\": \"Fridays For Future\", \"date\": \"2023-02-12T00:00:00+00:00\", \"amount\": 23249.49}, {\"organization\": \"Fridays For Future\", \"date\": \"2023-03-26T00:00:00+00:00\", \"amount\": 66200.0}, {\"organization\": \"Fridays For Future\", \"date\": \"2023-05-07T00:00:00+00:00\", \"amount\": 4.85}, {\"organization\": \"Fridays For Future\", \"date\": \"2023-06-04T00:00:00+00:00\", \"amount\": 4.85}, {\"organization\": \"Fridays For Future\", \"date\": \"2023-07-09T00:00:00+00:00\", \"amount\": 7500.0}, {\"organization\": \"Fridays For Future\", \"date\": \"2023-08-06T00:00:00+00:00\", \"amount\": 4.85}, {\"organization\": \"Fridays For Future\", \"date\": \"2023-10-29T00:00:00+00:00\", \"amount\": 25396.0}, {\"organization\": \"Fridays For Future\", \"date\": \"2023-11-05T00:00:00+00:00\", \"amount\": 938.48}, {\"organization\": \"Fridays For Future\", \"date\": \"2023-12-31T00:00:00+00:00\", \"amount\": 400.0}, {\"organization\": \"Fridays For Future\", \"date\": \"2024-01-07T00:00:00+00:00\", \"amount\": 337.79999999999995}, {\"organization\": \"Fridays For Future\", \"date\": \"2024-02-11T00:00:00+00:00\", \"amount\": 1164.2199999999998}, {\"organization\": \"Fridays For Future\", \"date\": \"2024-02-18T00:00:00+00:00\", \"amount\": 1514.69}, {\"organization\": \"Fridays For Future\", \"date\": \"2024-02-25T00:00:00+00:00\", \"amount\": 11696.64}, {\"organization\": \"Fridays For Future\", \"date\": \"2024-03-03T00:00:00+00:00\", \"amount\": 30009.23}, {\"organization\": \"Fridays For Future\", \"date\": \"2024-03-10T00:00:00+00:00\", \"amount\": 2071.56}, {\"organization\": \"Fridays For Future\", \"date\": \"2024-05-12T00:00:00+00:00\", \"amount\": 6.5199999999999925}, {\"organization\": \"Fridays For Future\", \"date\": \"2024-07-07T00:00:00+00:00\", \"amount\": 17.939999999999998}, {\"organization\": \"Fridays For Future\", \"date\": \"2024-09-01T00:00:00+00:00\", \"amount\": 727.96}, {\"organization\": \"Fridays For Future\", \"date\": \"2024-09-22T00:00:00+00:00\", \"amount\": 186.04999999999998}, {\"organization\": \"Fridays For Future\", \"date\": \"2024-10-06T00:00:00+00:00\", \"amount\": 17.03}, {\"organization\": \"Fridays For Future\", \"date\": \"2024-12-08T00:00:00+00:00\", \"amount\": 5245.599999999999}, {\"organization\": \"Kia Kotahi Ako\", \"date\": \"2021-06-20T00:00:00+00:00\", \"amount\": 65000.0}, {\"organization\": \"Kia Kotahi Ako\", \"date\": \"2021-07-18T00:00:00+00:00\", \"amount\": 1.0}, {\"organization\": \"Kia Kotahi Ako\", \"date\": \"2021-07-25T00:00:00+00:00\", \"amount\": 38860.0}, {\"organization\": \"Kia Kotahi Ako\", \"date\": \"2021-11-07T00:00:00+00:00\", \"amount\": 2000.0}, {\"organization\": \"Kia Kotahi Ako\", \"date\": \"2021-12-19T00:00:00+00:00\", \"amount\": 21000.0}, {\"organization\": \"Kia Kotahi Ako\", \"date\": \"2021-12-26T00:00:00+00:00\", \"amount\": 50.0}, {\"organization\": \"Kia Kotahi Ako\", \"date\": \"2022-01-16T00:00:00+00:00\", \"amount\": 240.0}, {\"organization\": \"Kia Kotahi Ako\", \"date\": \"2022-02-06T00:00:00+00:00\", \"amount\": 2000.0}, {\"organization\": \"Kia Kotahi Ako\", \"date\": \"2022-06-26T00:00:00+00:00\", \"amount\": 125227.92}, {\"organization\": \"Kia Kotahi Ako\", \"date\": \"2023-03-26T00:00:00+00:00\", \"amount\": 100.95}, {\"organization\": \"Kia Kotahi Ako\", \"date\": \"2024-09-08T00:00:00+00:00\", \"amount\": 481.2}, {\"organization\": \"Leap Climate Justice Experiment\", \"date\": \"2022-02-27T00:00:00+00:00\", \"amount\": 43500.0}, {\"organization\": \"Other\", \"date\": \"2019-03-10T00:00:00+00:00\", \"amount\": 45.0}, {\"organization\": \"Other\", \"date\": \"2019-03-17T00:00:00+00:00\", \"amount\": 385.0}, {\"organization\": \"Other\", \"date\": \"2019-03-24T00:00:00+00:00\", \"amount\": 60.0}, {\"organization\": \"Other\", \"date\": \"2019-03-31T00:00:00+00:00\", \"amount\": 5.0}, {\"organization\": \"Other\", \"date\": \"2019-04-07T00:00:00+00:00\", \"amount\": 20.0}, {\"organization\": \"Other\", \"date\": \"2019-04-14T00:00:00+00:00\", \"amount\": 10.0}, {\"organization\": \"Other\", \"date\": \"2019-06-02T00:00:00+00:00\", \"amount\": 17.0}, {\"organization\": \"Other\", \"date\": \"2019-08-11T00:00:00+00:00\", \"amount\": 105.0}, {\"organization\": \"Other\", \"date\": \"2019-08-18T00:00:00+00:00\", \"amount\": 5.0}, {\"organization\": \"Other\", \"date\": \"2019-08-25T00:00:00+00:00\", \"amount\": 140.0}, {\"organization\": \"Other\", \"date\": \"2019-09-01T00:00:00+00:00\", \"amount\": 30.0}, {\"organization\": \"Other\", \"date\": \"2019-09-22T00:00:00+00:00\", \"amount\": 500.0}, {\"organization\": \"Other\", \"date\": \"2019-10-06T00:00:00+00:00\", \"amount\": 56.19}, {\"organization\": \"Other\", \"date\": \"2019-10-13T00:00:00+00:00\", \"amount\": 100.0}, {\"organization\": \"Other\", \"date\": \"2019-10-27T00:00:00+00:00\", \"amount\": 1906.99}, {\"organization\": \"Other\", \"date\": \"2019-11-03T00:00:00+00:00\", \"amount\": 35.0}, {\"organization\": \"Other\", \"date\": \"2019-11-10T00:00:00+00:00\", \"amount\": 1000.0}, {\"organization\": \"Other\", \"date\": \"2019-12-01T00:00:00+00:00\", \"amount\": 14535.0}, {\"organization\": \"Other\", \"date\": \"2019-12-08T00:00:00+00:00\", \"amount\": 35.0}, {\"organization\": \"Other\", \"date\": \"2019-12-29T00:00:00+00:00\", \"amount\": 5.0}, {\"organization\": \"Other\", \"date\": \"2020-01-05T00:00:00+00:00\", \"amount\": 80.0}, {\"organization\": \"Other\", \"date\": \"2020-01-12T00:00:00+00:00\", \"amount\": 10.0}, {\"organization\": \"Other\", \"date\": \"2020-02-02T00:00:00+00:00\", \"amount\": 16125.0}, {\"organization\": \"Other\", \"date\": \"2020-02-09T00:00:00+00:00\", \"amount\": 325.0}, {\"organization\": \"Other\", \"date\": \"2020-02-23T00:00:00+00:00\", \"amount\": 100.0}, {\"organization\": \"Other\", \"date\": \"2020-03-01T00:00:00+00:00\", \"amount\": 6489.4}, {\"organization\": \"Other\", \"date\": \"2020-03-08T00:00:00+00:00\", \"amount\": 5352.66}, {\"organization\": \"Other\", \"date\": \"2020-03-29T00:00:00+00:00\", \"amount\": 2771.21}, {\"organization\": \"Other\", \"date\": \"2020-05-03T00:00:00+00:00\", \"amount\": 175.0}, {\"organization\": \"Other\", \"date\": \"2020-05-24T00:00:00+00:00\", \"amount\": 20.0}, {\"organization\": \"Other\", \"date\": \"2020-06-07T00:00:00+00:00\", \"amount\": 143.12}, {\"organization\": \"Other\", \"date\": \"2020-06-14T00:00:00+00:00\", \"amount\": 5717.0}, {\"organization\": \"Other\", \"date\": \"2020-10-04T00:00:00+00:00\", \"amount\": 5148.12}, {\"organization\": \"Other\", \"date\": \"2020-10-25T00:00:00+00:00\", \"amount\": 35.0}, {\"organization\": \"Other\", \"date\": \"2020-11-01T00:00:00+00:00\", \"amount\": 148.17000000000007}, {\"organization\": \"Other\", \"date\": \"2020-11-08T00:00:00+00:00\", \"amount\": 10.0}, {\"organization\": \"Other\", \"date\": \"2020-11-15T00:00:00+00:00\", \"amount\": 80.0}, {\"organization\": \"Other\", \"date\": \"2020-11-22T00:00:00+00:00\", \"amount\": 20.0}, {\"organization\": \"Other\", \"date\": \"2020-11-29T00:00:00+00:00\", \"amount\": 65.0}, {\"organization\": \"Other\", \"date\": \"2020-12-06T00:00:00+00:00\", \"amount\": 235.0}, {\"organization\": \"Other\", \"date\": \"2020-12-13T00:00:00+00:00\", \"amount\": 20.0}, {\"organization\": \"Other\", \"date\": \"2020-12-20T00:00:00+00:00\", \"amount\": 1213.22}, {\"organization\": \"Other\", \"date\": \"2021-01-03T00:00:00+00:00\", \"amount\": 20.0}, {\"organization\": \"Other\", \"date\": \"2021-01-10T00:00:00+00:00\", \"amount\": 304.01}, {\"organization\": \"Other\", \"date\": \"2021-01-17T00:00:00+00:00\", \"amount\": 520.0}, {\"organization\": \"Other\", \"date\": \"2021-01-24T00:00:00+00:00\", \"amount\": 145.0}, {\"organization\": \"Other\", \"date\": \"2021-02-07T00:00:00+00:00\", \"amount\": 404.9}, {\"organization\": \"Other\", \"date\": \"2021-02-14T00:00:00+00:00\", \"amount\": 1313.6}, {\"organization\": \"Other\", \"date\": \"2021-02-28T00:00:00+00:00\", \"amount\": 25.0}, {\"organization\": \"Other\", \"date\": \"2021-03-14T00:00:00+00:00\", \"amount\": 60.0}, {\"organization\": \"Other\", \"date\": \"2021-03-21T00:00:00+00:00\", \"amount\": 560.0}, {\"organization\": \"Other\", \"date\": \"2021-03-28T00:00:00+00:00\", \"amount\": 10.0}, {\"organization\": \"Other\", \"date\": \"2021-04-04T00:00:00+00:00\", \"amount\": 4329.42}, {\"organization\": \"Other\", \"date\": \"2021-04-11T00:00:00+00:00\", \"amount\": 175.0}, {\"organization\": \"Other\", \"date\": \"2021-04-18T00:00:00+00:00\", \"amount\": 30.0}, {\"organization\": \"Other\", \"date\": \"2021-04-25T00:00:00+00:00\", \"amount\": 50.0}, {\"organization\": \"Other\", \"date\": \"2021-05-02T00:00:00+00:00\", \"amount\": 1208.48}, {\"organization\": \"Other\", \"date\": \"2021-05-09T00:00:00+00:00\", \"amount\": 7343.0}, {\"organization\": \"Other\", \"date\": \"2021-05-30T00:00:00+00:00\", \"amount\": 1105.5}, {\"organization\": \"Other\", \"date\": \"2021-06-06T00:00:00+00:00\", \"amount\": 1490.16}, {\"organization\": \"Other\", \"date\": \"2021-06-13T00:00:00+00:00\", \"amount\": 848.23}, {\"organization\": \"Other\", \"date\": \"2021-06-27T00:00:00+00:00\", \"amount\": 4481.33}, {\"organization\": \"Other\", \"date\": \"2021-07-04T00:00:00+00:00\", \"amount\": 235.8}, {\"organization\": \"Other\", \"date\": \"2021-07-11T00:00:00+00:00\", \"amount\": 85329.22}, {\"organization\": \"Other\", \"date\": \"2021-08-01T00:00:00+00:00\", \"amount\": 63.02999999999999}, {\"organization\": \"Other\", \"date\": \"2021-08-15T00:00:00+00:00\", \"amount\": 389.4}, {\"organization\": \"Other\", \"date\": \"2021-09-19T00:00:00+00:00\", \"amount\": 4913.8}, {\"organization\": \"Other\", \"date\": \"2021-11-07T00:00:00+00:00\", \"amount\": 6531.179999999999}, {\"organization\": \"Other\", \"date\": \"2021-11-28T00:00:00+00:00\", \"amount\": 300.0}, {\"organization\": \"Other\", \"date\": \"2021-12-05T00:00:00+00:00\", \"amount\": 116.33000000000003}, {\"organization\": \"Other\", \"date\": \"2021-12-12T00:00:00+00:00\", \"amount\": 4646.85}, {\"organization\": \"Other\", \"date\": \"2021-12-26T00:00:00+00:00\", \"amount\": 179.45}, {\"organization\": \"Other\", \"date\": \"2022-01-02T00:00:00+00:00\", \"amount\": 1065.85}, {\"organization\": \"Other\", \"date\": \"2022-01-09T00:00:00+00:00\", \"amount\": 741.95}, {\"organization\": \"Other\", \"date\": \"2022-01-16T00:00:00+00:00\", \"amount\": 10170.45}, {\"organization\": \"Other\", \"date\": \"2022-02-06T00:00:00+00:00\", \"amount\": 1278.3}, {\"organization\": \"Other\", \"date\": \"2022-02-13T00:00:00+00:00\", \"amount\": 52.35}, {\"organization\": \"Other\", \"date\": \"2022-02-20T00:00:00+00:00\", \"amount\": 599.8399999999999}, {\"organization\": \"Other\", \"date\": \"2022-02-27T00:00:00+00:00\", \"amount\": 7941.62}, {\"organization\": \"Other\", \"date\": \"2022-03-06T00:00:00+00:00\", \"amount\": 262.65}, {\"organization\": \"Other\", \"date\": \"2022-03-20T00:00:00+00:00\", \"amount\": 190.0}, {\"organization\": \"Other\", \"date\": \"2022-03-27T00:00:00+00:00\", \"amount\": 2049.4}, {\"organization\": \"Other\", \"date\": \"2022-04-03T00:00:00+00:00\", \"amount\": 1991.02}, {\"organization\": \"Other\", \"date\": \"2022-04-10T00:00:00+00:00\", \"amount\": 4510.910000000001}, {\"organization\": \"Other\", \"date\": \"2022-05-01T00:00:00+00:00\", \"amount\": 1011.48}, {\"organization\": \"Other\", \"date\": \"2022-05-08T00:00:00+00:00\", \"amount\": 163.22000000000003}, {\"organization\": \"Other\", \"date\": \"2022-06-12T00:00:00+00:00\", \"amount\": 154.85000000000002}, {\"organization\": \"Other\", \"date\": \"2022-06-19T00:00:00+00:00\", \"amount\": 7715.79}, {\"organization\": \"Other\", \"date\": \"2022-07-31T00:00:00+00:00\", \"amount\": 4158.009999999998}, {\"organization\": \"Other\", \"date\": \"2022-08-14T00:00:00+00:00\", \"amount\": 218.25}, {\"organization\": \"Other\", \"date\": \"2022-08-28T00:00:00+00:00\", \"amount\": 6506.0199999999995}, {\"organization\": \"Other\", \"date\": \"2022-10-02T00:00:00+00:00\", \"amount\": 63.55}, {\"organization\": \"Other\", \"date\": \"2022-10-16T00:00:00+00:00\", \"amount\": 143.65}, {\"organization\": \"Other\", \"date\": \"2022-10-23T00:00:00+00:00\", \"amount\": 8308.56}, {\"organization\": \"Other\", \"date\": \"2022-11-06T00:00:00+00:00\", \"amount\": 4105.34}, {\"organization\": \"Other\", \"date\": \"2022-11-13T00:00:00+00:00\", \"amount\": 6659.55}, {\"organization\": \"Other\", \"date\": \"2022-11-20T00:00:00+00:00\", \"amount\": 7830.01}, {\"organization\": \"Other\", \"date\": \"2023-01-01T00:00:00+00:00\", \"amount\": 701.65}, {\"organization\": \"Other\", \"date\": \"2023-01-15T00:00:00+00:00\", \"amount\": 42847.2}, {\"organization\": \"Other\", \"date\": \"2023-02-05T00:00:00+00:00\", \"amount\": 128.99}, {\"organization\": \"Other\", \"date\": \"2023-02-12T00:00:00+00:00\", \"amount\": 2170.39}, {\"organization\": \"Other\", \"date\": \"2023-03-05T00:00:00+00:00\", \"amount\": 423.41999999999996}, {\"organization\": \"Other\", \"date\": \"2023-03-19T00:00:00+00:00\", \"amount\": 2106.5}, {\"organization\": \"Other\", \"date\": \"2023-03-26T00:00:00+00:00\", \"amount\": 235.45}, {\"organization\": \"Other\", \"date\": \"2023-04-02T00:00:00+00:00\", \"amount\": 2308.8400000000006}, {\"organization\": \"Other\", \"date\": \"2023-06-04T00:00:00+00:00\", \"amount\": 961.72}, {\"organization\": \"Other\", \"date\": \"2023-06-11T00:00:00+00:00\", \"amount\": 6602.36}, {\"organization\": \"Other\", \"date\": \"2023-06-18T00:00:00+00:00\", \"amount\": 927.21}, {\"organization\": \"Other\", \"date\": \"2023-07-02T00:00:00+00:00\", \"amount\": 8758.04}, {\"organization\": \"Other\", \"date\": \"2023-07-23T00:00:00+00:00\", \"amount\": 16059.369999999999}, {\"organization\": \"Other\", \"date\": \"2023-07-30T00:00:00+00:00\", \"amount\": 1449.45}, {\"organization\": \"Other\", \"date\": \"2023-08-27T00:00:00+00:00\", \"amount\": 9564.67}, {\"organization\": \"Other\", \"date\": \"2023-09-03T00:00:00+00:00\", \"amount\": 100914.25}, {\"organization\": \"Other\", \"date\": \"2023-10-08T00:00:00+00:00\", \"amount\": 16011.710000000001}, {\"organization\": \"Other\", \"date\": \"2023-11-26T00:00:00+00:00\", \"amount\": 5724.34}, {\"organization\": \"Other\", \"date\": \"2023-12-31T00:00:00+00:00\", \"amount\": 92450.06}, {\"organization\": \"Other\", \"date\": \"2024-01-21T00:00:00+00:00\", \"amount\": 1778.11}, {\"organization\": \"Other\", \"date\": \"2024-02-04T00:00:00+00:00\", \"amount\": 1980.93}, {\"organization\": \"Other\", \"date\": \"2024-02-18T00:00:00+00:00\", \"amount\": 933.84}, {\"organization\": \"Other\", \"date\": \"2024-03-10T00:00:00+00:00\", \"amount\": 22558.409999999996}, {\"organization\": \"Other\", \"date\": \"2024-03-24T00:00:00+00:00\", \"amount\": 2026.39}, {\"organization\": \"Other\", \"date\": \"2024-03-31T00:00:00+00:00\", \"amount\": 176.43999999999963}, {\"organization\": \"Other\", \"date\": \"2024-04-21T00:00:00+00:00\", \"amount\": 1556.7199999999998}, {\"organization\": \"Other\", \"date\": \"2024-04-28T00:00:00+00:00\", \"amount\": 146822.01}, {\"organization\": \"Other\", \"date\": \"2024-05-05T00:00:00+00:00\", \"amount\": 1045.79}, {\"organization\": \"Other\", \"date\": \"2024-05-26T00:00:00+00:00\", \"amount\": 18779.92}, {\"organization\": \"Other\", \"date\": \"2024-06-23T00:00:00+00:00\", \"amount\": 2640.22}, {\"organization\": \"Other\", \"date\": \"2024-07-28T00:00:00+00:00\", \"amount\": 653.58}, {\"organization\": \"Other\", \"date\": \"2024-08-11T00:00:00+00:00\", \"amount\": 554.17}, {\"organization\": \"Other\", \"date\": \"2024-09-08T00:00:00+00:00\", \"amount\": 239.84}, {\"organization\": \"Other\", \"date\": \"2024-10-13T00:00:00+00:00\", \"amount\": 1111.2899999999995}, {\"organization\": \"Other\", \"date\": \"2024-10-20T00:00:00+00:00\", \"amount\": 5816.92}, {\"organization\": \"Other\", \"date\": \"2024-11-03T00:00:00+00:00\", \"amount\": 869.59}, {\"organization\": \"Other\", \"date\": \"2024-11-10T00:00:00+00:00\", \"amount\": 3886.18}, {\"organization\": \"Other\", \"date\": \"2024-12-08T00:00:00+00:00\", \"amount\": 2717.9}, {\"organization\": \"The Xylom\", \"date\": \"2022-06-19T00:00:00+00:00\", \"amount\": 3340.23}, {\"organization\": \"The Xylom\", \"date\": \"2022-07-03T00:00:00+00:00\", \"amount\": 280.79}, {\"organization\": \"The Xylom\", \"date\": \"2022-07-31T00:00:00+00:00\", \"amount\": 38.0}, {\"organization\": \"The Xylom\", \"date\": \"2022-08-07T00:00:00+00:00\", \"amount\": 19.0}, {\"organization\": \"The Xylom\", \"date\": \"2022-09-04T00:00:00+00:00\", \"amount\": 66.5}, {\"organization\": \"The Xylom\", \"date\": \"2022-09-25T00:00:00+00:00\", \"amount\": 2449.45}, {\"organization\": \"The Xylom\", \"date\": \"2022-10-02T00:00:00+00:00\", \"amount\": 5.7}, {\"organization\": \"The Xylom\", \"date\": \"2022-12-04T00:00:00+00:00\", \"amount\": 5.7}, {\"organization\": \"The Xylom\", \"date\": \"2023-01-01T00:00:00+00:00\", \"amount\": 10055.74}, {\"organization\": \"The Xylom\", \"date\": \"2023-01-08T00:00:00+00:00\", \"amount\": 346.84999999999997}, {\"organization\": \"The Xylom\", \"date\": \"2023-01-22T00:00:00+00:00\", \"amount\": 0.38999999999998636}, {\"organization\": \"The Xylom\", \"date\": \"2023-02-05T00:00:00+00:00\", \"amount\": 24.7}, {\"organization\": \"The Xylom\", \"date\": \"2023-03-05T00:00:00+00:00\", \"amount\": 46.55}, {\"organization\": \"The Xylom\", \"date\": \"2023-03-19T00:00:00+00:00\", \"amount\": 38.0}, {\"organization\": \"The Xylom\", \"date\": \"2023-03-26T00:00:00+00:00\", \"amount\": 188.75}, {\"organization\": \"The Xylom\", \"date\": \"2023-04-02T00:00:00+00:00\", \"amount\": 3870.04}, {\"organization\": \"The Xylom\", \"date\": \"2023-04-16T00:00:00+00:00\", \"amount\": 47.5}, {\"organization\": \"The Xylom\", \"date\": \"2023-04-23T00:00:00+00:00\", \"amount\": 38.0}, {\"organization\": \"The Xylom\", \"date\": \"2023-04-30T00:00:00+00:00\", \"amount\": 142.5}, {\"organization\": \"The Xylom\", \"date\": \"2023-05-14T00:00:00+00:00\", \"amount\": 5.7}, {\"organization\": \"The Xylom\", \"date\": \"2023-05-28T00:00:00+00:00\", \"amount\": 19.0}, {\"organization\": \"The Xylom\", \"date\": \"2023-06-04T00:00:00+00:00\", \"amount\": 8.55}, {\"organization\": \"The Xylom\", \"date\": \"2023-07-09T00:00:00+00:00\", \"amount\": 1015.7}, {\"organization\": \"The Xylom\", \"date\": \"2023-08-06T00:00:00+00:00\", \"amount\": 29.45}, {\"organization\": \"The Xylom\", \"date\": \"2023-08-27T00:00:00+00:00\", \"amount\": 8.55}, {\"organization\": \"The Xylom\", \"date\": \"2023-09-03T00:00:00+00:00\", \"amount\": 10.45}, {\"organization\": \"The Xylom\", \"date\": \"2023-09-10T00:00:00+00:00\", \"amount\": 5.7}, {\"organization\": \"The Xylom\", \"date\": \"2023-09-17T00:00:00+00:00\", \"amount\": 230.0}, {\"organization\": \"The Xylom\", \"date\": \"2023-10-01T00:00:00+00:00\", \"amount\": 2.85}, {\"organization\": \"The Xylom\", \"date\": \"2023-10-22T00:00:00+00:00\", \"amount\": 42.75}, {\"organization\": \"The Xylom\", \"date\": \"2023-11-05T00:00:00+00:00\", \"amount\": 115.89999999999999}, {\"organization\": \"The Xylom\", \"date\": \"2023-11-12T00:00:00+00:00\", \"amount\": 8.55}, {\"organization\": \"The Xylom\", \"date\": \"2023-11-19T00:00:00+00:00\", \"amount\": 85.5}, {\"organization\": \"The Xylom\", \"date\": \"2023-12-10T00:00:00+00:00\", \"amount\": 5.7}, {\"organization\": \"The Xylom\", \"date\": \"2023-12-17T00:00:00+00:00\", \"amount\": 4.75}, {\"organization\": \"The Xylom\", \"date\": \"2023-12-31T00:00:00+00:00\", \"amount\": 54.60000000000002}, {\"organization\": \"The Xylom\", \"date\": \"2024-02-04T00:00:00+00:00\", \"amount\": 4131.139999999999}, {\"organization\": \"The Xylom\", \"date\": \"2024-02-18T00:00:00+00:00\", \"amount\": 4.16}, {\"organization\": \"The Xylom\", \"date\": \"2024-03-10T00:00:00+00:00\", \"amount\": 18405.07}, {\"organization\": \"The Xylom\", \"date\": \"2024-03-31T00:00:00+00:00\", \"amount\": 2591.0}, {\"organization\": \"The Xylom\", \"date\": \"2024-04-14T00:00:00+00:00\", \"amount\": 23.37}, {\"organization\": \"The Xylom\", \"date\": \"2024-04-21T00:00:00+00:00\", \"amount\": 31713.440000000002}, {\"organization\": \"The Xylom\", \"date\": \"2024-05-19T00:00:00+00:00\", \"amount\": 32.69999999999999}, {\"organization\": \"The Xylom\", \"date\": \"2024-06-02T00:00:00+00:00\", \"amount\": 18.05}, {\"organization\": \"The Xylom\", \"date\": \"2024-07-14T00:00:00+00:00\", \"amount\": 36.85}, {\"organization\": \"The Xylom\", \"date\": \"2024-07-21T00:00:00+00:00\", \"amount\": 99.29}, {\"organization\": \"The Xylom\", \"date\": \"2024-08-11T00:00:00+00:00\", \"amount\": 16.64}, {\"organization\": \"The Xylom\", \"date\": \"2024-09-15T00:00:00+00:00\", \"amount\": 17696.96}, {\"organization\": \"The Xylom\", \"date\": \"2024-10-13T00:00:00+00:00\", \"amount\": 13.26}, {\"organization\": \"The Xylom\", \"date\": \"2024-10-27T00:00:00+00:00\", \"amount\": 6.67}, {\"organization\": \"The Xylom\", \"date\": \"2024-12-01T00:00:00+00:00\", \"amount\": 19.95}, {\"organization\": \"The Xylom\", \"date\": \"2024-12-08T00:00:00+00:00\", \"amount\": 419.17}]}}, {\"mode\": \"vega-lite\"});\n",
                            "</script>"
                        ],
                        "text/plain": [
                            "alt.FacetChart(...)"
                        ]
                    },
                    "metadata": {},
                    "output_type": "display_data"
                }
            ],
            "source": [
                "import altair as alt\n",
                "\n",
                "\n",
                "alt.Chart(positive).mark_area().encode(\n",
                "    x=\"date:T\",  # T: temporal\n",
                "    y=\"amount:Q\",  # Q: quantitative\n",
                "    color=\"organization:N\",  # N: nominal\n",
                "    tooltip=[\"date\", \"amount\"],\n",
                ").properties(width=600, height=100).facet(\n",
                "    row='organization:N'\n",
                ").show()"
            ]
        }
    ],
    "metadata": {
        "kernelspec": {
            "display_name": ".venv",
            "language": "python",
            "name": "python3"
        },
        "language_info": {
            "codemirror_mode": {
                "name": "ipython",
                "version": 3
            },
            "file_extension": ".py",
            "mimetype": "text/x-python",
            "name": "python",
            "nbconvert_exporter": "python",
            "pygments_lexer": "ipython3",
            "version": "3.10.14"
        }
    },
    "nbformat": 4,
    "nbformat_minor": 2
}
