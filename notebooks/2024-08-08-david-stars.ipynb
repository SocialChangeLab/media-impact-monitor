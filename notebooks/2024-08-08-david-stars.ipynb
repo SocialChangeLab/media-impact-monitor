{
 "cells": [
  {
   "cell_type": "code",
   "execution_count": 2,
   "metadata": {},
   "outputs": [
    {
     "name": "stdout",
     "output_type": "stream",
     "text": [
      " 295⭐️: podlove/podlove-publisher\n",
      " 100⭐️: kolibril13/ipyblender-experimental\n",
      "  41⭐️: streetcomplete/streetcomplete-mapstyle\n",
      "  29⭐️: socialchangelab/media-impact-monitor\n",
      "  23⭐️: kreerc/a11ybuddy\n",
      "  21⭐️: causy-dev/causy\n",
      "  12⭐️: networkcommons/sig0namectl\n",
      "   8⭐️: openadministration/stufis\n",
      "   6⭐️: streetcomplete/streetcomplete-website\n",
      "   5⭐️: open-pv/simshady\n",
      "   2⭐️: chatally/chatally\n",
      "   2⭐️: viraaj-a/ecthr_prediction\n",
      "   1⭐️: causy-dev/causy-ui\n",
      "   1⭐️: citizen-knowledge-graph/citizen-knowledge-graph\n",
      "   1⭐️: citizen-knowledge-graph/ckg-site\n",
      "   1⭐️: causy-dev/causy-components\n",
      "   0⭐️: oceanecowatch/oceanecowatchmap\n"
     ]
    }
   ],
   "source": [
    "import requests\n",
    "import bs4\n",
    "\n",
    "print(\n",
    "    \"\\n\".join(\n",
    "        sorted(\n",
    "            set(\n",
    "                [\n",
    "                    f'{r[\"stargazers_count\"]:4d}⭐️: {r[\"full_name\"].lower()}'\n",
    "                    for s in [\n",
    "                        bs4.BeautifulSoup(requests.get(a[\"link\"]).text).find_all(\n",
    "                            \"span\", {\"class\": \"project-single-link\"}\n",
    "                        )\n",
    "                        for a in requests.get(\n",
    "                            \"https://prototypefund.de/wp-json/wp/v2/project\"\n",
    "                        ).json()[\"items\"]\n",
    "                        if a[\"post_round\"][0][\"slug\"] == \"round_15\"\n",
    "                    ]\n",
    "                    for span in s\n",
    "                    if span and \"github\" in span.a[\"href\"]\n",
    "                    for r in requests.get(\n",
    "                        \"https://api.github.com/search/repositories\",\n",
    "                        headers={\n",
    "                            \"Accept\": \"application/vnd.github.preview\",\n",
    "                            \"Authorization\": \"Bearer github_pat_***REMOVED***\",\n",
    "                        },\n",
    "                        params={\"q\": span.a[\"href\"].split(\"github.com/\")[1]},\n",
    "                    ).json()[\"items\"]\n",
    "                    if span.a[\"href\"].split(\"github.com/\")[1] in r[\"full_name\"]\n",
    "                ]\n",
    "            ),\n",
    "            key=lambda x: int(x.split(\"⭐️: \")[0].strip()),\n",
    "            reverse=True,\n",
    "        )\n",
    "    )\n",
    ")\n"
   ]
  }
 ],
 "metadata": {
  "kernelspec": {
   "display_name": ".venv",
   "language": "python",
   "name": "python3"
  },
  "language_info": {
   "codemirror_mode": {
    "name": "ipython",
    "version": 3
   },
   "file_extension": ".py",
   "mimetype": "text/x-python",
   "name": "python",
   "nbconvert_exporter": "python",
   "pygments_lexer": "ipython3",
   "version": "3.10.14"
  }
 },
 "nbformat": 4,
 "nbformat_minor": 2
}
