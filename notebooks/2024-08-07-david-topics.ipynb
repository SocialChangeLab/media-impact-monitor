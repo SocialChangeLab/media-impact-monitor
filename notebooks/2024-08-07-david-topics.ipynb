{
 "cells": [
  {
   "cell_type": "code",
   "execution_count": 2,
   "metadata": {},
   "outputs": [
    {
     "data": {
      "text/plain": [
       "topics\n",
       "climate policy            26\n",
       "climate change            24\n",
       "Germany                   18\n",
       "activism                   9\n",
       "climate activism           9\n",
       "global warming             9\n",
       "environmental impact       8\n",
       "environmental policy       8\n",
       "flooding                   8\n",
       "extreme weather            7\n",
       "social justice             6\n",
       "environmental activism     6\n",
       "climate goals              6\n",
       "Green Party                5\n",
       "renewable energy           5\n",
       "energy policy              5\n",
       "public opinion             5\n",
       "energy transition          5\n",
       "public safety              5\n",
       "natural disasters          5\n",
       "sustainability             5\n",
       "agriculture                4\n",
       "European elections         4\n",
       "migration policy           4\n",
       "migration                  4\n",
       "Ursula von der Leyen       4\n",
       "government response        4\n",
       "economic policy            3\n",
       "social inequality          3\n",
       "citizens' council          3\n",
       "right-wing extremism       3\n",
       "Fridays for Future         3\n",
       "climate crisis             3\n",
       "democracy                  3\n",
       "political parties          3\n",
       "Green Deal                 3\n",
       "FDP                        3\n",
       "public sentiment           3\n",
       "CDU                        2\n",
       "greenhouse gases           2\n",
       "economic impact            2\n",
       "energy prices              2\n",
       "child welfare              2\n",
       "protest actions            2\n",
       "football                   2\n",
       "methane emissions          2\n",
       "Marlene Engelhorn          2\n",
       "health risks               2\n",
       "automotive industry        2\n",
       "Dresden                    2\n",
       "Name: count, dtype: int64"
      ]
     },
     "execution_count": 2,
     "metadata": {},
     "output_type": "execute_result"
    }
   ],
   "source": [
    "from media_impact_monitor.fulltexts import get_fulltexts, FulltextSearch\n",
    "from datetime import date\n",
    "\n",
    "df = await get_fulltexts(\n",
    "    FulltextSearch(\n",
    "        media_source=\"news_online\",\n",
    "        topic=\"climate_change\",\n",
    "        start_date=date(2024, 1, 1),\n",
    "        end_date=date(2024, 6, 30),\n",
    "    ),\n",
    "    sample_frac=0.01,\n",
    ")\n",
    "df[\"topics\"].explode().value_counts().head(50)\n"
   ]
  },
  {
   "cell_type": "code",
   "execution_count": null,
   "metadata": {},
   "outputs": [],
   "source": []
  }
 ],
 "metadata": {
  "kernelspec": {
   "display_name": ".venv",
   "language": "python",
   "name": "python3"
  },
  "language_info": {
   "codemirror_mode": {
    "name": "ipython",
    "version": 3
   },
   "file_extension": ".py",
   "mimetype": "text/x-python",
   "name": "python",
   "nbconvert_exporter": "python",
   "pygments_lexer": "ipython3",
   "version": "3.10.14"
  }
 },
 "nbformat": 4,
 "nbformat_minor": 2
}
