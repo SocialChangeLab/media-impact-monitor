{
 "cells": [
  {
   "cell_type": "code",
   "execution_count": 3,
   "metadata": {},
   "outputs": [],
   "source": [
    "from media_impact_monitor.events import get_events\n",
    "from media_impact_monitor.types_ import EventSearch\n",
    "\n",
    "df = get_events(\n",
    "    EventSearch(\n",
    "        event_type=\"protest\",\n",
    "        source=\"acled\",\n",
    "        start_date=\"2020-01-01\",\n",
    "        end_date=\"2023-12-31\",\n",
    "    )\n",
    ")"
   ]
  },
  {
   "cell_type": "code",
   "execution_count": 8,
   "metadata": {},
   "outputs": [
    {
     "data": {
      "text/plain": [
       "organizers\n",
       "Fridays for Future                                  933\n",
       "Last Generation (Germany)                           578\n",
       "Extinction Rebellion                                140\n",
       "Ver.di: United Services Union                        58\n",
       "Greenpeace                                           50\n",
       "BUND                                                 47\n",
       "MLPD: Marxist-Leninist Party of Germany              42\n",
       "Ende Gelaende                                        36\n",
       "The Greens (Germany)                                 30\n",
       "REBELL: Youth League Rebel                           28\n",
       "Women (Germany)                                      26\n",
       "ADFC: German Bicycle Club                            21\n",
       "End Fossil: Occupy                                   16\n",
       "Campact                                              15\n",
       "Scientist Rebellion                                  15\n",
       "The Left (Germany)                                   13\n",
       "Attac                                                12\n",
       "GJ: Green Youth (Germany)                            12\n",
       "NABU: Nature and Biodiversity Conservation Union     11\n",
       "Antifa                                               11\n",
       "Name: count, dtype: int64"
      ]
     },
     "execution_count": 8,
     "metadata": {},
     "output_type": "execute_result"
    }
   ],
   "source": [
    "df[df[\"description\"].str.contains(\"climate\", case=False, na=False)][\n",
    "    \"organizers\"\n",
    "].explode().value_counts().head(20)"
   ]
  },
  {
   "cell_type": "code",
   "execution_count": null,
   "metadata": {},
   "outputs": [],
   "source": []
  }
 ],
 "metadata": {
  "kernelspec": {
   "display_name": ".venv",
   "language": "python",
   "name": "python3"
  },
  "language_info": {
   "codemirror_mode": {
    "name": "ipython",
    "version": 3
   },
   "file_extension": ".py",
   "mimetype": "text/x-python",
   "name": "python",
   "nbconvert_exporter": "python",
   "pygments_lexer": "ipython3",
   "version": "3.10.12"
  }
 },
 "nbformat": 4,
 "nbformat_minor": 2
}
