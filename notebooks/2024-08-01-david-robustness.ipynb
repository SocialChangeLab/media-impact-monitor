{
 "cells": [
  {
   "cell_type": "code",
   "execution_count": 1,
   "metadata": {},
   "outputs": [
    {
     "data": {
      "application/vnd.jupyter.widget-view+json": {
       "model_id": "f6b7863d2688437b91438efc05f83767",
       "version_major": 2,
       "version_minor": 0
      },
      "text/plain": [
       "  0%|          | 0/61 [00:00<?, ?it/s]"
      ]
     },
     "metadata": {},
     "output_type": "display_data"
    },
    {
     "data": {
      "application/vnd.jupyter.widget-view+json": {
       "model_id": "b6b78ac8ac874744a9a938efd330ee59",
       "version_major": 2,
       "version_minor": 0
      },
      "text/plain": [
       "  0%|          | 0/100 [00:00<?, ?it/s]"
      ]
     },
     "metadata": {},
     "output_type": "display_data"
    },
    {
     "name": "stdout",
     "output_type": "stream",
     "text": [
      "(72.23773709819604, 16.342415248918076, 12.445979431235617, 43.154160948783826, 19.65989088599037, 31.489302642737563, 37.93403822188865, 10.410240628836286, 10.565841577817942, 13.481927720042476, 8.623961352160103, 59.61348968575099, 64.98710056004805, 8.23389013083646, 11.939405654266075, 10.9261522281724, 55.39527207324757, 39.12015205835854, 8.096668862423618, 56.21886580878691, 72.41673148558934, 127.06110162194246, 38.224336597976446, 9.39228697311403, 12.195655153754828, 109.28359666900711, 12.491134749423713, 19.319279620346435, 48.873263378329305, 9.459583388287868, 19.165018631813204, 104.41437915677642, 22.066150266008204, 9.749095326480798, 44.287178305060884, 103.50765269332416, 8.894918253034346, 34.33689644397229, 40.545658033360546, 49.04422856367916, 16.33909683988372, 41.19757659971648, 29.31489992286724, 13.867315045329384, 69.1459652041582, 153.64231380262314, 105.68113436816958, 7.49420860919982, 55.07500315577418, 5.856353527372048, 8.156171309034509, 105.13400530213842, 11.988298178690394, 201.44787487695783, 10.416585703164662, 47.31812431180462, 10.886127498222114, 32.34060164610057, 89.5125648304218, 20.550776024810464, 39.08700326077655, 13.09436682437374, 11.576154500913853, 35.79370013174282, 32.06752691642139, 11.763769391935258, 76.8249363301606, 12.184592911312523, 8.039577386451954, 15.534957281481297, 19.739125027966804, 99.59157407919645, 9.796233464637455, 10.474758032140928, 6.058193364726167, 105.67757911099227, 18.137620878119378, 90.53170114764335, 15.178712745459242, 8.15393930207166, 17.51511666458355, 154.0987949982564, 125.71347260247603, 8.808727832906577, 10.436514911328251, 24.390758200491277, 9.027522397584164, 21.296949974197158, 60.90526757187097, 79.09966097925877, 67.30544212871023, 9.336528676991252, 47.55555872925737, 14.91317046389699, 36.90008255687262, 9.270415176112973, 124.84014075372468, 12.0213375746783, 14.61939129232592, 8.46655441641126)\n"
     ]
    }
   ],
   "source": [
    "from media_impact_monitor.impact import (\n",
    "    get_impact,\n",
    "    ImpactSearch,\n",
    "    correlation,\n",
    "    time_series_regression,\n",
    "    interrupted_time_series,\n",
    ")\n",
    "from media_impact_monitor.events import get_events, EventSearch\n",
    "from datetime import date\n",
    "from media_impact_monitor.trend import get_trend, TrendSearch\n",
    "import pandas as pd\n",
    "from IPython.display import display, HTML\n",
    "\n",
    "organizers = [\n",
    "    \"Fridays for Future\",\n",
    "    \"Extinction Rebellion\",\n",
    "    \"Last Generation\",\n",
    "    \"Greenpeace\",\n",
    "]\n",
    "organizers = [organizers[1]]\n",
    "methods = [\"correlation\", \"time_series_regression\", \"interrupted_time_series\"]\n",
    "methods = [methods[2]]\n",
    "start_date = date(2022, 1, 1)\n",
    "end_date = date(2024, 1, 1)\n",
    "rows = []\n",
    "for method in methods:\n",
    "    trend = get_trend(\n",
    "        TrendSearch(\n",
    "            trend_type=\"keywords\",\n",
    "            media_source=\"news_print\",\n",
    "            topic=\"climate_change\",\n",
    "            start_date=start_date,\n",
    "            end_date=end_date,\n",
    "        ),\n",
    "        as_json=False,\n",
    "    )[\"climate activism\"].rename(\"count\")\n",
    "    for organizer in organizers:\n",
    "        events = get_events(\n",
    "            EventSearch(\n",
    "                source=\"acled\",\n",
    "                organizers=[organizer],\n",
    "                start_date=start_date,\n",
    "                end_date=end_date,\n",
    "            )\n",
    "        )\n",
    "        aggregation = \"daily\"\n",
    "        match method:\n",
    "            case \"correlation\":\n",
    "                row = dict(\n",
    "                    organizer=organizer,\n",
    "                    method=method,\n",
    "                    aggregation=aggregation,\n",
    "                )\n",
    "                ts, limitations = correlation(\n",
    "                    events=events,\n",
    "                    article_counts=trend,\n",
    "                )\n",
    "                row[\"time_series\"] = ts\n",
    "                rows.append(row)\n",
    "            case \"time_series_regression\":\n",
    "                for lags, ewmas in [\n",
    "                    ([], []),\n",
    "                    ([1], []),\n",
    "                    ([1, 2, 3, 4, 5], []),\n",
    "                    ([4, 5, 6, 7, 8], []),\n",
    "                    ([], [1, 7, 28, 84]),\n",
    "                ]:\n",
    "                    ts, limitations = time_series_regression(\n",
    "                        events=events,\n",
    "                        article_counts=trend,\n",
    "                        lags=lags,\n",
    "                    )\n",
    "                    row = dict(\n",
    "                        organizer=organizer,\n",
    "                        method=method,\n",
    "                        aggregation=aggregation,\n",
    "                        lags=lags,\n",
    "                        ewmas=ewmas,\n",
    "                    )\n",
    "                    row[\"rmse\"] = ts[\"rmse\"].loc[7]\n",
    "                    row[\"rmse_std\"] = ts[\"rmse_std\"].loc[7]\n",
    "                    row[\"ame\"] = ts[\"ame\"].loc[7]\n",
    "                    row[\"ame_std\"] = ts[\"ame_std\"].loc[7]\n",
    "                    row[\"time_series\"] = ts\n",
    "                    rows.append(row)\n",
    "            case \"interrupted_time_series\":\n",
    "                # days = [0, 1, 2, 4, 7]\n",
    "                days = [4]\n",
    "                for hidden_days_before_protest in days:\n",
    "                    row = dict(\n",
    "                        organizer=organizer,\n",
    "                        method=method,\n",
    "                        aggregation=aggregation,\n",
    "                        hidden_days_before_protest=hidden_days_before_protest,\n",
    "                    )\n",
    "                    ts, lims = interrupted_time_series(\n",
    "                        events=events,\n",
    "                        article_counts=trend,\n",
    "                        horizon=14,\n",
    "                        hidden_days_before_protest=hidden_days_before_protest,\n",
    "                        aggregation=aggregation,\n",
    "                    )\n",
    "                    row[\"time_series\"] = ts\n",
    "                    rows.append(row)\n",
    "\n",
    "df = pd.DataFrame(rows)\n"
   ]
  },
  {
   "cell_type": "code",
   "execution_count": 2,
   "metadata": {},
   "outputs": [
    {
     "data": {
      "text/html": [
       "<h1>Extinction Rebellion</h1>"
      ],
      "text/plain": [
       "<IPython.core.display.HTML object>"
      ]
     },
     "metadata": {},
     "output_type": "display_data"
    },
    {
     "data": {
      "text/html": [
       "<table border=\"1\" class=\"dataframe\">\n",
       "  <thead>\n",
       "    <tr style=\"text-align: right;\">\n",
       "      <th></th>\n",
       "      <th>method</th>\n",
       "      <th>aggregation</th>\n",
       "      <th>hidden_days_before_protest</th>\n",
       "      <th>plot</th>\n",
       "    </tr>\n",
       "  </thead>\n",
       "  <tbody>\n",
       "    <tr>\n",
       "      <th>0</th>\n",
       "      <td>interrupted_time_series</td>\n",
       "      <td>daily</td>\n",
       "      <td>4</td>\n",
       "      <td><img src=\"data:image/png;base64,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\"></td>\n",
       "    </tr>\n",
       "  </tbody>\n",
       "</table>"
      ],
      "text/plain": [
       "<IPython.core.display.HTML object>"
      ]
     },
     "metadata": {},
     "output_type": "display_data"
    }
   ],
   "source": [
    "import matplotlib.pyplot as plt\n",
    "import base64\n",
    "from io import BytesIO\n",
    "\n",
    "\n",
    "# Function to create a plot and return it as a base64 encoded string\n",
    "def create_plot(data):\n",
    "    fig, ax = plt.subplots(figsize=(3, 1))\n",
    "    ax.plot(data[\"mean\"])\n",
    "    if \"ci_lower\" in data.columns:\n",
    "        ax.fill_between(\n",
    "            data.index,\n",
    "            data[\"ci_lower\"],\n",
    "            data[\"ci_upper\"],\n",
    "            alpha=0.3,\n",
    "        )\n",
    "    ax.axhline(0, color=\"black\", linewidth=0.5, alpha=0.5)\n",
    "    ax.axvline(0, color=\"black\", linewidth=0.5, alpha=0.5)\n",
    "    ax.axis(\"off\")\n",
    "\n",
    "    buf = BytesIO()\n",
    "    fig.savefig(buf, format=\"png\", bbox_inches=\"tight\", pad_inches=0)\n",
    "    plt.close(fig)\n",
    "    return base64.b64encode(buf.getvalue()).decode(\"utf-8\")\n",
    "\n",
    "\n",
    "# Apply the function to create plots\n",
    "df[\"plot\"] = df[\"time_series\"].apply(create_plot)\n",
    "\n",
    "\n",
    "# Function to display the image in the notebook\n",
    "def display_image(img):\n",
    "    return f'<img src=\"data:image/png;base64,{img}\">'\n",
    "\n",
    "\n",
    "# # Apply the display function\n",
    "df[\"plot\"] = df[\"plot\"].apply(display_image)\n",
    "\n",
    "# Display the DataFrame\n",
    "from IPython.display import HTML\n",
    "\n",
    "for organizer in organizers:\n",
    "    display(HTML(f\"<h1>{organizer}</h1>\"))\n",
    "    df_ = df[df[\"organizer\"] == organizer].drop(columns=\"organizer\")\n",
    "    display(HTML(df_.drop(columns=\"time_series\").fillna(\"\").to_html(escape=False)))\n"
   ]
  }
 ],
 "metadata": {
  "kernelspec": {
   "display_name": "Python 3 (ipykernel)",
   "language": "python",
   "name": "python3"
  },
  "language_info": {
   "codemirror_mode": {
    "name": "ipython",
    "version": 3
   },
   "file_extension": ".py",
   "mimetype": "text/x-python",
   "name": "python",
   "nbconvert_exporter": "python",
   "pygments_lexer": "ipython3",
   "version": "3.10.14"
  }
 },
 "nbformat": 4,
 "nbformat_minor": 2
}
