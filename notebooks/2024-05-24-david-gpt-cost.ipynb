{
 "cells": [
  {
   "cell_type": "markdown",
   "metadata": {},
   "source": [
    "# GPT cost estimation\n",
    "\n",
    "see https://github.com/orgs/SocialChangeLab/projects/2/views/1?pane=issue&itemId=64335549"
   ]
  },
  {
   "cell_type": "code",
   "execution_count": 1,
   "metadata": {},
   "outputs": [],
   "source": [
    "from media_impact_monitor.data_loaders.news_online.mediacloud_ import (\n",
    "    get_mediacloud_counts,\n",
    "    get_mediacloud_fulltexts,\n",
    ")\n",
    "from media_impact_monitor.trends.keyword_trend import topic_queries\n",
    "import pandas as pd\n",
    "from datetime import date\n",
    "\n",
    "# suppress all warnings\n",
    "import warnings\n",
    "\n",
    "warnings.filterwarnings(\"ignore\")"
   ]
  },
  {
   "cell_type": "code",
   "execution_count": 2,
   "metadata": {},
   "outputs": [
    {
     "name": "stderr",
     "output_type": "stream",
     "text": [
      "ERROR:root:Failed to update token costs. Using static costs.\n"
     ]
    }
   ],
   "source": [
    "from tokencost import calculate_prompt_cost, calculate_completion_cost\n",
    "\n",
    "model = \"gpt-3.5-turbo-1106\"\n",
    "\n",
    "\n",
    "def calculate_cost(text):\n",
    "    prompt = [{\"role\": \"user\", \"content\": text}]\n",
    "    completion = '{\"reasoning\": \"This is a very cheerful text.\", \"sentiment\": \"+1\"}'\n",
    "\n",
    "    prompt_cost = calculate_prompt_cost(prompt, model)\n",
    "    completion_cost = calculate_completion_cost(completion, model)\n",
    "    cost = prompt_cost + completion_cost\n",
    "    return cost"
   ]
  },
  {
   "cell_type": "code",
   "execution_count": 3,
   "metadata": {},
   "outputs": [],
   "source": [
    "from faker import Faker\n",
    "from tqdm.auto import tqdm\n",
    "\n",
    "\n",
    "def average_cost(query):\n",
    "    fake = Faker()\n",
    "    fake.seed_instance(0)\n",
    "    fulltexts = []\n",
    "    for _ in tqdm(range(10)):\n",
    "        date_ = fake.date_between(\n",
    "            start_date=date(2022, 1, 1), end_date=\"now\"\n",
    "        )  # random date\n",
    "        _fulltexts = get_mediacloud_fulltexts(\n",
    "            query=query,\n",
    "            countries=[\"Germany\"],\n",
    "            start_date=date_,\n",
    "            end_date=date_,\n",
    "        )\n",
    "        if _fulltexts is not None:\n",
    "            fulltexts.append(_fulltexts)\n",
    "    fulltexts = pd.concat(fulltexts)\n",
    "    fulltexts[\"cost\"] = fulltexts[\"text\"].apply(calculate_cost)\n",
    "    return fulltexts[\"cost\"].mean()"
   ]
  },
  {
   "cell_type": "code",
   "execution_count": 4,
   "metadata": {},
   "outputs": [],
   "source": [
    "def cost_for_topic(query):\n",
    "    counts = get_mediacloud_counts(query=query, countries=[\"Germany\"])\n",
    "    counts.index = pd.to_datetime(counts.index)\n",
    "    # counts.resample(\"Y\").sum().plot()\n",
    "    avg_cost = average_cost(query)\n",
    "    counts_per_year = counts.resample(\"YE\").sum().mean()\n",
    "    cost_per_year = avg_cost * counts_per_year\n",
    "    return counts_per_year, cost_per_year"
   ]
  },
  {
   "cell_type": "code",
   "execution_count": 5,
   "metadata": {},
   "outputs": [
    {
     "data": {
      "text/plain": [
       "{'activism': '(klimawandel OR klimaerwärmung OR erderwärmung OR klimaschutz OR klimagerechtigkeit OR klimapolitik OR klimaneutral* OR klimaneutral* OR klimaziel* OR klimaschutzpaket OR klimaschutzgesetz OR klimaschutzmaßnahmen OR klimaschutzabkommen OR klimaschutzprogramm OR kohleausstieg OR \"erneuerbare energie*\" OR bürgerrat OR gesellschaftsrat OR tempolimit OR \"tempo 100\" OR 9-euro-ticket OR neun-euro-ticket OR vergesellschaftung OR schuldenschnitt OR klimakrise OR klimakatastrophe OR klimakollaps OR klimanotstand OR klimagerechtigkeit) AND (\\\\*protest* OR \\\\*demo OR \\\\*demonstr* OR \\\\*kundgebung OR versamm* OR \\\\*besetz* OR \\\\*streik* OR \\\\*blockade OR \\\\*blockier* OR sitzblock* OR \\\\*aktivis* OR \\\\*marsch OR \\\\*parade OR mahnwache OR hungerstreik OR \"ziviler ungehorsam\")',\n",
       " 'science': 'klimawandel OR klimaerwärmung OR erderwärmung OR klimaschutz OR klimagerechtigkeit OR klimapolitik OR klimaneutral*',\n",
       " 'policy': 'klimaneutral* OR klimaziel* OR klimaschutzpaket OR klimaschutzgesetz OR klimaschutzmaßnahmen OR klimaschutzabkommen OR klimaschutzprogramm OR kohleausstieg OR \"erneuerbare energie*\" OR bürgerrat OR gesellschaftsrat OR tempolimit OR \"tempo 100\" OR 9-euro-ticket OR neun-euro-ticket OR vergesellschaftung OR schuldenschnitt',\n",
       " 'urgency': 'klimakrise OR klimakatastrophe OR klimakollaps OR klimanotstand OR klimagerechtigkeit'}"
      ]
     },
     "execution_count": 5,
     "metadata": {},
     "output_type": "execute_result"
    }
   ],
   "source": [
    "queries = topic_queries(media_source=\"news_online\")\n",
    "queries"
   ]
  },
  {
   "cell_type": "code",
   "execution_count": null,
   "metadata": {},
   "outputs": [],
   "source": [
    "costs = dict()\n",
    "counts = dict()\n",
    "for topic, query in list(queries.items())[:2]:\n",
    "    count, cost = cost_for_topic(query)\n",
    "    costs[topic] = cost\n",
    "    counts[topic] = count"
   ]
  },
  {
   "cell_type": "code",
   "execution_count": 8,
   "metadata": {},
   "outputs": [
    {
     "data": {
      "text/plain": [
       "{'activism': 2017.6666666666667, 'science': 21741.0}"
      ]
     },
     "execution_count": 8,
     "metadata": {},
     "output_type": "execute_result"
    }
   ],
   "source": [
    "counts"
   ]
  },
  {
   "cell_type": "code",
   "execution_count": 9,
   "metadata": {},
   "outputs": [
    {
     "data": {
      "text/plain": [
       "{'activism': 4.737481333333333, 'science': 27.284836842391304}"
      ]
     },
     "execution_count": 9,
     "metadata": {},
     "output_type": "execute_result"
    }
   ],
   "source": [
    "costs"
   ]
  }
 ],
 "metadata": {
  "kernelspec": {
   "display_name": ".venv",
   "language": "python",
   "name": "python3"
  },
  "language_info": {
   "codemirror_mode": {
    "name": "ipython",
    "version": 3
   },
   "file_extension": ".py",
   "mimetype": "text/x-python",
   "name": "python",
   "nbconvert_exporter": "python",
   "pygments_lexer": "ipython3",
   "version": "3.10.12"
  }
 },
 "nbformat": 4,
 "nbformat_minor": 2
}
